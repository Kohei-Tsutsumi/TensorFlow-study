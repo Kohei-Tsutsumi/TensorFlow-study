{
 "cells": [
  {
   "cell_type": "markdown",
   "metadata": {
    "id": "CCQY7jpBfMur"
   },
   "source": [
    "##### Copyright 2018 The TensorFlow Authors."
   ]
  },
  {
   "cell_type": "code",
   "execution_count": 4,
   "metadata": {
    "cellView": "form",
    "execution": {
     "iopub.execute_input": "2021-04-07T01:28:31.981707Z",
     "iopub.status.busy": "2021-04-07T01:28:31.981073Z",
     "iopub.status.idle": "2021-04-07T01:28:31.982835Z",
     "shell.execute_reply": "2021-04-07T01:28:31.983179Z"
    },
    "id": "z6X9omPnfO_h"
   },
   "outputs": [],
   "source": [
    "#@title Licensed under the Apache License, Version 2.0 (the \"License\");\n",
    "# you may not use this file except in compliance with the License.\n",
    "# You may obtain a copy of the License at\n",
    "#\n",
    "# https://www.apache.org/licenses/LICENSE-2.0\n",
    "#\n",
    "# Unless required by applicable law or agreed to in writing, software\n",
    "# distributed under the License is distributed on an \"AS IS\" BASIS,\n",
    "# WITHOUT WARRANTIES OR CONDITIONS OF ANY KIND, either express or implied.\n",
    "# See the License for the specific language governing permissions and\n",
    "# limitations under the License."
   ]
  },
  {
   "cell_type": "markdown",
   "metadata": {
    "id": "2QQJJyDzqGRb"
   },
   "source": [
    "# Eager execution\n"
   ]
  },
  {
   "cell_type": "markdown",
   "metadata": {
    "id": "B1xdylywqUSX"
   },
   "source": [
    "<table class=\"tfo-notebook-buttons\" align=\"left\">\n",
    "  <td>\n",
    "    <a target=\"_blank\" href=\"https://www.tensorflow.org/guide/eager\"><img src=\"https://www.tensorflow.org/images/tf_logo_32px.png\" />View on TensorFlow.org</a>\n",
    "  </td>\n",
    "  <td>\n",
    "    <a target=\"_blank\" href=\"https://colab.research.google.com/github/tensorflow/docs/blob/master/site/en/guide/eager.ipynb\"><img src=\"https://www.tensorflow.org/images/colab_logo_32px.png\" />Run in Google Colab</a>\n",
    "  </td>\n",
    "  <td>\n",
    "    <a target=\"_blank\" href=\"https://github.com/tensorflow/docs/blob/master/site/en/guide/eager.ipynb\"><img src=\"https://www.tensorflow.org/images/GitHub-Mark-32px.png\" />View source on GitHub</a>\n",
    "  </td>\n",
    "  <td>\n",
    "    <a href=\"https://storage.googleapis.com/tensorflow_docs/docs/site/en/guide/eager.ipynb\"><img src=\"https://www.tensorflow.org/images/download_logo_32px.png\" />Download notebook</a>\n",
    "  </td>\n",
    "</table>"
   ]
  },
  {
   "cell_type": "markdown",
   "metadata": {
    "id": "EGjDcGxIqEfX"
   },
   "source": [
    "TensorFlow's eager execution is an imperative programming environment that\n",
    "evaluates operations immediately, without building graphs: operations return\n",
    "concrete values instead of constructing a computational graph to run later. This\n",
    "makes it easy to get started with TensorFlow and debug models, and it\n",
    "reduces boilerplate as well. To follow along with this guide, run the code\n",
    "samples below in an interactive `python` interpreter.\n",
    "\n",
    "Eager execution is a flexible machine learning platform for research and\n",
    "experimentation, providing:\n",
    "\n",
    "* *An intuitive interface*—Structure your code naturally and use Python data\n",
    "  structures. Quickly iterate on small models and small data.\n",
    "* *Easier debugging*—Call ops directly to inspect running models and test\n",
    "  changes. Use standard Python debugging tools for immediate error reporting.\n",
    "* *Natural control flow*—Use Python control flow instead of graph control\n",
    "  flow, simplifying the specification of dynamic models.\n",
    "\n",
    "Eager execution supports most TensorFlow operations and GPU acceleration.\n",
    "\n",
    "Note: Some models may experience increased overhead with eager execution\n",
    "enabled. Performance improvements are ongoing, but please\n",
    "[file a bug](https://github.com/tensorflow/tensorflow/issues) if you find a\n",
    "problem and share your benchmarks."
   ]
  },
  {
   "source": [
    "eager executionというのはグラフを作成せずにインタラクティブに値を評価する仕様のことをさすようです。\n",
    "どうやらver1までの仕様と異なるようなのですがver1を使ったことがなくあまりピンときていません。\n",
    "\n",
    "今まではインタラクティブに値を評価して返してくれていなかったらしい？？？\n",
    "\n",
    "グラフもこのGuideで紹介されますが、グラフは演算の高速化とpython以外の環境へのエクスポート(これは自分の理解が怪しい)を可能にしているようです。"
   ],
   "cell_type": "markdown",
   "metadata": {}
  },
  {
   "cell_type": "markdown",
   "metadata": {
    "id": "RBAeIwOMrYk8"
   },
   "source": [
    "## Setup and basic usage"
   ]
  },
  {
   "cell_type": "code",
   "execution_count": 5,
   "metadata": {
    "execution": {
     "iopub.execute_input": "2021-04-07T01:28:31.990830Z",
     "iopub.status.busy": "2021-04-07T01:28:31.990260Z",
     "iopub.status.idle": "2021-04-07T01:28:38.134161Z",
     "shell.execute_reply": "2021-04-07T01:28:38.133547Z"
    },
    "id": "ByNsp4VqqEfa"
   },
   "outputs": [],
   "source": [
    "import os\n",
    "\n",
    "import tensorflow as tf\n",
    "\n",
    "import cProfile"
   ]
  },
  {
   "cell_type": "markdown",
   "metadata": {
    "id": "48P3-8q4qEfe"
   },
   "source": [
    "In Tensorflow 2.0, eager execution is enabled by default."
   ]
  },
  {
   "cell_type": "code",
   "execution_count": 6,
   "metadata": {
    "execution": {
     "iopub.execute_input": "2021-04-07T01:28:38.143015Z",
     "iopub.status.busy": "2021-04-07T01:28:38.142433Z",
     "iopub.status.idle": "2021-04-07T01:28:38.147130Z",
     "shell.execute_reply": "2021-04-07T01:28:38.147534Z"
    },
    "id": "7aFsD8csqEff"
   },
   "outputs": [
    {
     "output_type": "execute_result",
     "data": {
      "text/plain": [
       "True"
      ]
     },
     "metadata": {},
     "execution_count": 6
    }
   ],
   "source": [
    "tf.executing_eagerly() # この設定でeager executionを切り替えるようだ"
   ]
  },
  {
   "cell_type": "markdown",
   "metadata": {
    "id": "x_G1zZT5qEfh"
   },
   "source": [
    "Now you can run TensorFlow operations and the results will return immediately:"
   ]
  },
  {
   "cell_type": "code",
   "execution_count": 7,
   "metadata": {
    "execution": {
     "iopub.execute_input": "2021-04-07T01:28:46.535942Z",
     "iopub.status.busy": "2021-04-07T01:28:46.535174Z",
     "iopub.status.idle": "2021-04-07T01:28:47.158106Z",
     "shell.execute_reply": "2021-04-07T01:28:47.158483Z"
    },
    "id": "9gsI54pbqEfj"
   },
   "outputs": [
    {
     "output_type": "stream",
     "name": "stdout",
     "text": [
      "hello, [[4.]]\n"
     ]
    }
   ],
   "source": [
    "x = [[2.]]\n",
    "m = tf.matmul(x, x)\n",
    "print(\"hello, {}\".format(m))"
   ]
  },
  {
   "cell_type": "markdown",
   "metadata": {
    "id": "ajFn6qsdqEfl"
   },
   "source": [
    "Enabling eager execution changes how TensorFlow operations behave—now they\n",
    "immediately evaluate and return their values to Python. `tf.Tensor` objects\n",
    "reference concrete values instead of symbolic handles to nodes in a computational\n",
    "graph. Since there isn't a computational graph to build and run later in a\n",
    "session, it's easy to inspect results using `print()` or a debugger. Evaluating,\n",
    "printing, and checking tensor values does not break the flow for computing\n",
    "gradients.\n",
    "\n",
    "Eager execution works nicely with [NumPy](http://www.numpy.org/). NumPy\n",
    "operations accept `tf.Tensor` arguments. The TensorFlow\n",
    "`tf.math` operations convert\n",
    "Python objects and NumPy arrays to `tf.Tensor` objects. The\n",
    "`tf.Tensor.numpy` method returns the object's value as a NumPy `ndarray`."
   ]
  },
  {
   "source": [
    "どうやら、デバッグなどもやりやすいような説明が書いてありますが、わかるようなわからないような・・・gradientsの計算を中断せずにテンソルの評価、print、チェックができるらしいです。\n",
    "\n",
    "また、eager exeはpython objectとNumPy arrayをtf.Tensorに自動的に変換してくれるらしいです。"
   ],
   "cell_type": "markdown",
   "metadata": {}
  },
  {
   "cell_type": "code",
   "execution_count": 8,
   "metadata": {
    "execution": {
     "iopub.execute_input": "2021-04-07T01:28:47.163323Z",
     "iopub.status.busy": "2021-04-07T01:28:47.162718Z",
     "iopub.status.idle": "2021-04-07T01:28:47.164790Z",
     "shell.execute_reply": "2021-04-07T01:28:47.165148Z"
    },
    "id": "sTO0_5TYqz1n"
   },
   "outputs": [
    {
     "output_type": "stream",
     "name": "stdout",
     "text": [
      "tf.Tensor(\n[[1 2]\n [3 4]], shape=(2, 2), dtype=int32)\n"
     ]
    }
   ],
   "source": [
    "a = tf.constant([[1, 2],\n",
    "                 [3, 4]])\n",
    "print(a)"
   ]
  },
  {
   "cell_type": "code",
   "execution_count": 9,
   "metadata": {
    "execution": {
     "iopub.execute_input": "2021-04-07T01:28:47.168578Z",
     "iopub.status.busy": "2021-04-07T01:28:47.167948Z",
     "iopub.status.idle": "2021-04-07T01:28:47.170805Z",
     "shell.execute_reply": "2021-04-07T01:28:47.170384Z"
    },
    "id": "Dp14YT8Gq4r1"
   },
   "outputs": [
    {
     "output_type": "stream",
     "name": "stdout",
     "text": [
      "tf.Tensor(\n[[2 3]\n [4 5]], shape=(2, 2), dtype=int32)\n"
     ]
    }
   ],
   "source": [
    "# Broadcasting support\n",
    "b = tf.add(a, 1)\n",
    "print(b)"
   ]
  },
  {
   "cell_type": "code",
   "execution_count": 10,
   "metadata": {
    "execution": {
     "iopub.execute_input": "2021-04-07T01:28:47.174223Z",
     "iopub.status.busy": "2021-04-07T01:28:47.173602Z",
     "iopub.status.idle": "2021-04-07T01:28:47.175956Z",
     "shell.execute_reply": "2021-04-07T01:28:47.176342Z"
    },
    "id": "69p3waMfq8cQ"
   },
   "outputs": [
    {
     "output_type": "stream",
     "name": "stdout",
     "text": [
      "tf.Tensor(\n[[ 2  6]\n [12 20]], shape=(2, 2), dtype=int32)\n"
     ]
    }
   ],
   "source": [
    "# Operator overloading is supported\n",
    "print(a * b)"
   ]
  },
  {
   "cell_type": "code",
   "execution_count": 11,
   "metadata": {
    "execution": {
     "iopub.execute_input": "2021-04-07T01:28:47.180030Z",
     "iopub.status.busy": "2021-04-07T01:28:47.179479Z",
     "iopub.status.idle": "2021-04-07T01:28:47.181806Z",
     "shell.execute_reply": "2021-04-07T01:28:47.181365Z"
    },
    "id": "Ui025t1qqEfm"
   },
   "outputs": [
    {
     "output_type": "stream",
     "name": "stdout",
     "text": [
      "[[ 2  6]\n [12 20]]\n"
     ]
    }
   ],
   "source": [
    "# Use NumPy values\n",
    "import numpy as np\n",
    "\n",
    "c = np.multiply(a, b)\n",
    "print(c)"
   ]
  },
  {
   "cell_type": "code",
   "execution_count": 12,
   "metadata": {
    "execution": {
     "iopub.execute_input": "2021-04-07T01:28:47.185069Z",
     "iopub.status.busy": "2021-04-07T01:28:47.184505Z",
     "iopub.status.idle": "2021-04-07T01:28:47.186910Z",
     "shell.execute_reply": "2021-04-07T01:28:47.186500Z"
    },
    "id": "Tq_aFRzWrCua"
   },
   "outputs": [
    {
     "output_type": "stream",
     "name": "stdout",
     "text": [
      "[[1 2]\n [3 4]]\n"
     ]
    }
   ],
   "source": [
    "# Obtain numpy value from a tensor:\n",
    "print(a.numpy())\n",
    "# => [[1 2]\n",
    "#     [3 4]]"
   ]
  },
  {
   "cell_type": "markdown",
   "metadata": {
    "id": "H08f9ss9qEft"
   },
   "source": [
    "## Dynamic control flow\n",
    "\n",
    "A major benefit of eager execution is that all the functionality of the host\n",
    "language is available while your model is executing. So, for example,\n",
    "it is easy to write [fizzbuzz](https://en.wikipedia.org/wiki/Fizz_buzz):"
   ]
  },
  {
   "source": [
    "host language (今だとpython)の構文を使えることも利点らしいがむしろ使えないことあるのかわからないのでよくわかっていませんw"
   ],
   "cell_type": "markdown",
   "metadata": {}
  },
  {
   "cell_type": "code",
   "execution_count": 13,
   "metadata": {
    "execution": {
     "iopub.execute_input": "2021-04-07T01:28:47.192317Z",
     "iopub.status.busy": "2021-04-07T01:28:47.191738Z",
     "iopub.status.idle": "2021-04-07T01:28:47.193857Z",
     "shell.execute_reply": "2021-04-07T01:28:47.193349Z"
    },
    "id": "0fudRMeUqEfu"
   },
   "outputs": [],
   "source": [
    "def fizzbuzz(max_num):\n",
    "  counter = tf.constant(0)\n",
    "  max_num = tf.convert_to_tensor(max_num)\n",
    "  for num in range(1, max_num.numpy()+1):\n",
    "    num = tf.constant(num)\n",
    "    if int(num % 3) == 0 and int(num % 5) == 0:\n",
    "      print('FizzBuzz')\n",
    "    elif int(num % 3) == 0:\n",
    "      print('Fizz')\n",
    "    elif int(num % 5) == 0:\n",
    "      print('Buzz')\n",
    "    else:\n",
    "      print(num.numpy())\n",
    "    counter += 1"
   ]
  },
  {
   "cell_type": "code",
   "execution_count": 14,
   "metadata": {
    "execution": {
     "iopub.execute_input": "2021-04-07T01:28:47.197280Z",
     "iopub.status.busy": "2021-04-07T01:28:47.196703Z",
     "iopub.status.idle": "2021-04-07T01:28:47.202572Z",
     "shell.execute_reply": "2021-04-07T01:28:47.202910Z"
    },
    "id": "P2cKknQWrJLB"
   },
   "outputs": [
    {
     "output_type": "stream",
     "name": "stdout",
     "text": [
      "1\n2\nFizz\n4\nBuzz\nFizz\n7\n8\nFizz\nBuzz\n11\nFizz\n13\n14\nFizzBuzz\n"
     ]
    }
   ],
   "source": [
    "fizzbuzz(15)"
   ]
  },
  {
   "cell_type": "markdown",
   "metadata": {
    "id": "7kA-aC3BqEfy"
   },
   "source": [
    "This has conditionals that depend on tensor values and it prints these values\n",
    "at runtime."
   ]
  },
  {
   "cell_type": "markdown",
   "metadata": {
    "id": "8huKpuuAwICq"
   },
   "source": [
    "## Eager training"
   ]
  },
  {
   "cell_type": "markdown",
   "metadata": {
    "id": "mp2lCCZYrxHd"
   },
   "source": [
    "### Computing gradients\n",
    "\n",
    "[Automatic differentiation](https://en.wikipedia.org/wiki/Automatic_differentiation)\n",
    "is useful for implementing machine learning algorithms such as\n",
    "[backpropagation](https://en.wikipedia.org/wiki/Backpropagation) for training\n",
    "neural networks. During eager execution, use `tf.GradientTape` to trace\n",
    "operations for computing gradients later.\n",
    "\n",
    "You can use `tf.GradientTape` to train and/or compute gradients in eager. It is especially useful for complicated training loops.  \n",
    "\n",
    "Since different operations can occur during each call, all\n",
    "forward-pass operations get recorded to a \"tape\". To compute the gradient, play\n",
    "the tape backwards and then discard. A particular `tf.GradientTape` can only\n",
    "compute one gradient; subsequent calls throw a runtime error."
   ]
  },
  {
   "source": [
    "eager exe時は、勾配を計算するためにオペレーションをtraceするためにtf.GragiendTapeを使うそうです。\n",
    "\n",
    "tf.GragiendTapeはまた別でGuideが用意されていますのでそちらで仕様を確認します。"
   ],
   "cell_type": "markdown",
   "metadata": {}
  },
  {
   "cell_type": "code",
   "execution_count": 15,
   "metadata": {
    "execution": {
     "iopub.execute_input": "2021-04-07T01:28:47.207091Z",
     "iopub.status.busy": "2021-04-07T01:28:47.206508Z",
     "iopub.status.idle": "2021-04-07T01:28:47.215273Z",
     "shell.execute_reply": "2021-04-07T01:28:47.214835Z"
    },
    "id": "7g1yWiSXqEf-"
   },
   "outputs": [
    {
     "output_type": "stream",
     "name": "stdout",
     "text": [
      "tf.Tensor([[2.]], shape=(1, 1), dtype=float32)\n"
     ]
    }
   ],
   "source": [
    "w = tf.Variable([[1.0]])\n",
    "with tf.GradientTape() as tape:\n",
    "  loss = w * w\n",
    "\n",
    "grad = tape.gradient(loss, w)\n",
    "print(grad)  # => tf.Tensor([[ 2.]], shape=(1, 1), dtype=float32)"
   ]
  },
  {
   "cell_type": "markdown",
   "metadata": {
    "id": "vkHs32GqweYS"
   },
   "source": [
    "### Train a model\n",
    "\n",
    "The following example creates a multi-layer model that classifies the standard\n",
    "MNIST handwritten digits. It demonstrates the optimizer and layer APIs to build\n",
    "trainable graphs in an eager execution environment."
   ]
  },
  {
   "cell_type": "code",
   "execution_count": 16,
   "metadata": {
    "execution": {
     "iopub.execute_input": "2021-04-07T01:28:47.219769Z",
     "iopub.status.busy": "2021-04-07T01:28:47.219204Z",
     "iopub.status.idle": "2021-04-07T01:28:48.418691Z",
     "shell.execute_reply": "2021-04-07T01:28:48.418058Z"
    },
    "id": "38kymXZowhhz"
   },
   "outputs": [],
   "source": [
    "# Fetch and format the mnist data\n",
    "(mnist_images, mnist_labels), _ = tf.keras.datasets.mnist.load_data()\n",
    "\n",
    "dataset = tf.data.Dataset.from_tensor_slices(\n",
    "  (tf.cast(mnist_images[...,tf.newaxis]/255, tf.float32),\n",
    "   tf.cast(mnist_labels,tf.int64)))\n",
    "dataset = dataset.shuffle(1000).batch(32)"
   ]
  },
  {
   "cell_type": "code",
   "execution_count": 17,
   "metadata": {
    "execution": {
     "iopub.execute_input": "2021-04-07T01:28:48.442143Z",
     "iopub.status.busy": "2021-04-07T01:28:48.441553Z",
     "iopub.status.idle": "2021-04-07T01:28:48.472924Z",
     "shell.execute_reply": "2021-04-07T01:28:48.472484Z"
    },
    "id": "rl1K8rOowmwT"
   },
   "outputs": [],
   "source": [
    "# Build the model\n",
    "mnist_model = tf.keras.Sequential([\n",
    "  tf.keras.layers.Conv2D(16,[3,3], activation='relu',\n",
    "                         input_shape=(None, None, 1)),\n",
    "  tf.keras.layers.Conv2D(16,[3,3], activation='relu'),\n",
    "  tf.keras.layers.GlobalAveragePooling2D(),\n",
    "  tf.keras.layers.Dense(10)\n",
    "])"
   ]
  },
  {
   "cell_type": "markdown",
   "metadata": {
    "id": "fvyk-HgGwxwl"
   },
   "source": [
    "Even without training, call the model and inspect the output in eager execution:\n",
    "\n",
    "trainingしなくてもデータを入力して出力が得られることがどうやら特徴らしい？"
   ]
  },
  {
   "cell_type": "code",
   "execution_count": 18,
   "metadata": {
    "execution": {
     "iopub.execute_input": "2021-04-07T01:28:48.476963Z",
     "iopub.status.busy": "2021-04-07T01:28:48.476405Z",
     "iopub.status.idle": "2021-04-07T01:28:57.864907Z",
     "shell.execute_reply": "2021-04-07T01:28:57.864345Z"
    },
    "id": "BsxystjBwxLS"
   },
   "outputs": [
    {
     "output_type": "stream",
     "name": "stdout",
     "text": [
      "Logits:  [[ 0.00103229 -0.03310084 -0.04860664 -0.04609301 -0.00029328 -0.00189325\n  -0.02040279 -0.0196947   0.02577876 -0.01089733]]\n"
     ]
    }
   ],
   "source": [
    "for images,labels in dataset.take(1):\n",
    "  print(\"Logits: \", mnist_model(images[0:1]).numpy())"
   ]
  },
  {
   "cell_type": "markdown",
   "metadata": {
    "id": "Y3PGa8G7qEgB"
   },
   "source": [
    "While keras models have a builtin training loop (using the `fit` method), sometimes you need more customization. Here's an example, of a training loop implemented with eager:"
   ]
  },
  {
   "cell_type": "code",
   "execution_count": 19,
   "metadata": {
    "execution": {
     "iopub.execute_input": "2021-04-07T01:28:57.870052Z",
     "iopub.status.busy": "2021-04-07T01:28:57.869470Z",
     "iopub.status.idle": "2021-04-07T01:28:57.871588Z",
     "shell.execute_reply": "2021-04-07T01:28:57.871166Z"
    },
    "id": "bzRhM7JDnaEG"
   },
   "outputs": [],
   "source": [
    "optimizer = tf.keras.optimizers.Adam()\n",
    "loss_object = tf.keras.losses.SparseCategoricalCrossentropy(from_logits=True)\n",
    "\n",
    "loss_history = []"
   ]
  },
  {
   "cell_type": "markdown",
   "metadata": {
    "id": "tXaupYXRI2YM"
   },
   "source": [
    "Note: Use the assert functions in `tf.debugging` to check if a condition holds up. This works in eager and graph execution."
   ]
  },
  {
   "cell_type": "code",
   "execution_count": 20,
   "metadata": {
    "execution": {
     "iopub.execute_input": "2021-04-07T01:28:57.876612Z",
     "iopub.status.busy": "2021-04-07T01:28:57.876060Z",
     "iopub.status.idle": "2021-04-07T01:28:57.877999Z",
     "shell.execute_reply": "2021-04-07T01:28:57.877572Z"
    },
    "id": "DDHrigtiCIA4"
   },
   "outputs": [],
   "source": [
    "def train_step(images, labels):\n",
    "  with tf.GradientTape() as tape:\n",
    "    logits = mnist_model(images, training=True)\n",
    "    \n",
    "    # Add asserts to check the shape of the output.\n",
    "    # 32はバッチの数だとおもわれ\n",
    "    tf.debugging.assert_equal(logits.shape, (32, 10))\n",
    "    \n",
    "    # 損失を計算\n",
    "    loss_value = loss_object(labels, logits)\n",
    "\n",
    "  loss_history.append(loss_value.numpy().mean())\n",
    "\n",
    "  # 勾配の計算\n",
    "  grads = tape.gradient(loss_value, mnist_model.trainable_variables)\n",
    "\n",
    "  # mnist_modelの係数の更新\n",
    "  optimizer.apply_gradients(zip(grads, mnist_model.trainable_variables))"
   ]
  },
  {
   "source": [
    "`optimizer.apply_gradients`メソッドは[tf.keras.optimizers.Optimizer](https://www.tensorflow.org/api_docs/python/tf/keras/optimizers/Optimizer)のメソッドです。"
   ],
   "cell_type": "markdown",
   "metadata": {}
  },
  {
   "cell_type": "code",
   "execution_count": 21,
   "metadata": {
    "execution": {
     "iopub.execute_input": "2021-04-07T01:28:57.882005Z",
     "iopub.status.busy": "2021-04-07T01:28:57.881427Z",
     "iopub.status.idle": "2021-04-07T01:28:57.883383Z",
     "shell.execute_reply": "2021-04-07T01:28:57.882978Z"
    },
    "id": "0m1xAXrmqEgJ"
   },
   "outputs": [],
   "source": [
    "def train(epochs):\n",
    "  for epoch in range(epochs):\n",
    "    for (batch, (images, labels)) in enumerate(dataset):\n",
    "      train_step(images, labels)\n",
    "    print ('Epoch {} finished'.format(epoch))"
   ]
  },
  {
   "cell_type": "code",
   "execution_count": 22,
   "metadata": {
    "execution": {
     "iopub.execute_input": "2021-04-07T01:28:57.887969Z",
     "iopub.status.busy": "2021-04-07T01:28:57.887414Z",
     "iopub.status.idle": "2021-04-07T01:29:40.516277Z",
     "shell.execute_reply": "2021-04-07T01:29:40.516625Z"
    },
    "id": "C5dGz0p_nf4W"
   },
   "outputs": [
    {
     "output_type": "stream",
     "name": "stdout",
     "text": [
      "Epoch 0 finished\n",
      "Epoch 1 finished\n",
      "Epoch 2 finished\n"
     ]
    }
   ],
   "source": [
    "train(epochs = 3)"
   ]
  },
  {
   "cell_type": "code",
   "execution_count": 23,
   "metadata": {
    "execution": {
     "iopub.execute_input": "2021-04-07T01:29:40.520834Z",
     "iopub.status.busy": "2021-04-07T01:29:40.520253Z",
     "iopub.status.idle": "2021-04-07T01:29:41.267469Z",
     "shell.execute_reply": "2021-04-07T01:29:41.267009Z"
    },
    "id": "5vG5ql_2vYB5"
   },
   "outputs": [
    {
     "output_type": "execute_result",
     "data": {
      "text/plain": [
       "Text(0, 0.5, 'Loss [entropy]')"
      ]
     },
     "metadata": {},
     "execution_count": 23
    },
    {
     "output_type": "display_data",
     "data": {
      "text/plain": "<Figure size 432x288 with 1 Axes>",
      "image/svg+xml": "<?xml version=\"1.0\" encoding=\"utf-8\" standalone=\"no\"?>\n<!DOCTYPE svg PUBLIC \"-//W3C//DTD SVG 1.1//EN\"\n  \"http://www.w3.org/Graphics/SVG/1.1/DTD/svg11.dtd\">\n<!-- Created with matplotlib (https://matplotlib.org/) -->\n<svg height=\"265.346547pt\" version=\"1.1\" viewBox=\"0 0 385.78125 265.346547\" width=\"385.78125pt\" xmlns=\"http://www.w3.org/2000/svg\" xmlns:xlink=\"http://www.w3.org/1999/xlink\">\n <metadata>\n  <rdf:RDF xmlns:cc=\"http://creativecommons.org/ns#\" xmlns:dc=\"http://purl.org/dc/elements/1.1/\" xmlns:rdf=\"http://www.w3.org/1999/02/22-rdf-syntax-ns#\">\n   <cc:Work>\n    <dc:type rdf:resource=\"http://purl.org/dc/dcmitype/StillImage\"/>\n    <dc:date>2021-06-27T21:21:24.764873</dc:date>\n    <dc:format>image/svg+xml</dc:format>\n    <dc:creator>\n     <cc:Agent>\n      <dc:title>Matplotlib v3.3.4, https://matplotlib.org/</dc:title>\n     </cc:Agent>\n    </dc:creator>\n   </cc:Work>\n  </rdf:RDF>\n </metadata>\n <defs>\n  <style type=\"text/css\">*{stroke-linecap:butt;stroke-linejoin:round;}</style>\n </defs>\n <g id=\"figure_1\">\n  <g id=\"patch_1\">\n   <path d=\"M 0 265.346547 \nL 385.78125 265.346547 \nL 385.78125 0 \nL 0 0 \nz\n\" style=\"fill:none;\"/>\n  </g>\n  <g id=\"axes_1\">\n   <g id=\"patch_2\">\n    <path d=\"M 43.78125 227.790297 \nL 378.58125 227.790297 \nL 378.58125 10.350297 \nL 43.78125 10.350297 \nz\n\" style=\"fill:#ffffff;\"/>\n   </g>\n   <g id=\"matplotlib.axis_1\">\n    <g id=\"xtick_1\">\n     <g id=\"line2d_1\">\n      <defs>\n       <path d=\"M 0 0 \nL 0 3.5 \n\" id=\"m19e8c38b68\" style=\"stroke:#000000;stroke-width:0.8;\"/>\n      </defs>\n      <g>\n       <use style=\"stroke:#000000;stroke-width:0.8;\" x=\"58.999432\" xlink:href=\"#m19e8c38b68\" y=\"227.790297\"/>\n      </g>\n     </g>\n     <g id=\"text_1\">\n      <!-- 0 -->\n      <g transform=\"translate(55.818182 242.388734)scale(0.1 -0.1)\">\n       <defs>\n        <path d=\"M 31.78125 66.40625 \nQ 24.171875 66.40625 20.328125 58.90625 \nQ 16.5 51.421875 16.5 36.375 \nQ 16.5 21.390625 20.328125 13.890625 \nQ 24.171875 6.390625 31.78125 6.390625 \nQ 39.453125 6.390625 43.28125 13.890625 \nQ 47.125 21.390625 47.125 36.375 \nQ 47.125 51.421875 43.28125 58.90625 \nQ 39.453125 66.40625 31.78125 66.40625 \nz\nM 31.78125 74.21875 \nQ 44.046875 74.21875 50.515625 64.515625 \nQ 56.984375 54.828125 56.984375 36.375 \nQ 56.984375 17.96875 50.515625 8.265625 \nQ 44.046875 -1.421875 31.78125 -1.421875 \nQ 19.53125 -1.421875 13.0625 8.265625 \nQ 6.59375 17.96875 6.59375 36.375 \nQ 6.59375 54.828125 13.0625 64.515625 \nQ 19.53125 74.21875 31.78125 74.21875 \nz\n\" id=\"DejaVuSans-48\"/>\n       </defs>\n       <use xlink:href=\"#DejaVuSans-48\"/>\n      </g>\n     </g>\n    </g>\n    <g id=\"xtick_2\">\n     <g id=\"line2d_2\">\n      <g>\n       <use style=\"stroke:#000000;stroke-width:0.8;\" x=\"113.118144\" xlink:href=\"#m19e8c38b68\" y=\"227.790297\"/>\n      </g>\n     </g>\n     <g id=\"text_2\">\n      <!-- 1000 -->\n      <g transform=\"translate(100.393144 242.388734)scale(0.1 -0.1)\">\n       <defs>\n        <path d=\"M 12.40625 8.296875 \nL 28.515625 8.296875 \nL 28.515625 63.921875 \nL 10.984375 60.40625 \nL 10.984375 69.390625 \nL 28.421875 72.90625 \nL 38.28125 72.90625 \nL 38.28125 8.296875 \nL 54.390625 8.296875 \nL 54.390625 0 \nL 12.40625 0 \nz\n\" id=\"DejaVuSans-49\"/>\n       </defs>\n       <use xlink:href=\"#DejaVuSans-49\"/>\n       <use x=\"63.623047\" xlink:href=\"#DejaVuSans-48\"/>\n       <use x=\"127.246094\" xlink:href=\"#DejaVuSans-48\"/>\n       <use x=\"190.869141\" xlink:href=\"#DejaVuSans-48\"/>\n      </g>\n     </g>\n    </g>\n    <g id=\"xtick_3\">\n     <g id=\"line2d_3\">\n      <g>\n       <use style=\"stroke:#000000;stroke-width:0.8;\" x=\"167.236856\" xlink:href=\"#m19e8c38b68\" y=\"227.790297\"/>\n      </g>\n     </g>\n     <g id=\"text_3\">\n      <!-- 2000 -->\n      <g transform=\"translate(154.511856 242.388734)scale(0.1 -0.1)\">\n       <defs>\n        <path d=\"M 19.1875 8.296875 \nL 53.609375 8.296875 \nL 53.609375 0 \nL 7.328125 0 \nL 7.328125 8.296875 \nQ 12.9375 14.109375 22.625 23.890625 \nQ 32.328125 33.6875 34.8125 36.53125 \nQ 39.546875 41.84375 41.421875 45.53125 \nQ 43.3125 49.21875 43.3125 52.78125 \nQ 43.3125 58.59375 39.234375 62.25 \nQ 35.15625 65.921875 28.609375 65.921875 \nQ 23.96875 65.921875 18.8125 64.3125 \nQ 13.671875 62.703125 7.8125 59.421875 \nL 7.8125 69.390625 \nQ 13.765625 71.78125 18.9375 73 \nQ 24.125 74.21875 28.421875 74.21875 \nQ 39.75 74.21875 46.484375 68.546875 \nQ 53.21875 62.890625 53.21875 53.421875 \nQ 53.21875 48.921875 51.53125 44.890625 \nQ 49.859375 40.875 45.40625 35.40625 \nQ 44.1875 33.984375 37.640625 27.21875 \nQ 31.109375 20.453125 19.1875 8.296875 \nz\n\" id=\"DejaVuSans-50\"/>\n       </defs>\n       <use xlink:href=\"#DejaVuSans-50\"/>\n       <use x=\"63.623047\" xlink:href=\"#DejaVuSans-48\"/>\n       <use x=\"127.246094\" xlink:href=\"#DejaVuSans-48\"/>\n       <use x=\"190.869141\" xlink:href=\"#DejaVuSans-48\"/>\n      </g>\n     </g>\n    </g>\n    <g id=\"xtick_4\">\n     <g id=\"line2d_4\">\n      <g>\n       <use style=\"stroke:#000000;stroke-width:0.8;\" x=\"221.355568\" xlink:href=\"#m19e8c38b68\" y=\"227.790297\"/>\n      </g>\n     </g>\n     <g id=\"text_4\">\n      <!-- 3000 -->\n      <g transform=\"translate(208.630568 242.388734)scale(0.1 -0.1)\">\n       <defs>\n        <path d=\"M 40.578125 39.3125 \nQ 47.65625 37.796875 51.625 33 \nQ 55.609375 28.21875 55.609375 21.1875 \nQ 55.609375 10.40625 48.1875 4.484375 \nQ 40.765625 -1.421875 27.09375 -1.421875 \nQ 22.515625 -1.421875 17.65625 -0.515625 \nQ 12.796875 0.390625 7.625 2.203125 \nL 7.625 11.71875 \nQ 11.71875 9.328125 16.59375 8.109375 \nQ 21.484375 6.890625 26.8125 6.890625 \nQ 36.078125 6.890625 40.9375 10.546875 \nQ 45.796875 14.203125 45.796875 21.1875 \nQ 45.796875 27.640625 41.28125 31.265625 \nQ 36.765625 34.90625 28.71875 34.90625 \nL 20.21875 34.90625 \nL 20.21875 43.015625 \nL 29.109375 43.015625 \nQ 36.375 43.015625 40.234375 45.921875 \nQ 44.09375 48.828125 44.09375 54.296875 \nQ 44.09375 59.90625 40.109375 62.90625 \nQ 36.140625 65.921875 28.71875 65.921875 \nQ 24.65625 65.921875 20.015625 65.03125 \nQ 15.375 64.15625 9.8125 62.3125 \nL 9.8125 71.09375 \nQ 15.4375 72.65625 20.34375 73.4375 \nQ 25.25 74.21875 29.59375 74.21875 \nQ 40.828125 74.21875 47.359375 69.109375 \nQ 53.90625 64.015625 53.90625 55.328125 \nQ 53.90625 49.265625 50.4375 45.09375 \nQ 46.96875 40.921875 40.578125 39.3125 \nz\n\" id=\"DejaVuSans-51\"/>\n       </defs>\n       <use xlink:href=\"#DejaVuSans-51\"/>\n       <use x=\"63.623047\" xlink:href=\"#DejaVuSans-48\"/>\n       <use x=\"127.246094\" xlink:href=\"#DejaVuSans-48\"/>\n       <use x=\"190.869141\" xlink:href=\"#DejaVuSans-48\"/>\n      </g>\n     </g>\n    </g>\n    <g id=\"xtick_5\">\n     <g id=\"line2d_5\">\n      <g>\n       <use style=\"stroke:#000000;stroke-width:0.8;\" x=\"275.47428\" xlink:href=\"#m19e8c38b68\" y=\"227.790297\"/>\n      </g>\n     </g>\n     <g id=\"text_5\">\n      <!-- 4000 -->\n      <g transform=\"translate(262.74928 242.388734)scale(0.1 -0.1)\">\n       <defs>\n        <path d=\"M 37.796875 64.3125 \nL 12.890625 25.390625 \nL 37.796875 25.390625 \nz\nM 35.203125 72.90625 \nL 47.609375 72.90625 \nL 47.609375 25.390625 \nL 58.015625 25.390625 \nL 58.015625 17.1875 \nL 47.609375 17.1875 \nL 47.609375 0 \nL 37.796875 0 \nL 37.796875 17.1875 \nL 4.890625 17.1875 \nL 4.890625 26.703125 \nz\n\" id=\"DejaVuSans-52\"/>\n       </defs>\n       <use xlink:href=\"#DejaVuSans-52\"/>\n       <use x=\"63.623047\" xlink:href=\"#DejaVuSans-48\"/>\n       <use x=\"127.246094\" xlink:href=\"#DejaVuSans-48\"/>\n       <use x=\"190.869141\" xlink:href=\"#DejaVuSans-48\"/>\n      </g>\n     </g>\n    </g>\n    <g id=\"xtick_6\">\n     <g id=\"line2d_6\">\n      <g>\n       <use style=\"stroke:#000000;stroke-width:0.8;\" x=\"329.592992\" xlink:href=\"#m19e8c38b68\" y=\"227.790297\"/>\n      </g>\n     </g>\n     <g id=\"text_6\">\n      <!-- 5000 -->\n      <g transform=\"translate(316.867992 242.388734)scale(0.1 -0.1)\">\n       <defs>\n        <path d=\"M 10.796875 72.90625 \nL 49.515625 72.90625 \nL 49.515625 64.59375 \nL 19.828125 64.59375 \nL 19.828125 46.734375 \nQ 21.96875 47.46875 24.109375 47.828125 \nQ 26.265625 48.1875 28.421875 48.1875 \nQ 40.625 48.1875 47.75 41.5 \nQ 54.890625 34.8125 54.890625 23.390625 \nQ 54.890625 11.625 47.5625 5.09375 \nQ 40.234375 -1.421875 26.90625 -1.421875 \nQ 22.3125 -1.421875 17.546875 -0.640625 \nQ 12.796875 0.140625 7.71875 1.703125 \nL 7.71875 11.625 \nQ 12.109375 9.234375 16.796875 8.0625 \nQ 21.484375 6.890625 26.703125 6.890625 \nQ 35.15625 6.890625 40.078125 11.328125 \nQ 45.015625 15.765625 45.015625 23.390625 \nQ 45.015625 31 40.078125 35.4375 \nQ 35.15625 39.890625 26.703125 39.890625 \nQ 22.75 39.890625 18.8125 39.015625 \nQ 14.890625 38.140625 10.796875 36.28125 \nz\n\" id=\"DejaVuSans-53\"/>\n       </defs>\n       <use xlink:href=\"#DejaVuSans-53\"/>\n       <use x=\"63.623047\" xlink:href=\"#DejaVuSans-48\"/>\n       <use x=\"127.246094\" xlink:href=\"#DejaVuSans-48\"/>\n       <use x=\"190.869141\" xlink:href=\"#DejaVuSans-48\"/>\n      </g>\n     </g>\n    </g>\n    <g id=\"text_7\">\n     <!-- Batch # -->\n     <g transform=\"translate(191.029687 256.066859)scale(0.1 -0.1)\">\n      <defs>\n       <path d=\"M 19.671875 34.8125 \nL 19.671875 8.109375 \nL 35.5 8.109375 \nQ 43.453125 8.109375 47.28125 11.40625 \nQ 51.125 14.703125 51.125 21.484375 \nQ 51.125 28.328125 47.28125 31.5625 \nQ 43.453125 34.8125 35.5 34.8125 \nz\nM 19.671875 64.796875 \nL 19.671875 42.828125 \nL 34.28125 42.828125 \nQ 41.5 42.828125 45.03125 45.53125 \nQ 48.578125 48.25 48.578125 53.8125 \nQ 48.578125 59.328125 45.03125 62.0625 \nQ 41.5 64.796875 34.28125 64.796875 \nz\nM 9.8125 72.90625 \nL 35.015625 72.90625 \nQ 46.296875 72.90625 52.390625 68.21875 \nQ 58.5 63.53125 58.5 54.890625 \nQ 58.5 48.1875 55.375 44.234375 \nQ 52.25 40.28125 46.1875 39.3125 \nQ 53.46875 37.75 57.5 32.78125 \nQ 61.53125 27.828125 61.53125 20.40625 \nQ 61.53125 10.640625 54.890625 5.3125 \nQ 48.25 0 35.984375 0 \nL 9.8125 0 \nz\n\" id=\"DejaVuSans-66\"/>\n       <path d=\"M 34.28125 27.484375 \nQ 23.390625 27.484375 19.1875 25 \nQ 14.984375 22.515625 14.984375 16.5 \nQ 14.984375 11.71875 18.140625 8.90625 \nQ 21.296875 6.109375 26.703125 6.109375 \nQ 34.1875 6.109375 38.703125 11.40625 \nQ 43.21875 16.703125 43.21875 25.484375 \nL 43.21875 27.484375 \nz\nM 52.203125 31.203125 \nL 52.203125 0 \nL 43.21875 0 \nL 43.21875 8.296875 \nQ 40.140625 3.328125 35.546875 0.953125 \nQ 30.953125 -1.421875 24.3125 -1.421875 \nQ 15.921875 -1.421875 10.953125 3.296875 \nQ 6 8.015625 6 15.921875 \nQ 6 25.140625 12.171875 29.828125 \nQ 18.359375 34.515625 30.609375 34.515625 \nL 43.21875 34.515625 \nL 43.21875 35.40625 \nQ 43.21875 41.609375 39.140625 45 \nQ 35.0625 48.390625 27.6875 48.390625 \nQ 23 48.390625 18.546875 47.265625 \nQ 14.109375 46.140625 10.015625 43.890625 \nL 10.015625 52.203125 \nQ 14.9375 54.109375 19.578125 55.046875 \nQ 24.21875 56 28.609375 56 \nQ 40.484375 56 46.34375 49.84375 \nQ 52.203125 43.703125 52.203125 31.203125 \nz\n\" id=\"DejaVuSans-97\"/>\n       <path d=\"M 18.3125 70.21875 \nL 18.3125 54.6875 \nL 36.8125 54.6875 \nL 36.8125 47.703125 \nL 18.3125 47.703125 \nL 18.3125 18.015625 \nQ 18.3125 11.328125 20.140625 9.421875 \nQ 21.96875 7.515625 27.59375 7.515625 \nL 36.8125 7.515625 \nL 36.8125 0 \nL 27.59375 0 \nQ 17.1875 0 13.234375 3.875 \nQ 9.28125 7.765625 9.28125 18.015625 \nL 9.28125 47.703125 \nL 2.6875 47.703125 \nL 2.6875 54.6875 \nL 9.28125 54.6875 \nL 9.28125 70.21875 \nz\n\" id=\"DejaVuSans-116\"/>\n       <path d=\"M 48.78125 52.59375 \nL 48.78125 44.1875 \nQ 44.96875 46.296875 41.140625 47.34375 \nQ 37.3125 48.390625 33.40625 48.390625 \nQ 24.65625 48.390625 19.8125 42.84375 \nQ 14.984375 37.3125 14.984375 27.296875 \nQ 14.984375 17.28125 19.8125 11.734375 \nQ 24.65625 6.203125 33.40625 6.203125 \nQ 37.3125 6.203125 41.140625 7.25 \nQ 44.96875 8.296875 48.78125 10.40625 \nL 48.78125 2.09375 \nQ 45.015625 0.34375 40.984375 -0.53125 \nQ 36.96875 -1.421875 32.421875 -1.421875 \nQ 20.0625 -1.421875 12.78125 6.34375 \nQ 5.515625 14.109375 5.515625 27.296875 \nQ 5.515625 40.671875 12.859375 48.328125 \nQ 20.21875 56 33.015625 56 \nQ 37.15625 56 41.109375 55.140625 \nQ 45.0625 54.296875 48.78125 52.59375 \nz\n\" id=\"DejaVuSans-99\"/>\n       <path d=\"M 54.890625 33.015625 \nL 54.890625 0 \nL 45.90625 0 \nL 45.90625 32.71875 \nQ 45.90625 40.484375 42.875 44.328125 \nQ 39.84375 48.1875 33.796875 48.1875 \nQ 26.515625 48.1875 22.3125 43.546875 \nQ 18.109375 38.921875 18.109375 30.90625 \nL 18.109375 0 \nL 9.078125 0 \nL 9.078125 75.984375 \nL 18.109375 75.984375 \nL 18.109375 46.1875 \nQ 21.34375 51.125 25.703125 53.5625 \nQ 30.078125 56 35.796875 56 \nQ 45.21875 56 50.046875 50.171875 \nQ 54.890625 44.34375 54.890625 33.015625 \nz\n\" id=\"DejaVuSans-104\"/>\n       <path id=\"DejaVuSans-32\"/>\n       <path d=\"M 51.125 44 \nL 36.921875 44 \nL 32.8125 27.6875 \nL 47.125 27.6875 \nz\nM 43.796875 71.78125 \nL 38.71875 51.515625 \nL 52.984375 51.515625 \nL 58.109375 71.78125 \nL 65.921875 71.78125 \nL 60.890625 51.515625 \nL 76.125 51.515625 \nL 76.125 44 \nL 58.984375 44 \nL 54.984375 27.6875 \nL 70.515625 27.6875 \nL 70.515625 20.21875 \nL 53.078125 20.21875 \nL 48 0 \nL 40.1875 0 \nL 45.21875 20.21875 \nL 30.90625 20.21875 \nL 25.875 0 \nL 18.015625 0 \nL 23.09375 20.21875 \nL 7.71875 20.21875 \nL 7.71875 27.6875 \nL 24.90625 27.6875 \nL 29 44 \nL 13.28125 44 \nL 13.28125 51.515625 \nL 30.90625 51.515625 \nL 35.890625 71.78125 \nz\n\" id=\"DejaVuSans-35\"/>\n      </defs>\n      <use xlink:href=\"#DejaVuSans-66\"/>\n      <use x=\"68.603516\" xlink:href=\"#DejaVuSans-97\"/>\n      <use x=\"129.882812\" xlink:href=\"#DejaVuSans-116\"/>\n      <use x=\"169.091797\" xlink:href=\"#DejaVuSans-99\"/>\n      <use x=\"224.072266\" xlink:href=\"#DejaVuSans-104\"/>\n      <use x=\"287.451172\" xlink:href=\"#DejaVuSans-32\"/>\n      <use x=\"319.238281\" xlink:href=\"#DejaVuSans-35\"/>\n     </g>\n    </g>\n   </g>\n   <g id=\"matplotlib.axis_2\">\n    <g id=\"ytick_1\">\n     <g id=\"line2d_7\">\n      <defs>\n       <path d=\"M 0 0 \nL -3.5 0 \n\" id=\"m62cb75d44b\" style=\"stroke:#000000;stroke-width:0.8;\"/>\n      </defs>\n      <g>\n       <use style=\"stroke:#000000;stroke-width:0.8;\" x=\"43.78125\" xlink:href=\"#m62cb75d44b\" y=\"223.881431\"/>\n      </g>\n     </g>\n     <g id=\"text_8\">\n      <!-- 0.8 -->\n      <g transform=\"translate(20.878125 227.680649)scale(0.1 -0.1)\">\n       <defs>\n        <path d=\"M 10.6875 12.40625 \nL 21 12.40625 \nL 21 0 \nL 10.6875 0 \nz\n\" id=\"DejaVuSans-46\"/>\n        <path d=\"M 31.78125 34.625 \nQ 24.75 34.625 20.71875 30.859375 \nQ 16.703125 27.09375 16.703125 20.515625 \nQ 16.703125 13.921875 20.71875 10.15625 \nQ 24.75 6.390625 31.78125 6.390625 \nQ 38.8125 6.390625 42.859375 10.171875 \nQ 46.921875 13.96875 46.921875 20.515625 \nQ 46.921875 27.09375 42.890625 30.859375 \nQ 38.875 34.625 31.78125 34.625 \nz\nM 21.921875 38.8125 \nQ 15.578125 40.375 12.03125 44.71875 \nQ 8.5 49.078125 8.5 55.328125 \nQ 8.5 64.0625 14.71875 69.140625 \nQ 20.953125 74.21875 31.78125 74.21875 \nQ 42.671875 74.21875 48.875 69.140625 \nQ 55.078125 64.0625 55.078125 55.328125 \nQ 55.078125 49.078125 51.53125 44.71875 \nQ 48 40.375 41.703125 38.8125 \nQ 48.828125 37.15625 52.796875 32.3125 \nQ 56.78125 27.484375 56.78125 20.515625 \nQ 56.78125 9.90625 50.3125 4.234375 \nQ 43.84375 -1.421875 31.78125 -1.421875 \nQ 19.734375 -1.421875 13.25 4.234375 \nQ 6.78125 9.90625 6.78125 20.515625 \nQ 6.78125 27.484375 10.78125 32.3125 \nQ 14.796875 37.15625 21.921875 38.8125 \nz\nM 18.3125 54.390625 \nQ 18.3125 48.734375 21.84375 45.5625 \nQ 25.390625 42.390625 31.78125 42.390625 \nQ 38.140625 42.390625 41.71875 45.5625 \nQ 45.3125 48.734375 45.3125 54.390625 \nQ 45.3125 60.0625 41.71875 63.234375 \nQ 38.140625 66.40625 31.78125 66.40625 \nQ 25.390625 66.40625 21.84375 63.234375 \nQ 18.3125 60.0625 18.3125 54.390625 \nz\n\" id=\"DejaVuSans-56\"/>\n       </defs>\n       <use xlink:href=\"#DejaVuSans-48\"/>\n       <use x=\"63.623047\" xlink:href=\"#DejaVuSans-46\"/>\n       <use x=\"95.410156\" xlink:href=\"#DejaVuSans-56\"/>\n      </g>\n     </g>\n    </g>\n    <g id=\"ytick_2\">\n     <g id=\"line2d_8\">\n      <g>\n       <use style=\"stroke:#000000;stroke-width:0.8;\" x=\"43.78125\" xlink:href=\"#m62cb75d44b\" y=\"197.271154\"/>\n      </g>\n     </g>\n     <g id=\"text_9\">\n      <!-- 1.0 -->\n      <g transform=\"translate(20.878125 201.070373)scale(0.1 -0.1)\">\n       <use xlink:href=\"#DejaVuSans-49\"/>\n       <use x=\"63.623047\" xlink:href=\"#DejaVuSans-46\"/>\n       <use x=\"95.410156\" xlink:href=\"#DejaVuSans-48\"/>\n      </g>\n     </g>\n    </g>\n    <g id=\"ytick_3\">\n     <g id=\"line2d_9\">\n      <g>\n       <use style=\"stroke:#000000;stroke-width:0.8;\" x=\"43.78125\" xlink:href=\"#m62cb75d44b\" y=\"170.660878\"/>\n      </g>\n     </g>\n     <g id=\"text_10\">\n      <!-- 1.2 -->\n      <g transform=\"translate(20.878125 174.460096)scale(0.1 -0.1)\">\n       <use xlink:href=\"#DejaVuSans-49\"/>\n       <use x=\"63.623047\" xlink:href=\"#DejaVuSans-46\"/>\n       <use x=\"95.410156\" xlink:href=\"#DejaVuSans-50\"/>\n      </g>\n     </g>\n    </g>\n    <g id=\"ytick_4\">\n     <g id=\"line2d_10\">\n      <g>\n       <use style=\"stroke:#000000;stroke-width:0.8;\" x=\"43.78125\" xlink:href=\"#m62cb75d44b\" y=\"144.050601\"/>\n      </g>\n     </g>\n     <g id=\"text_11\">\n      <!-- 1.4 -->\n      <g transform=\"translate(20.878125 147.84982)scale(0.1 -0.1)\">\n       <use xlink:href=\"#DejaVuSans-49\"/>\n       <use x=\"63.623047\" xlink:href=\"#DejaVuSans-46\"/>\n       <use x=\"95.410156\" xlink:href=\"#DejaVuSans-52\"/>\n      </g>\n     </g>\n    </g>\n    <g id=\"ytick_5\">\n     <g id=\"line2d_11\">\n      <g>\n       <use style=\"stroke:#000000;stroke-width:0.8;\" x=\"43.78125\" xlink:href=\"#m62cb75d44b\" y=\"117.440325\"/>\n      </g>\n     </g>\n     <g id=\"text_12\">\n      <!-- 1.6 -->\n      <g transform=\"translate(20.878125 121.239543)scale(0.1 -0.1)\">\n       <defs>\n        <path d=\"M 33.015625 40.375 \nQ 26.375 40.375 22.484375 35.828125 \nQ 18.609375 31.296875 18.609375 23.390625 \nQ 18.609375 15.53125 22.484375 10.953125 \nQ 26.375 6.390625 33.015625 6.390625 \nQ 39.65625 6.390625 43.53125 10.953125 \nQ 47.40625 15.53125 47.40625 23.390625 \nQ 47.40625 31.296875 43.53125 35.828125 \nQ 39.65625 40.375 33.015625 40.375 \nz\nM 52.59375 71.296875 \nL 52.59375 62.3125 \nQ 48.875 64.0625 45.09375 64.984375 \nQ 41.3125 65.921875 37.59375 65.921875 \nQ 27.828125 65.921875 22.671875 59.328125 \nQ 17.53125 52.734375 16.796875 39.40625 \nQ 19.671875 43.65625 24.015625 45.921875 \nQ 28.375 48.1875 33.59375 48.1875 \nQ 44.578125 48.1875 50.953125 41.515625 \nQ 57.328125 34.859375 57.328125 23.390625 \nQ 57.328125 12.15625 50.6875 5.359375 \nQ 44.046875 -1.421875 33.015625 -1.421875 \nQ 20.359375 -1.421875 13.671875 8.265625 \nQ 6.984375 17.96875 6.984375 36.375 \nQ 6.984375 53.65625 15.1875 63.9375 \nQ 23.390625 74.21875 37.203125 74.21875 \nQ 40.921875 74.21875 44.703125 73.484375 \nQ 48.484375 72.75 52.59375 71.296875 \nz\n\" id=\"DejaVuSans-54\"/>\n       </defs>\n       <use xlink:href=\"#DejaVuSans-49\"/>\n       <use x=\"63.623047\" xlink:href=\"#DejaVuSans-46\"/>\n       <use x=\"95.410156\" xlink:href=\"#DejaVuSans-54\"/>\n      </g>\n     </g>\n    </g>\n    <g id=\"ytick_6\">\n     <g id=\"line2d_12\">\n      <g>\n       <use style=\"stroke:#000000;stroke-width:0.8;\" x=\"43.78125\" xlink:href=\"#m62cb75d44b\" y=\"90.830048\"/>\n      </g>\n     </g>\n     <g id=\"text_13\">\n      <!-- 1.8 -->\n      <g transform=\"translate(20.878125 94.629267)scale(0.1 -0.1)\">\n       <use xlink:href=\"#DejaVuSans-49\"/>\n       <use x=\"63.623047\" xlink:href=\"#DejaVuSans-46\"/>\n       <use x=\"95.410156\" xlink:href=\"#DejaVuSans-56\"/>\n      </g>\n     </g>\n    </g>\n    <g id=\"ytick_7\">\n     <g id=\"line2d_13\">\n      <g>\n       <use style=\"stroke:#000000;stroke-width:0.8;\" x=\"43.78125\" xlink:href=\"#m62cb75d44b\" y=\"64.219772\"/>\n      </g>\n     </g>\n     <g id=\"text_14\">\n      <!-- 2.0 -->\n      <g transform=\"translate(20.878125 68.01899)scale(0.1 -0.1)\">\n       <use xlink:href=\"#DejaVuSans-50\"/>\n       <use x=\"63.623047\" xlink:href=\"#DejaVuSans-46\"/>\n       <use x=\"95.410156\" xlink:href=\"#DejaVuSans-48\"/>\n      </g>\n     </g>\n    </g>\n    <g id=\"ytick_8\">\n     <g id=\"line2d_14\">\n      <g>\n       <use style=\"stroke:#000000;stroke-width:0.8;\" x=\"43.78125\" xlink:href=\"#m62cb75d44b\" y=\"37.609495\"/>\n      </g>\n     </g>\n     <g id=\"text_15\">\n      <!-- 2.2 -->\n      <g transform=\"translate(20.878125 41.408714)scale(0.1 -0.1)\">\n       <use xlink:href=\"#DejaVuSans-50\"/>\n       <use x=\"63.623047\" xlink:href=\"#DejaVuSans-46\"/>\n       <use x=\"95.410156\" xlink:href=\"#DejaVuSans-50\"/>\n      </g>\n     </g>\n    </g>\n    <g id=\"ytick_9\">\n     <g id=\"line2d_15\">\n      <g>\n       <use style=\"stroke:#000000;stroke-width:0.8;\" x=\"43.78125\" xlink:href=\"#m62cb75d44b\" y=\"10.999219\"/>\n      </g>\n     </g>\n     <g id=\"text_16\">\n      <!-- 2.4 -->\n      <g transform=\"translate(20.878125 14.798437)scale(0.1 -0.1)\">\n       <use xlink:href=\"#DejaVuSans-50\"/>\n       <use x=\"63.623047\" xlink:href=\"#DejaVuSans-46\"/>\n       <use x=\"95.410156\" xlink:href=\"#DejaVuSans-52\"/>\n      </g>\n     </g>\n    </g>\n    <g id=\"text_17\">\n     <!-- Loss [entropy] -->\n     <g transform=\"translate(14.798438 154.869516)rotate(-90)scale(0.1 -0.1)\">\n      <defs>\n       <path d=\"M 9.8125 72.90625 \nL 19.671875 72.90625 \nL 19.671875 8.296875 \nL 55.171875 8.296875 \nL 55.171875 0 \nL 9.8125 0 \nz\n\" id=\"DejaVuSans-76\"/>\n       <path d=\"M 30.609375 48.390625 \nQ 23.390625 48.390625 19.1875 42.75 \nQ 14.984375 37.109375 14.984375 27.296875 \nQ 14.984375 17.484375 19.15625 11.84375 \nQ 23.34375 6.203125 30.609375 6.203125 \nQ 37.796875 6.203125 41.984375 11.859375 \nQ 46.1875 17.53125 46.1875 27.296875 \nQ 46.1875 37.015625 41.984375 42.703125 \nQ 37.796875 48.390625 30.609375 48.390625 \nz\nM 30.609375 56 \nQ 42.328125 56 49.015625 48.375 \nQ 55.71875 40.765625 55.71875 27.296875 \nQ 55.71875 13.875 49.015625 6.21875 \nQ 42.328125 -1.421875 30.609375 -1.421875 \nQ 18.84375 -1.421875 12.171875 6.21875 \nQ 5.515625 13.875 5.515625 27.296875 \nQ 5.515625 40.765625 12.171875 48.375 \nQ 18.84375 56 30.609375 56 \nz\n\" id=\"DejaVuSans-111\"/>\n       <path d=\"M 44.28125 53.078125 \nL 44.28125 44.578125 \nQ 40.484375 46.53125 36.375 47.5 \nQ 32.28125 48.484375 27.875 48.484375 \nQ 21.1875 48.484375 17.84375 46.4375 \nQ 14.5 44.390625 14.5 40.28125 \nQ 14.5 37.15625 16.890625 35.375 \nQ 19.28125 33.59375 26.515625 31.984375 \nL 29.59375 31.296875 \nQ 39.15625 29.25 43.1875 25.515625 \nQ 47.21875 21.78125 47.21875 15.09375 \nQ 47.21875 7.46875 41.1875 3.015625 \nQ 35.15625 -1.421875 24.609375 -1.421875 \nQ 20.21875 -1.421875 15.453125 -0.5625 \nQ 10.6875 0.296875 5.421875 2 \nL 5.421875 11.28125 \nQ 10.40625 8.6875 15.234375 7.390625 \nQ 20.0625 6.109375 24.8125 6.109375 \nQ 31.15625 6.109375 34.5625 8.28125 \nQ 37.984375 10.453125 37.984375 14.40625 \nQ 37.984375 18.0625 35.515625 20.015625 \nQ 33.0625 21.96875 24.703125 23.78125 \nL 21.578125 24.515625 \nQ 13.234375 26.265625 9.515625 29.90625 \nQ 5.8125 33.546875 5.8125 39.890625 \nQ 5.8125 47.609375 11.28125 51.796875 \nQ 16.75 56 26.8125 56 \nQ 31.78125 56 36.171875 55.265625 \nQ 40.578125 54.546875 44.28125 53.078125 \nz\n\" id=\"DejaVuSans-115\"/>\n       <path d=\"M 8.59375 75.984375 \nL 29.296875 75.984375 \nL 29.296875 69 \nL 17.578125 69 \nL 17.578125 -6.203125 \nL 29.296875 -6.203125 \nL 29.296875 -13.1875 \nL 8.59375 -13.1875 \nz\n\" id=\"DejaVuSans-91\"/>\n       <path d=\"M 56.203125 29.59375 \nL 56.203125 25.203125 \nL 14.890625 25.203125 \nQ 15.484375 15.921875 20.484375 11.0625 \nQ 25.484375 6.203125 34.421875 6.203125 \nQ 39.59375 6.203125 44.453125 7.46875 \nQ 49.3125 8.734375 54.109375 11.28125 \nL 54.109375 2.78125 \nQ 49.265625 0.734375 44.1875 -0.34375 \nQ 39.109375 -1.421875 33.890625 -1.421875 \nQ 20.796875 -1.421875 13.15625 6.1875 \nQ 5.515625 13.8125 5.515625 26.8125 \nQ 5.515625 40.234375 12.765625 48.109375 \nQ 20.015625 56 32.328125 56 \nQ 43.359375 56 49.78125 48.890625 \nQ 56.203125 41.796875 56.203125 29.59375 \nz\nM 47.21875 32.234375 \nQ 47.125 39.59375 43.09375 43.984375 \nQ 39.0625 48.390625 32.421875 48.390625 \nQ 24.90625 48.390625 20.390625 44.140625 \nQ 15.875 39.890625 15.1875 32.171875 \nz\n\" id=\"DejaVuSans-101\"/>\n       <path d=\"M 54.890625 33.015625 \nL 54.890625 0 \nL 45.90625 0 \nL 45.90625 32.71875 \nQ 45.90625 40.484375 42.875 44.328125 \nQ 39.84375 48.1875 33.796875 48.1875 \nQ 26.515625 48.1875 22.3125 43.546875 \nQ 18.109375 38.921875 18.109375 30.90625 \nL 18.109375 0 \nL 9.078125 0 \nL 9.078125 54.6875 \nL 18.109375 54.6875 \nL 18.109375 46.1875 \nQ 21.34375 51.125 25.703125 53.5625 \nQ 30.078125 56 35.796875 56 \nQ 45.21875 56 50.046875 50.171875 \nQ 54.890625 44.34375 54.890625 33.015625 \nz\n\" id=\"DejaVuSans-110\"/>\n       <path d=\"M 41.109375 46.296875 \nQ 39.59375 47.171875 37.8125 47.578125 \nQ 36.03125 48 33.890625 48 \nQ 26.265625 48 22.1875 43.046875 \nQ 18.109375 38.09375 18.109375 28.8125 \nL 18.109375 0 \nL 9.078125 0 \nL 9.078125 54.6875 \nL 18.109375 54.6875 \nL 18.109375 46.1875 \nQ 20.953125 51.171875 25.484375 53.578125 \nQ 30.03125 56 36.53125 56 \nQ 37.453125 56 38.578125 55.875 \nQ 39.703125 55.765625 41.0625 55.515625 \nz\n\" id=\"DejaVuSans-114\"/>\n       <path d=\"M 18.109375 8.203125 \nL 18.109375 -20.796875 \nL 9.078125 -20.796875 \nL 9.078125 54.6875 \nL 18.109375 54.6875 \nL 18.109375 46.390625 \nQ 20.953125 51.265625 25.265625 53.625 \nQ 29.59375 56 35.59375 56 \nQ 45.5625 56 51.78125 48.09375 \nQ 58.015625 40.1875 58.015625 27.296875 \nQ 58.015625 14.40625 51.78125 6.484375 \nQ 45.5625 -1.421875 35.59375 -1.421875 \nQ 29.59375 -1.421875 25.265625 0.953125 \nQ 20.953125 3.328125 18.109375 8.203125 \nz\nM 48.6875 27.296875 \nQ 48.6875 37.203125 44.609375 42.84375 \nQ 40.53125 48.484375 33.40625 48.484375 \nQ 26.265625 48.484375 22.1875 42.84375 \nQ 18.109375 37.203125 18.109375 27.296875 \nQ 18.109375 17.390625 22.1875 11.75 \nQ 26.265625 6.109375 33.40625 6.109375 \nQ 40.53125 6.109375 44.609375 11.75 \nQ 48.6875 17.390625 48.6875 27.296875 \nz\n\" id=\"DejaVuSans-112\"/>\n       <path d=\"M 32.171875 -5.078125 \nQ 28.375 -14.84375 24.75 -17.8125 \nQ 21.140625 -20.796875 15.09375 -20.796875 \nL 7.90625 -20.796875 \nL 7.90625 -13.28125 \nL 13.1875 -13.28125 \nQ 16.890625 -13.28125 18.9375 -11.515625 \nQ 21 -9.765625 23.484375 -3.21875 \nL 25.09375 0.875 \nL 2.984375 54.6875 \nL 12.5 54.6875 \nL 29.59375 11.921875 \nL 46.6875 54.6875 \nL 56.203125 54.6875 \nz\n\" id=\"DejaVuSans-121\"/>\n       <path d=\"M 30.421875 75.984375 \nL 30.421875 -13.1875 \nL 9.71875 -13.1875 \nL 9.71875 -6.203125 \nL 21.390625 -6.203125 \nL 21.390625 69 \nL 9.71875 69 \nL 9.71875 75.984375 \nz\n\" id=\"DejaVuSans-93\"/>\n      </defs>\n      <use xlink:href=\"#DejaVuSans-76\"/>\n      <use x=\"53.962891\" xlink:href=\"#DejaVuSans-111\"/>\n      <use x=\"115.144531\" xlink:href=\"#DejaVuSans-115\"/>\n      <use x=\"167.244141\" xlink:href=\"#DejaVuSans-115\"/>\n      <use x=\"219.34375\" xlink:href=\"#DejaVuSans-32\"/>\n      <use x=\"251.130859\" xlink:href=\"#DejaVuSans-91\"/>\n      <use x=\"290.144531\" xlink:href=\"#DejaVuSans-101\"/>\n      <use x=\"351.667969\" xlink:href=\"#DejaVuSans-110\"/>\n      <use x=\"415.046875\" xlink:href=\"#DejaVuSans-116\"/>\n      <use x=\"454.255859\" xlink:href=\"#DejaVuSans-114\"/>\n      <use x=\"493.119141\" xlink:href=\"#DejaVuSans-111\"/>\n      <use x=\"554.300781\" xlink:href=\"#DejaVuSans-112\"/>\n      <use x=\"617.777344\" xlink:href=\"#DejaVuSans-121\"/>\n      <use x=\"676.957031\" xlink:href=\"#DejaVuSans-93\"/>\n     </g>\n    </g>\n   </g>\n   <g id=\"line2d_16\">\n    <path clip-path=\"url(#p3bf4ff2a89)\" d=\"M 58.999432 23.757319 \nL 59.161788 24.683123 \nL 59.270025 22.934103 \nL 59.432382 25.089386 \nL 59.4865 22.926807 \nL 59.540619 24.915359 \nL 59.594738 23.148829 \nL 59.648856 23.936865 \nL 59.811212 25.268107 \nL 59.973569 23.840779 \nL 60.027687 23.789643 \nL 60.081806 25.967702 \nL 60.135925 25.401783 \nL 60.298281 23.944827 \nL 60.3524 24.354357 \nL 60.406518 22.727689 \nL 60.460637 23.904762 \nL 60.514756 23.547351 \nL 60.568874 26.750536 \nL 60.622993 24.200537 \nL 60.677112 25.080408 \nL 60.731231 23.571936 \nL 60.785349 24.117997 \nL 60.839468 24.068321 \nL 61.001824 25.795167 \nL 61.055943 25.320512 \nL 61.110062 23.09985 \nL 61.16418 25.344144 \nL 61.218299 24.699714 \nL 61.272418 25.788664 \nL 61.326536 24.169831 \nL 61.380655 25.701841 \nL 61.543011 24.177571 \nL 61.59713 24.965734 \nL 61.651249 23.943146 \nL 61.705367 25.496886 \nL 61.759486 22.119484 \nL 61.813605 26.164727 \nL 61.867724 24.573556 \nL 61.921842 23.500657 \nL 61.975961 26.341958 \nL 62.03008 25.071875 \nL 62.192436 23.938356 \nL 62.246555 27.753393 \nL 62.354792 23.702376 \nL 62.463029 26.251867 \nL 62.517148 25.04802 \nL 62.679504 24.765378 \nL 62.733623 28.114261 \nL 62.787742 26.505135 \nL 62.84186 22.549285 \nL 62.895979 30.543716 \nL 62.950098 27.640843 \nL 63.004217 23.596457 \nL 63.058335 27.344941 \nL 63.220691 23.507731 \nL 63.27481 25.41168 \nL 63.328929 22.952121 \nL 63.491285 27.703621 \nL 63.545404 22.790942 \nL 63.599522 24.22858 \nL 63.70776 27.20454 \nL 63.761878 27.171993 \nL 63.815997 25.959613 \nL 63.870116 28.155976 \nL 63.924235 26.81195 \nL 63.978353 25.248249 \nL 64.032472 30.310529 \nL 64.194828 24.240126 \nL 64.411303 26.431382 \nL 64.465422 24.00751 \nL 64.51954 25.891823 \nL 64.573659 25.54247 \nL 64.627778 23.267056 \nL 64.681897 24.307821 \nL 64.736015 28.290445 \nL 64.790134 26.662381 \nL 64.844253 23.755828 \nL 64.898371 26.997079 \nL 64.95249 26.297737 \nL 65.006609 25.095952 \nL 65.060728 28.030991 \nL 65.114846 25.259796 \nL 65.168965 25.052176 \nL 65.331321 29.254886 \nL 65.38544 24.125896 \nL 65.439559 28.264274 \nL 65.547796 22.328659 \nL 65.601915 26.063788 \nL 65.656033 26.379833 \nL 65.710152 24.038756 \nL 65.764271 25.213736 \nL 65.81839 24.291326 \nL 65.926627 28.291048 \nL 65.980746 24.421893 \nL 66.034864 27.675357 \nL 66.088983 27.03616 \nL 66.143102 30.383774 \nL 66.197221 27.141889 \nL 66.251339 28.023219 \nL 66.305458 27.992132 \nL 66.359577 27.865212 \nL 66.413695 28.097258 \nL 66.521933 24.388458 \nL 66.63017 30.307832 \nL 66.684289 23.911012 \nL 66.738408 28.875524 \nL 66.792526 26.940106 \nL 66.846645 27.57207 \nL 66.954882 32.820272 \nL 67.009001 27.541078 \nL 67.06312 28.224051 \nL 67.117239 34.736593 \nL 67.171357 30.854433 \nL 67.225476 24.820225 \nL 67.279595 29.180752 \nL 67.333713 27.06693 \nL 67.387832 32.212924 \nL 67.441951 20.233933 \nL 67.49607 26.879295 \nL 67.550188 39.505825 \nL 67.604307 35.01987 \nL 67.658426 27.265446 \nL 67.712544 29.603542 \nL 67.766663 35.463882 \nL 67.929019 21.778125 \nL 67.983138 30.002318 \nL 68.037257 26.412571 \nL 68.145494 24.991999 \nL 68.253732 31.29762 \nL 68.30785 29.80688 \nL 68.361969 28.362422 \nL 68.416088 22.77083 \nL 68.470206 24.556902 \nL 68.524325 33.096506 \nL 68.578444 26.38345 \nL 68.794919 31.14288 \nL 68.849037 26.682588 \nL 68.903156 33.384414 \nL 68.957275 29.024712 \nL 69.011394 29.632441 \nL 69.065512 25.467765 \nL 69.119631 27.801039 \nL 69.17375 26.542662 \nL 69.227868 35.480282 \nL 69.281987 31.424951 \nL 69.336106 29.382504 \nL 69.390225 31.31919 \nL 69.444343 33.90053 \nL 69.498462 24.911902 \nL 69.552581 31.751497 \nL 69.606699 34.394916 \nL 69.714937 28.586981 \nL 69.823174 32.522815 \nL 69.877293 25.961643 \nL 69.931412 36.208649 \nL 69.98553 29.655376 \nL 70.039649 34.887145 \nL 70.093768 28.031086 \nL 70.147886 30.208987 \nL 70.202005 34.060662 \nL 70.256124 31.480718 \nL 70.310243 31.628416 \nL 70.364361 31.389994 \nL 70.41848 40.360541 \nL 70.472599 37.001348 \nL 70.634955 27.819184 \nL 70.797311 35.835377 \nL 70.85143 28.279755 \nL 70.905548 32.215271 \nL 71.067905 38.987457 \nL 71.230261 27.227507 \nL 71.338498 29.864042 \nL 71.392617 28.86201 \nL 71.446736 39.761663 \nL 71.500854 36.590105 \nL 71.609092 25.363495 \nL 71.66321 32.81951 \nL 71.717329 32.70087 \nL 71.771448 31.986017 \nL 71.825567 36.710172 \nL 71.879685 35.349016 \nL 71.933804 32.358654 \nL 71.987923 36.103364 \nL 72.042041 29.277314 \nL 72.09616 33.868967 \nL 72.204398 42.15413 \nL 72.420872 27.780229 \nL 72.52911 36.0029 \nL 72.583229 33.025005 \nL 72.637347 44.632564 \nL 72.691466 33.908778 \nL 72.745585 29.167302 \nL 72.907941 36.347813 \nL 73.016178 31.919115 \nL 73.070297 37.749605 \nL 73.124416 33.577062 \nL 73.178534 34.087055 \nL 73.286772 40.389979 \nL 73.340891 39.868153 \nL 73.395009 33.591749 \nL 73.449128 42.355691 \nL 73.503247 39.083258 \nL 73.557365 39.563718 \nL 73.611484 37.525775 \nL 73.665603 43.675482 \nL 73.719721 40.736382 \nL 73.77384 33.615699 \nL 73.827959 35.75842 \nL 73.882078 44.323275 \nL 73.936196 43.114701 \nL 73.990315 39.178804 \nL 74.044434 43.172404 \nL 74.098552 40.121135 \nL 74.152671 53.655833 \nL 74.260909 32.231259 \nL 74.315027 49.527986 \nL 74.369146 34.854218 \nL 74.531502 44.781974 \nL 74.585621 38.181023 \nL 74.63974 43.848493 \nL 74.802096 34.671087 \nL 74.910333 43.020963 \nL 74.964452 50.856849 \nL 75.126808 33.764887 \nL 75.343283 52.135369 \nL 75.397402 44.737849 \nL 75.45152 46.654043 \nL 75.559758 35.447799 \nL 75.722114 47.341299 \nL 75.776233 46.396874 \nL 75.830351 39.458465 \nL 75.992707 48.348343 \nL 76.100945 48.249275 \nL 76.209182 54.344769 \nL 76.371538 42.533524 \nL 76.425657 48.221074 \nL 76.479776 45.02858 \nL 76.642132 47.563225 \nL 76.696251 47.154805 \nL 76.750369 40.601469 \nL 76.804488 42.948828 \nL 76.912725 56.201612 \nL 76.966844 53.472036 \nL 77.020963 55.542589 \nL 77.075082 41.892678 \nL 77.1292 53.46179 \nL 77.291556 43.228171 \nL 77.345675 58.124975 \nL 77.399794 51.535539 \nL 77.453913 52.917854 \nL 77.56215 43.287618 \nL 77.616269 48.687165 \nL 77.670387 39.611555 \nL 77.724506 46.119878 \nL 77.778625 42.714529 \nL 77.832744 56.499322 \nL 77.886862 50.884034 \nL 77.9951 50.156238 \nL 78.157456 40.392865 \nL 78.265693 55.856287 \nL 78.319812 52.732947 \nL 78.373931 52.884006 \nL 78.428049 56.939273 \nL 78.482168 42.859118 \nL 78.536287 57.189686 \nL 78.590406 62.183097 \nL 78.644524 40.79843 \nL 78.698643 53.092864 \nL 78.752762 53.651106 \nL 78.80688 49.726819 \nL 78.860999 64.907059 \nL 78.915118 44.756279 \nL 78.969237 63.821979 \nL 79.185711 47.112774 \nL 79.23983 61.948894 \nL 79.348068 61.440614 \nL 79.402186 50.610084 \nL 79.456305 59.613241 \nL 79.510424 52.429558 \nL 79.564542 53.425817 \nL 79.618661 75.532681 \nL 79.67278 65.902271 \nL 79.726899 42.885637 \nL 79.781017 54.282531 \nL 79.835136 64.524937 \nL 79.889255 49.081183 \nL 79.943373 69.648138 \nL 79.997492 57.830977 \nL 80.051611 57.940925 \nL 80.10573 46.179832 \nL 80.159848 53.971561 \nL 80.213967 51.49024 \nL 80.268086 65.641168 \nL 80.376323 44.427164 \nL 80.538679 61.189218 \nL 80.592798 53.876014 \nL 80.646917 58.2413 \nL 80.701035 57.122658 \nL 80.755154 68.71296 \nL 80.809273 58.118124 \nL 80.863391 66.791912 \nL 80.91751 54.940697 \nL 80.971629 76.663298 \nL 81.025748 57.355719 \nL 81.079866 51.696845 \nL 81.133985 67.514506 \nL 81.188104 51.353138 \nL 81.35046 68.398262 \nL 81.404579 49.81288 \nL 81.458697 54.407547 \nL 81.621053 70.167902 \nL 81.78341 47.138151 \nL 81.837528 77.347239 \nL 81.891647 48.300379 \nL 81.999884 59.477218 \nL 82.054003 65.399542 \nL 82.108122 64.591838 \nL 82.162241 55.899239 \nL 82.216359 66.210306 \nL 82.270478 59.815088 \nL 82.378715 72.165717 \nL 82.59519 49.03103 \nL 82.703428 64.194521 \nL 82.757546 59.586848 \nL 82.974021 77.21085 \nL 83.02814 65.425173 \nL 83.082259 75.292879 \nL 83.136377 79.173359 \nL 83.244615 51.170325 \nL 83.352852 86.107961 \nL 83.406971 60.473857 \nL 83.46109 71.813207 \nL 83.515208 81.500669 \nL 83.623446 57.60591 \nL 83.677564 85.329981 \nL 83.731683 69.485167 \nL 83.785802 62.666032 \nL 83.894039 79.197975 \nL 84.056395 63.396239 \nL 84.164633 74.142833 \nL 84.218752 66.838829 \nL 84.326989 98.203276 \nL 84.435226 72.702594 \nL 84.489345 73.829182 \nL 84.543464 79.618798 \nL 84.597583 77.593464 \nL 84.759939 63.291271 \nL 84.868176 79.394048 \nL 84.922295 106.471785 \nL 84.976414 86.290901 \nL 85.030532 75.613239 \nL 85.084651 82.189447 \nL 85.192888 66.827996 \nL 85.301126 66.897086 \nL 85.463482 94.029718 \nL 85.517601 94.701271 \nL 85.571719 52.668868 \nL 85.625838 79.342706 \nL 85.734076 66.333562 \nL 85.788194 79.765512 \nL 85.842313 75.143707 \nL 85.896432 66.038183 \nL 85.95055 74.882398 \nL 86.058788 59.46418 \nL 86.167025 79.566013 \nL 86.221144 65.189384 \nL 86.437619 116.40744 \nL 86.599975 68.492429 \nL 86.654094 69.808619 \nL 86.708212 75.485527 \nL 86.762331 68.743175 \nL 86.924687 84.536695 \nL 86.978806 88.416968 \nL 87.032925 77.216433 \nL 87.087043 84.577727 \nL 87.141162 85.843051 \nL 87.195281 82.333021 \nL 87.357637 52.500615 \nL 87.465874 115.612076 \nL 87.62823 64.719757 \nL 87.682349 74.455532 \nL 87.736468 109.128559 \nL 87.790587 97.166366 \nL 87.844705 70.878726 \nL 87.898824 96.115815 \nL 88.06118 59.613051 \nL 88.169418 95.322259 \nL 88.223536 79.482172 \nL 88.277655 84.704742 \nL 88.331774 84.678825 \nL 88.385892 69.77631 \nL 88.440011 83.742394 \nL 88.602367 72.142448 \nL 88.656486 73.865044 \nL 88.764723 96.909307 \nL 88.818842 91.059785 \nL 88.872961 97.963966 \nL 88.92708 65.720282 \nL 88.981198 86.122236 \nL 89.035317 79.973703 \nL 89.089436 82.117185 \nL 89.143554 109.237683 \nL 89.197673 67.772579 \nL 89.251792 79.753901 \nL 89.305911 83.603309 \nL 89.360029 99.173951 \nL 89.414148 76.381385 \nL 89.468267 80.603161 \nL 89.576504 84.809266 \nL 89.630623 72.941936 \nL 89.684742 80.593755 \nL 89.73886 81.688257 \nL 89.792979 80.35408 \nL 89.847098 92.072142 \nL 89.901216 71.45513 \nL 89.955335 85.545373 \nL 90.063573 102.767299 \nL 90.117691 97.011642 \nL 90.17181 95.589041 \nL 90.334166 80.377586 \nL 90.388285 78.940044 \nL 90.442403 107.242897 \nL 90.496522 77.438772 \nL 90.550641 79.231251 \nL 90.60476 98.5017 \nL 90.712997 66.797321 \nL 90.767116 80.732999 \nL 90.821234 78.198211 \nL 90.875353 74.70466 \nL 90.929472 77.692008 \nL 90.983591 118.52288 \nL 91.037709 94.923657 \nL 91.091828 115.98078 \nL 91.145947 65.302362 \nL 91.200065 66.664897 \nL 91.308303 109.190227 \nL 91.41654 69.715579 \nL 91.470659 102.643695 \nL 91.524778 79.186333 \nL 91.578896 81.227036 \nL 91.633015 114.11293 \nL 91.795371 71.909483 \nL 91.957727 111.676877 \nL 92.120084 64.313764 \nL 92.228321 94.846906 \nL 92.28244 94.244237 \nL 92.336558 109.53341 \nL 92.444796 78.987865 \nL 92.553033 88.665985 \nL 92.715389 82.109746 \nL 92.769508 87.436856 \nL 92.823627 80.984236 \nL 92.877746 83.838733 \nL 92.931864 99.553488 \nL 92.985983 96.89067 \nL 93.040102 76.784159 \nL 93.148339 105.072912 \nL 93.202458 78.468751 \nL 93.256577 85.658842 \nL 93.310695 85.681428 \nL 93.364814 76.779083 \nL 93.635408 131.51077 \nL 93.689526 105.603493 \nL 93.743645 109.293228 \nL 93.797764 111.111291 \nL 93.906001 78.997651 \nL 94.122476 130.207205 \nL 94.230713 81.49331 \nL 94.284832 90.03772 \nL 94.338951 116.85272 \nL 94.393069 95.434333 \nL 94.447188 97.599386 \nL 94.501307 107.46706 \nL 94.555426 95.012844 \nL 94.609544 101.672227 \nL 94.717782 109.367616 \nL 94.880138 72.925726 \nL 94.934257 90.803979 \nL 94.988375 89.150601 \nL 95.150731 78.400597 \nL 95.258969 110.03338 \nL 95.313088 86.373949 \nL 95.367206 107.142545 \nL 95.421325 95.319357 \nL 95.475444 97.186969 \nL 95.529562 119.833788 \nL 95.583681 109.735907 \nL 95.746037 79.262656 \nL 95.800156 94.719955 \nL 95.854275 84.14412 \nL 95.908393 76.286902 \nL 96.233106 126.378925 \nL 96.341343 89.929802 \nL 96.395462 120.708917 \nL 96.449581 111.052938 \nL 96.503699 88.244623 \nL 96.557818 92.901575 \nL 96.611937 96.018143 \nL 96.666055 94.363052 \nL 96.720174 131.373747 \nL 96.774293 100.925175 \nL 96.828412 83.06935 \nL 96.88253 98.581687 \nL 96.936649 94.8759 \nL 96.990768 100.279666 \nL 97.099005 81.705704 \nL 97.153124 84.492935 \nL 97.261361 103.23239 \nL 97.31548 67.504767 \nL 97.369599 98.709526 \nL 97.477836 92.096298 \nL 97.531955 61.314837 \nL 97.586073 102.68958 \nL 97.640192 101.650418 \nL 97.694311 92.919118 \nL 97.74843 106.780757 \nL 97.802548 101.775989 \nL 97.856667 94.099776 \nL 97.910786 115.088886 \nL 97.964904 107.91675 \nL 98.019023 85.064484 \nL 98.073142 113.687951 \nL 98.127261 92.993521 \nL 98.181379 103.451668 \nL 98.235498 93.060391 \nL 98.451973 115.426059 \nL 98.506092 109.78146 \nL 98.56021 74.015279 \nL 98.614329 97.466265 \nL 98.722566 77.3772 \nL 98.830804 102.035125 \nL 98.884923 87.837408 \nL 98.939041 107.399397 \nL 98.99316 89.870752 \nL 99.047279 98.901856 \nL 99.101397 84.288741 \nL 99.209635 126.372025 \nL 99.371991 83.594538 \nL 99.588466 125.669432 \nL 99.642585 88.972768 \nL 99.696703 92.996471 \nL 99.804941 110.319448 \nL 99.913178 84.012903 \nL 99.967297 108.559849 \nL 100.021416 88.119432 \nL 100.075534 89.610362 \nL 100.129653 109.711291 \nL 100.183772 87.229141 \nL 100.23789 104.52766 \nL 100.292009 104.030989 \nL 100.346128 127.535426 \nL 100.508484 75.761349 \nL 100.562603 101.682949 \nL 100.724959 64.467663 \nL 100.887315 121.000838 \nL 100.941434 99.100055 \nL 100.995552 122.836157 \nL 101.049671 120.853204 \nL 101.10379 75.541865 \nL 101.157908 117.794941 \nL 101.212027 119.267314 \nL 101.266146 119.169325 \nL 101.374383 84.559899 \nL 101.428502 102.023991 \nL 101.482621 101.874264 \nL 101.536739 93.563834 \nL 101.590858 149.170633 \nL 101.644977 125.951154 \nL 101.753214 101.99303 \nL 101.807333 122.049247 \nL 101.861452 108.348137 \nL 101.969689 86.756167 \nL 102.023808 93.872853 \nL 102.077927 112.733756 \nL 102.132045 78.747238 \nL 102.186164 101.540676 \nL 102.240283 114.679753 \nL 102.294401 102.138222 \nL 102.34852 112.045898 \nL 102.402639 91.802617 \nL 102.456758 123.785356 \nL 102.510876 97.997924 \nL 102.564995 100.894817 \nL 102.619114 91.643119 \nL 102.673232 104.926801 \nL 102.727351 104.057303 \nL 102.78147 98.903173 \nL 102.889707 115.109886 \nL 102.943826 84.445732 \nL 103.052063 85.821798 \nL 103.21442 138.141556 \nL 103.268538 106.526727 \nL 103.322657 130.763576 \nL 103.485013 103.543852 \nL 103.539132 113.737247 \nL 103.593251 70.451321 \nL 103.647369 118.197032 \nL 103.701488 92.698666 \nL 103.755607 93.225884 \nL 103.809725 87.458966 \nL 103.972082 104.674183 \nL 104.0262 102.47717 \nL 104.080319 77.227853 \nL 104.242675 109.638014 \nL 104.296794 110.543928 \nL 104.350912 82.887076 \nL 104.405031 129.494239 \nL 104.45915 120.12195 \nL 104.513269 84.937279 \nL 104.567387 125.150731 \nL 104.621506 96.130153 \nL 104.729743 130.064203 \nL 104.783862 114.340757 \nL 104.837981 128.015982 \nL 104.8921 114.067298 \nL 104.946218 118.507843 \nL 105.054456 82.774669 \nL 105.108574 148.078622 \nL 105.162693 106.846199 \nL 105.216812 120.706918 \nL 105.270931 117.489157 \nL 105.433287 92.052966 \nL 105.487405 117.140327 \nL 105.541524 102.01679 \nL 105.595643 112.914269 \nL 105.649762 108.490267 \nL 105.70388 92.805839 \nL 105.757999 98.490899 \nL 105.812118 118.466367 \nL 105.866236 85.155875 \nL 105.920355 104.3277 \nL 106.082711 124.463856 \nL 106.190949 88.764989 \nL 106.245067 103.249758 \nL 106.299186 99.518816 \nL 106.353305 96.612961 \nL 106.515661 117.945319 \nL 106.56978 104.423786 \nL 106.623898 111.927067 \nL 106.678017 119.133273 \nL 106.732136 111.899707 \nL 106.786255 110.273594 \nL 106.840373 91.629383 \nL 106.894492 109.26287 \nL 106.948611 126.375388 \nL 107.056848 76.328822 \nL 107.110967 113.452622 \nL 107.165086 102.948558 \nL 107.273323 88.028612 \nL 107.327442 76.798116 \nL 107.38156 109.001894 \nL 107.435679 104.277485 \nL 107.489798 100.491632 \nL 107.543916 112.333473 \nL 107.598035 99.369754 \nL 107.652154 113.780325 \nL 107.706273 80.975703 \nL 107.760391 89.070011 \nL 107.81451 92.594047 \nL 107.868629 91.19519 \nL 107.922747 133.169985 \nL 107.976866 110.020263 \nL 108.030985 92.642518 \nL 108.085104 108.42538 \nL 108.139222 104.721084 \nL 108.193341 84.574079 \nL 108.24746 99.342125 \nL 108.301578 98.857636 \nL 108.355697 79.425104 \nL 108.518053 112.401596 \nL 108.572172 108.264819 \nL 108.626291 109.483211 \nL 108.680409 122.317456 \nL 108.734528 109.978485 \nL 108.788647 108.822395 \nL 108.842766 102.677843 \nL 108.896884 127.045481 \nL 108.951003 116.127827 \nL 109.005122 59.305507 \nL 109.05924 97.555387 \nL 109.113359 118.722347 \nL 109.167478 104.686761 \nL 109.329834 120.139746 \nL 109.383953 123.114088 \nL 109.438071 67.29859 \nL 109.49219 72.195757 \nL 109.600428 115.624971 \nL 109.654546 105.172693 \nL 109.816902 90.198868 \nL 109.92514 103.464341 \nL 109.979259 99.869438 \nL 110.033377 132.45077 \nL 110.087496 79.578971 \nL 110.141615 94.780401 \nL 110.249852 123.837824 \nL 110.303971 99.714318 \nL 110.35809 114.580923 \nL 110.412208 140.565745 \nL 110.574564 94.08577 \nL 110.736921 114.96368 \nL 110.791039 99.621119 \nL 110.845158 114.229032 \nL 110.899277 126.251688 \nL 111.007514 86.262066 \nL 111.16987 122.270174 \nL 111.278108 104.839359 \nL 111.332226 121.441899 \nL 111.386345 114.610456 \nL 111.440464 111.45974 \nL 111.548701 80.21011 \nL 111.656939 120.327159 \nL 111.765176 81.098721 \nL 111.819295 101.606435 \nL 111.873413 144.399752 \nL 111.927532 65.748673 \nL 111.981651 104.22213 \nL 112.03577 75.038057 \nL 112.089888 87.071546 \nL 112.144007 105.391749 \nL 112.198126 96.96693 \nL 112.252244 100.534488 \nL 112.306363 115.863092 \nL 112.360482 109.307979 \nL 112.414601 101.637079 \nL 112.468719 119.717369 \nL 112.522838 118.232339 \nL 112.576957 97.042983 \nL 112.631075 109.485653 \nL 112.685194 148.399854 \nL 112.84755 94.600395 \nL 112.901669 129.052654 \nL 112.955788 102.667407 \nL 113.064025 79.883438 \nL 113.118144 119.959597 \nL 113.172263 104.042267 \nL 113.226381 109.109384 \nL 113.2805 127.98039 \nL 113.334619 95.943216 \nL 113.388737 115.922348 \nL 113.442856 102.328426 \nL 113.496975 103.265524 \nL 113.551094 114.02119 \nL 113.605212 90.420493 \nL 113.659331 108.503606 \nL 113.71345 107.775842 \nL 113.767568 120.837374 \nL 113.875806 120.365479 \nL 113.929925 125.855656 \nL 113.984043 85.636288 \nL 114.038162 100.783696 \nL 114.146399 139.121731 \nL 114.200518 98.27097 \nL 114.254637 110.576824 \nL 114.308755 100.675286 \nL 114.362874 105.311048 \nL 114.471112 122.969357 \nL 114.52523 122.946422 \nL 114.633468 116.230241 \nL 114.687586 140.698882 \nL 114.741705 98.735253 \nL 114.795824 126.458213 \nL 114.849943 123.805071 \nL 114.95818 109.313403 \nL 115.012299 126.667277 \nL 115.066417 108.439639 \nL 115.120536 106.542398 \nL 115.174655 126.814831 \nL 115.228774 106.137658 \nL 115.282892 104.704018 \nL 115.337011 95.047865 \nL 115.39113 116.588096 \nL 115.445248 100.322808 \nL 115.607605 124.597326 \nL 115.661723 110.45479 \nL 115.715842 124.28025 \nL 115.769961 124.955419 \nL 115.824079 130.427229 \nL 116.040554 68.051859 \nL 116.148792 119.040962 \nL 116.311148 103.340736 \nL 116.365267 128.190262 \nL 116.419385 109.700728 \nL 116.473504 109.638807 \nL 116.527623 113.108201 \nL 116.581741 95.163015 \nL 116.63586 101.363985 \nL 116.852335 139.640734 \nL 116.906454 95.478395 \nL 116.960572 122.950721 \nL 117.06881 102.286855 \nL 117.122929 110.578077 \nL 117.177047 140.547172 \nL 117.231166 139.208792 \nL 117.285285 96.661178 \nL 117.339403 130.184112 \nL 117.393522 123.261516 \nL 117.447641 93.372408 \nL 117.50176 117.698443 \nL 117.609997 137.4005 \nL 117.664116 85.898929 \nL 117.718234 107.813702 \nL 117.772353 103.280576 \nL 117.826472 130.549041 \nL 117.88059 122.575831 \nL 117.934709 108.610176 \nL 117.988828 145.005767 \nL 118.042947 119.683712 \nL 118.097065 125.879193 \nL 118.151184 123.414146 \nL 118.205303 81.801092 \nL 118.259421 100.453851 \nL 118.31354 94.051416 \nL 118.367659 120.957378 \nL 118.421778 109.09108 \nL 118.530015 126.038596 \nL 118.584134 103.618303 \nL 118.638252 161.235305 \nL 118.692371 117.653984 \nL 118.74649 115.562051 \nL 118.800609 94.795929 \nL 118.854727 115.712587 \nL 118.962965 123.933672 \nL 119.017083 143.762775 \nL 119.071202 127.447795 \nL 119.17944 101.769185 \nL 119.233558 130.757026 \nL 119.287677 122.003821 \nL 119.341796 112.236626 \nL 119.395914 122.480348 \nL 119.450033 133.986111 \nL 119.504152 89.858634 \nL 119.558271 99.275984 \nL 119.612389 126.298605 \nL 119.666508 121.573704 \nL 119.720627 103.309125 \nL 119.774745 123.976925 \nL 119.882983 69.271678 \nL 119.937102 116.456783 \nL 120.045339 114.765497 \nL 120.099458 125.811959 \nL 120.207695 90.701121 \nL 120.315933 132.247321 \nL 120.370051 96.809066 \nL 120.42417 106.609046 \nL 120.478289 135.671909 \nL 120.532407 69.335217 \nL 120.586526 101.290802 \nL 120.640645 140.637849 \nL 120.694764 92.790612 \nL 120.748882 100.327788 \nL 120.803001 106.627984 \nL 120.85712 90.31378 \nL 120.911238 129.705238 \nL 120.965357 109.938452 \nL 121.019476 111.984214 \nL 121.073594 124.124178 \nL 121.127713 113.884706 \nL 121.181832 114.959937 \nL 121.235951 80.406152 \nL 121.290069 116.47174 \nL 121.344188 111.316642 \nL 121.398307 114.852875 \nL 121.452425 113.833745 \nL 121.506544 122.875587 \nL 121.6689 86.871841 \nL 121.723019 131.635358 \nL 121.777138 129.073337 \nL 121.831256 75.991904 \nL 121.885375 121.240354 \nL 121.939494 104.160684 \nL 121.993613 112.702351 \nL 122.047731 107.629477 \nL 122.210087 125.49539 \nL 122.318325 103.656163 \nL 122.372444 124.070346 \nL 122.426562 96.795124 \nL 122.480681 141.065698 \nL 122.5348 97.482934 \nL 122.588918 128.92399 \nL 122.643037 126.442575 \nL 122.805393 86.140413 \nL 122.967749 119.97162 \nL 123.021868 105.422202 \nL 123.075987 127.852281 \nL 123.130106 92.819304 \nL 123.184224 136.846857 \nL 123.238343 126.336718 \nL 123.292462 88.665636 \nL 123.34658 110.649705 \nL 123.400699 96.814427 \nL 123.563055 138.698815 \nL 123.617174 112.102775 \nL 123.671293 144.643281 \nL 123.833649 90.173982 \nL 123.996005 137.043882 \nL 124.050124 111.829047 \nL 124.104242 141.497418 \nL 124.158361 113.192962 \nL 124.21248 91.747072 \nL 124.374836 135.896595 \nL 124.428955 135.073729 \nL 124.537192 101.678476 \nL 124.591311 126.830898 \nL 124.645429 113.36461 \nL 124.753667 92.070461 \nL 124.916023 117.744106 \nL 125.02426 124.469947 \nL 125.078379 130.020934 \nL 125.132498 85.989162 \nL 125.186617 105.820153 \nL 125.240735 107.953532 \nL 125.294854 125.697776 \nL 125.348973 121.323973 \nL 125.403091 122.109265 \nL 125.45721 103.192753 \nL 125.511329 139.147188 \nL 125.565448 108.990633 \nL 125.619566 110.456582 \nL 125.673685 137.430033 \nL 125.727804 111.060647 \nL 125.781922 121.212232 \nL 125.836041 102.369633 \nL 125.89016 107.424902 \nL 126.052516 122.69087 \nL 126.106635 68.302351 \nL 126.160753 122.231077 \nL 126.214872 153.826349 \nL 126.377228 110.921324 \nL 126.431347 96.385705 \nL 126.593703 142.768801 \nL 126.647822 120.206092 \nL 126.756059 120.932493 \nL 126.810178 114.717502 \nL 126.864297 125.217347 \nL 126.972534 108.364505 \nL 127.189009 134.844157 \nL 127.243128 133.909978 \nL 127.297246 98.069013 \nL 127.351365 107.943635 \nL 127.405484 110.385667 \nL 127.459603 119.521184 \nL 127.513721 111.749837 \nL 127.56784 104.123665 \nL 127.621959 110.686772 \nL 127.730196 148.778741 \nL 127.838433 86.088991 \nL 127.892552 148.37178 \nL 127.946671 88.758994 \nL 128.00079 77.241462 \nL 128.054908 127.868665 \nL 128.109027 118.757051 \nL 128.163146 99.629858 \nL 128.217264 142.821713 \nL 128.271383 119.016917 \nL 128.325502 138.947166 \nL 128.487858 89.966346 \nL 128.596095 134.754448 \nL 128.704333 103.441104 \nL 128.758452 140.34339 \nL 128.81257 102.738496 \nL 128.866689 127.190482 \nL 128.920808 106.602717 \nL 129.029045 138.898964 \nL 129.137283 90.285215 \nL 129.191401 94.527942 \nL 129.299639 153.428033 \nL 129.461995 83.78617 \nL 129.67847 138.910162 \nL 129.732588 109.947144 \nL 129.840826 110.196097 \nL 129.894945 103.070148 \nL 130.003182 152.374579 \nL 130.057301 135.70149 \nL 130.111419 99.2058 \nL 130.165538 118.719778 \nL 130.219657 119.214909 \nL 130.327894 82.71803 \nL 130.49025 126.859781 \nL 130.598488 98.65322 \nL 130.706725 125.519134 \nL 130.760844 118.154207 \nL 130.869081 130.227269 \nL 131.031438 104.844276 \nL 131.085556 86.05056 \nL 131.139675 98.35949 \nL 131.302031 140.775443 \nL 131.35615 153.174083 \nL 131.410268 94.900104 \nL 131.464387 114.762975 \nL 131.518506 110.421418 \nL 131.572625 141.131046 \nL 131.626743 93.564341 \nL 131.680862 125.171715 \nL 131.734981 124.439367 \nL 131.897337 113.34104 \nL 131.951456 104.102491 \nL 132.005574 106.828641 \nL 132.059693 125.188099 \nL 132.113812 117.48129 \nL 132.222049 105.707778 \nL 132.276168 129.453302 \nL 132.330287 107.621625 \nL 132.438524 123.726829 \nL 132.492643 88.431655 \nL 132.546761 145.429826 \nL 132.60088 122.619195 \nL 132.709118 132.50465 \nL 132.817355 133.51209 \nL 132.871474 69.126074 \nL 132.979711 136.405891 \nL 133.03383 112.188424 \nL 133.142067 135.354039 \nL 133.250305 108.8574 \nL 133.304423 129.46883 \nL 133.358542 78.704731 \nL 133.412661 80.011325 \nL 133.520898 115.797871 \nL 133.575017 106.123526 \nL 133.629136 117.518119 \nL 133.683254 157.144383 \nL 133.791492 89.891339 \nL 133.845611 148.118512 \nL 133.899729 112.190851 \nL 133.953848 101.212798 \nL 134.007967 150.200835 \nL 134.062085 109.565212 \nL 134.116204 93.198968 \nL 134.224442 135.094887 \nL 134.27856 95.410383 \nL 134.332679 110.511128 \nL 134.440916 141.723548 \nL 134.495035 122.127473 \nL 134.549154 129.349603 \nL 134.657391 113.48915 \nL 134.765629 128.110006 \nL 134.819747 115.530392 \nL 134.873866 116.911327 \nL 135.036222 135.66631 \nL 135.14446 80.959239 \nL 135.306816 145.339101 \nL 135.360934 137.507244 \nL 135.469172 120.626424 \nL 135.523291 136.885558 \nL 135.631528 109.282538 \nL 135.685647 131.131423 \nL 135.739765 125.236745 \nL 135.902122 115.501827 \nL 135.95624 127.088544 \nL 136.010359 162.706108 \nL 136.172715 110.743269 \nL 136.226834 93.297766 \nL 136.280953 98.935989 \nL 136.335071 100.102658 \nL 136.38919 91.863713 \nL 136.443309 93.099028 \nL 136.551546 104.703938 \nL 136.713902 158.299536 \nL 136.876258 101.711467 \nL 136.930377 107.629857 \nL 137.038615 137.609579 \nL 137.200971 89.530534 \nL 137.363327 144.851948 \nL 137.471564 113.29406 \nL 137.525683 150.4092 \nL 137.579802 139.494829 \nL 137.63392 106.945266 \nL 137.688039 124.285849 \nL 137.796277 120.019092 \nL 137.850395 141.739757 \nL 137.904514 123.345341 \nL 137.958633 115.992279 \nL 138.120989 133.722248 \nL 138.175107 115.01047 \nL 138.229226 139.371938 \nL 138.283345 97.88915 \nL 138.337464 102.25794 \nL 138.49982 158.816255 \nL 138.662176 102.983087 \nL 138.716295 101.66915 \nL 138.878651 127.33718 \nL 139.041007 96.65623 \nL 139.095126 127.908714 \nL 139.149244 109.759968 \nL 139.203363 124.829087 \nL 139.257482 118.741396 \nL 139.365719 119.2899 \nL 139.419838 98.923205 \nL 139.473957 138.37809 \nL 139.528075 85.219731 \nL 139.582194 122.184573 \nL 139.636313 104.792633 \nL 139.690431 127.567624 \nL 139.74455 103.856852 \nL 139.852788 148.366768 \nL 139.906906 128.44767 \nL 139.961025 113.187966 \nL 140.015144 145.719431 \nL 140.069262 143.068192 \nL 140.123381 118.173019 \nL 140.1775 137.152086 \nL 140.231619 140.726083 \nL 140.339856 113.914604 \nL 140.393975 130.12384 \nL 140.448093 110.474695 \nL 140.502212 132.551661 \nL 140.556331 128.656083 \nL 140.61045 130.763925 \nL 140.772806 107.64556 \nL 140.826924 112.403118 \nL 140.989281 148.56438 \nL 141.043399 140.560622 \nL 141.097518 85.850664 \nL 141.151637 106.405645 \nL 141.205755 134.159662 \nL 141.259874 128.59865 \nL 141.313993 108.54302 \nL 141.368112 108.929552 \nL 141.42223 130.39557 \nL 141.476349 116.240138 \nL 141.530468 126.813626 \nL 141.584586 100.904524 \nL 141.638705 115.776189 \nL 141.692824 122.194597 \nL 141.746942 89.827007 \nL 141.801061 126.551539 \nL 141.85518 83.598884 \nL 141.909299 88.875144 \nL 141.963417 139.322024 \nL 142.017536 125.916942 \nL 142.071655 114.641734 \nL 142.179892 146.558999 \nL 142.28813 99.65522 \nL 142.342248 107.337778 \nL 142.396367 115.493436 \nL 142.450486 106.799758 \nL 142.504604 115.85524 \nL 142.612842 105.07648 \nL 142.829317 152.39707 \nL 142.883435 134.256572 \nL 142.937554 107.010518 \nL 142.991673 133.464555 \nL 143.09991 111.011414 \nL 143.154029 120.005848 \nL 143.208148 75.033362 \nL 143.262266 105.056067 \nL 143.316385 140.271255 \nL 143.370504 128.535286 \nL 143.424623 128.637065 \nL 143.53286 85.253642 \nL 143.695216 137.85295 \nL 143.749335 135.157189 \nL 143.803454 60.126946 \nL 143.857572 132.294476 \nL 143.96581 99.327818 \nL 144.019928 101.788027 \nL 144.074047 132.204766 \nL 144.128166 101.233322 \nL 144.344641 104.537446 \nL 144.506997 123.280565 \nL 144.561116 131.178531 \nL 144.615234 96.416999 \nL 144.669353 111.240272 \nL 144.723472 106.536656 \nL 144.77759 112.101728 \nL 144.831709 160.281173 \nL 144.885828 149.097673 \nL 144.939946 97.152233 \nL 144.994065 110.800622 \nL 145.048184 145.847952 \nL 145.102303 114.41616 \nL 145.21054 145.746775 \nL 145.318777 98.987378 \nL 145.372896 142.147083 \nL 145.427015 125.455261 \nL 145.481134 82.726769 \nL 145.535252 105.964472 \nL 145.589371 90.94013 \nL 145.64349 124.076452 \nL 145.697608 117.175586 \nL 145.751727 112.899376 \nL 145.805846 122.969389 \nL 145.859965 104.734233 \nL 145.914083 121.590358 \nL 145.968202 125.131285 \nL 146.130558 94.869254 \nL 146.238796 157.78894 \nL 146.292914 133.039687 \nL 146.347033 136.775134 \nL 146.401152 132.164543 \nL 146.45527 108.035105 \nL 146.563508 108.451629 \nL 146.617627 90.387565 \nL 146.671745 159.524891 \nL 146.725864 131.894843 \nL 146.834101 75.727486 \nL 146.88822 149.544159 \nL 146.942339 109.203106 \nL 146.996458 109.966716 \nL 147.050576 158.669509 \nL 147.104695 130.431003 \nL 147.158814 147.990641 \nL 147.267051 114.97307 \nL 147.32117 130.445469 \nL 147.375289 119.230501 \nL 147.537645 142.566827 \nL 147.591763 141.437146 \nL 147.645882 94.561346 \nL 147.700001 187.601424 \nL 147.75412 127.052873 \nL 147.916476 155.936761 \nL 147.970594 104.772029 \nL 148.024713 125.231051 \nL 148.078832 141.821441 \nL 148.132951 74.495993 \nL 148.187069 138.536462 \nL 148.241188 153.128451 \nL 148.349425 94.950907 \nL 148.403544 109.513362 \nL 148.457663 157.829925 \nL 148.511781 130.975907 \nL 148.5659 120.77263 \nL 148.620019 137.135289 \nL 148.782375 116.579658 \nL 148.836494 138.782592 \nL 148.890612 112.510624 \nL 148.944731 123.710397 \nL 148.99885 149.456067 \nL 149.052969 123.418778 \nL 149.107087 124.240946 \nL 149.161206 156.774616 \nL 149.215325 141.074374 \nL 149.269443 132.447693 \nL 149.323562 171.716006 \nL 149.377681 135.706422 \nL 149.4318 105.289668 \nL 149.485918 127.261159 \nL 149.540037 122.417094 \nL 149.648274 148.866579 \nL 149.702393 96.777376 \nL 149.756512 117.55203 \nL 149.810631 129.163951 \nL 149.918868 102.252627 \nL 149.972987 157.52725 \nL 150.027105 93.72928 \nL 150.081224 112.554733 \nL 150.135343 106.267432 \nL 150.297699 142.156187 \nL 150.351818 109.774687 \nL 150.405936 116.016562 \nL 150.460055 133.011962 \nL 150.514174 131.168221 \nL 150.568293 115.566063 \nL 150.622411 119.887874 \nL 150.730649 122.782563 \nL 150.784767 129.589833 \nL 150.838886 65.604656 \nL 150.893005 133.688353 \nL 150.947124 114.423551 \nL 151.10948 133.337778 \nL 151.163598 119.98959 \nL 151.217717 145.266347 \nL 151.325955 94.684427 \nL 151.380073 131.814571 \nL 151.434192 75.331453 \nL 151.488311 106.914242 \nL 151.542429 140.7228 \nL 151.596548 120.56796 \nL 151.650667 135.28138 \nL 151.704785 103.65104 \nL 151.758904 148.184304 \nL 151.813023 126.005034 \nL 151.867142 123.917272 \nL 151.92126 111.597445 \nL 151.975379 112.280751 \nL 152.083616 154.065389 \nL 152.137735 138.808858 \nL 152.300091 112.648075 \nL 152.35421 118.378275 \nL 152.408329 108.553679 \nL 152.462447 148.349797 \nL 152.516566 115.679279 \nL 152.678922 155.341451 \nL 152.78716 123.406898 \nL 152.841278 138.500553 \nL 152.949516 102.970732 \nL 153.003635 146.505929 \nL 153.057753 129.83276 \nL 153.111872 109.486335 \nL 153.274228 148.777313 \nL 153.382466 83.800001 \nL 153.544822 131.169474 \nL 153.653059 183.869467 \nL 153.707178 87.493638 \nL 153.761297 143.550048 \nL 153.869534 134.179599 \nL 153.923653 150.08321 \nL 153.977771 137.43541 \nL 154.194246 108.720711 \nL 154.248365 140.989946 \nL 154.302484 134.076994 \nL 154.410721 114.85075 \nL 154.46484 95.158542 \nL 154.518959 113.219196 \nL 154.627196 146.898836 \nL 154.735433 140.980255 \nL 154.789552 108.839842 \nL 154.843671 138.763861 \nL 154.89779 111.220144 \nL 154.951908 135.773038 \nL 155.060146 136.456424 \nL 155.114264 99.348612 \nL 155.27662 147.435999 \nL 155.330739 142.36349 \nL 155.384858 104.184286 \nL 155.493095 105.36745 \nL 155.601333 153.281683 \nL 155.763689 123.78672 \nL 155.817808 119.736782 \nL 155.980164 99.30823 \nL 156.034282 154.559553 \nL 156.088401 124.030947 \nL 156.14252 140.705956 \nL 156.196639 111.799006 \nL 156.250757 119.996395 \nL 156.304876 134.526113 \nL 156.358995 95.87181 \nL 156.413113 124.671096 \nL 156.467232 149.606572 \nL 156.521351 141.196662 \nL 156.57547 140.763182 \nL 156.683707 118.620234 \nL 156.737826 123.05461 \nL 156.900182 166.384836 \nL 156.954301 117.136077 \nL 157.008419 130.034924 \nL 157.062538 123.865105 \nL 157.116657 126.333388 \nL 157.170775 126.294465 \nL 157.224894 156.108947 \nL 157.279013 154.019551 \nL 157.38725 109.19029 \nL 157.441369 118.939452 \nL 157.549606 161.952728 \nL 157.657844 134.728103 \nL 157.766081 155.428829 \nL 157.8202 131.88263 \nL 157.874319 145.934522 \nL 157.928437 139.420742 \nL 157.982556 117.957912 \nL 158.036675 127.760716 \nL 158.090794 152.779605 \nL 158.144912 139.34185 \nL 158.199031 131.83933 \nL 158.25315 139.541444 \nL 158.307268 132.499241 \nL 158.361387 134.274511 \nL 158.415506 92.776956 \nL 158.469624 131.848751 \nL 158.523743 145.179191 \nL 158.577862 124.655171 \nL 158.631981 129.188614 \nL 158.740218 134.914152 \nL 158.848455 111.371521 \nL 158.902574 122.147823 \nL 158.956693 105.257819 \nL 159.06493 143.589066 \nL 159.173168 115.712127 \nL 159.227286 125.207339 \nL 159.335524 157.597594 \nL 159.389643 122.081667 \nL 159.443761 126.01969 \nL 159.49788 162.209866 \nL 159.551999 121.83395 \nL 159.606117 154.485324 \nL 159.822592 127.76089 \nL 159.876711 107.885282 \nL 159.93083 130.203526 \nL 159.984948 102.2853 \nL 160.039067 120.500075 \nL 160.201423 163.424308 \nL 160.309661 119.707598 \nL 160.363779 155.205523 \nL 160.417898 153.481008 \nL 160.472017 148.032387 \nL 160.526136 122.118337 \nL 160.580254 169.608782 \nL 160.634373 159.251368 \nL 160.688492 153.69954 \nL 160.796729 120.451747 \nL 160.959085 158.178549 \nL 161.121441 97.530977 \nL 161.17556 144.387761 \nL 161.229679 108.42622 \nL 161.392035 143.547923 \nL 161.446154 144.07595 \nL 161.554391 134.335528 \nL 161.60851 108.538976 \nL 161.662629 121.107931 \nL 161.716747 155.105821 \nL 161.770866 145.239685 \nL 161.824985 130.030292 \nL 161.879103 133.200248 \nL 161.933222 141.726751 \nL 162.095578 113.57407 \nL 162.149697 114.717486 \nL 162.203816 122.623969 \nL 162.257934 119.271216 \nL 162.312053 159.417575 \nL 162.366172 117.972695 \nL 162.474409 162.363178 \nL 162.636765 106.726353 \nL 162.690884 123.424392 \nL 162.799121 90.50316 \nL 162.907359 140.485568 \nL 162.961478 112.118144 \nL 163.015596 114.451228 \nL 163.232071 160.326757 \nL 163.340309 113.423184 \nL 163.502665 144.232799 \nL 163.610902 129.866956 \nL 163.71914 95.663682 \nL 163.881496 148.201338 \nL 164.043852 112.061505 \nL 164.097971 146.298753 \nL 164.152089 103.328301 \nL 164.206208 157.22548 \nL 164.260327 104.975367 \nL 164.314445 137.974397 \nL 164.368564 134.647196 \nL 164.422683 96.30529 \nL 164.476802 125.448632 \nL 164.53092 162.96913 \nL 164.585039 157.136024 \nL 164.747395 96.463455 \nL 164.801514 103.463278 \nL 164.855633 170.651593 \nL 164.909751 156.543553 \nL 164.96387 147.982774 \nL 165.126226 101.181964 \nL 165.180345 160.229641 \nL 165.234464 102.308949 \nL 165.288582 125.990252 \nL 165.342701 88.22597 \nL 165.450938 164.562364 \nL 165.505057 141.176106 \nL 165.559176 122.646158 \nL 165.613294 143.121564 \nL 165.667413 124.024761 \nL 165.775651 136.418326 \nL 165.938007 51.769933 \nL 166.100363 150.695015 \nL 166.154482 114.414336 \nL 166.2086 158.110791 \nL 166.262719 144.378672 \nL 166.316838 112.696911 \nL 166.370956 121.521616 \nL 166.425075 117.049587 \nL 166.479194 149.536879 \nL 166.533313 129.391413 \nL 166.64155 135.960578 \nL 166.749787 112.956682 \nL 166.858025 115.164052 \nL 166.912144 143.625388 \nL 166.966262 128.541138 \nL 167.128618 169.012124 \nL 167.290975 74.399257 \nL 167.345093 149.216091 \nL 167.399212 149.178643 \nL 167.453331 127.631354 \nL 167.507449 168.591904 \nL 167.561568 104.469148 \nL 167.615687 152.995599 \nL 167.669806 110.416247 \nL 167.723924 121.599779 \nL 167.832162 167.585431 \nL 167.88628 116.339269 \nL 167.940399 129.591673 \nL 167.994518 147.030641 \nL 168.048637 139.622478 \nL 168.265111 90.674998 \nL 168.427468 135.83588 \nL 168.481586 102.797562 \nL 168.535705 157.457288 \nL 168.589824 83.614539 \nL 168.643942 141.519909 \nL 168.698061 175.052676 \nL 168.75218 86.036396 \nL 168.806298 140.893655 \nL 168.968655 113.405293 \nL 169.022773 156.891908 \nL 169.076892 147.047866 \nL 169.131011 137.601871 \nL 169.185129 150.758316 \nL 169.239248 77.327381 \nL 169.293367 155.162429 \nL 169.347486 135.567147 \nL 169.401604 99.023668 \nL 169.455723 111.849253 \nL 169.509842 134.0293 \nL 169.56396 124.128175 \nL 169.618079 107.774224 \nL 169.672198 126.575886 \nL 169.726317 112.066136 \nL 169.780435 104.504503 \nL 169.99691 159.395322 \nL 170.051029 153.164645 \nL 170.105148 126.068002 \nL 170.159266 132.343851 \nL 170.267504 119.862195 \nL 170.483979 148.350098 \nL 170.538097 98.189635 \nL 170.592216 103.013525 \nL 170.646335 118.552666 \nL 170.700453 96.890766 \nL 170.754572 139.550326 \nL 170.808691 108.13219 \nL 170.916928 151.00581 \nL 170.971047 107.740376 \nL 171.025166 155.345305 \nL 171.079284 99.294954 \nL 171.133403 145.594494 \nL 171.187522 105.515401 \nL 171.241641 152.768835 \nL 171.295759 126.102293 \nL 171.512234 159.511885 \nL 171.566353 136.5737 \nL 171.620472 140.796443 \nL 171.67459 138.993638 \nL 171.782828 161.933044 \nL 171.836946 142.915895 \nL 171.891065 158.544318 \nL 171.945184 62.991467 \nL 171.999303 123.835953 \nL 172.161659 142.174554 \nL 172.269896 120.762003 \nL 172.324015 141.375637 \nL 172.378133 97.538162 \nL 172.432252 135.005146 \nL 172.486371 110.868935 \nL 172.54049 163.977221 \nL 172.594608 121.132341 \nL 172.648727 120.265508 \nL 172.702846 114.172091 \nL 172.756964 91.772893 \nL 172.811083 144.068099 \nL 172.865202 112.152055 \nL 172.919321 102.776847 \nL 172.973439 143.296891 \nL 173.027558 122.876777 \nL 173.189914 98.873972 \nL 173.35227 160.497723 \nL 173.406389 158.56968 \nL 173.460508 147.827448 \nL 173.514626 113.499793 \nL 173.568745 117.271862 \nL 173.676983 135.338892 \nL 173.78522 110.423861 \nL 173.839339 138.783925 \nL 173.893457 112.901026 \nL 174.055814 125.913326 \nL 174.109932 161.27326 \nL 174.164051 160.333213 \nL 174.21817 76.354342 \nL 174.272288 122.767749 \nL 174.434645 142.024224 \nL 174.597001 107.679724 \nL 174.705238 154.007291 \nL 174.813476 106.4541 \nL 174.867594 109.645405 \nL 174.975832 136.179555 \nL 175.02995 112.763527 \nL 175.084069 162.890634 \nL 175.138188 117.938007 \nL 175.246425 150.720424 \nL 175.300544 126.085433 \nL 175.354663 143.070762 \nL 175.408781 143.14488 \nL 175.4629 149.305261 \nL 175.517019 148.824674 \nL 175.571137 135.021895 \nL 175.625256 151.2232 \nL 175.679375 147.024043 \nL 175.787612 150.223103 \nL 175.841731 141.546904 \nL 175.89585 102.083596 \nL 175.949968 132.380728 \nL 176.004087 150.670589 \nL 176.058206 91.316034 \nL 176.112325 139.180163 \nL 176.166443 116.375052 \nL 176.220562 140.241325 \nL 176.328799 156.108123 \nL 176.437037 109.51471 \nL 176.491156 130.720831 \nL 176.545274 170.959216 \nL 176.599393 131.1834 \nL 176.653512 136.116159 \nL 176.70763 127.677541 \nL 176.761749 100.720077 \nL 176.924105 156.179782 \nL 176.978224 174.295125 \nL 177.032343 159.757872 \nL 177.086461 125.671795 \nL 177.14058 154.212484 \nL 177.194699 153.574429 \nL 177.248818 122.279802 \nL 177.302936 140.635882 \nL 177.357055 157.724037 \nL 177.411174 107.823107 \nL 177.465292 128.41368 \nL 177.519411 158.749813 \nL 177.57353 144.170275 \nL 177.627649 134.271053 \nL 177.681767 154.864465 \nL 177.735886 130.263543 \nL 177.790005 163.335471 \nL 177.844123 137.453856 \nL 177.898242 158.97534 \nL 177.952361 138.639225 \nL 178.00648 142.473898 \nL 178.060598 157.014878 \nL 178.114717 69.729695 \nL 178.168836 111.90169 \nL 178.222954 148.687826 \nL 178.277073 114.837966 \nL 178.439429 151.195571 \nL 178.601785 137.253976 \nL 178.655904 169.178585 \nL 178.81826 125.410153 \nL 178.872379 124.253984 \nL 178.926498 147.896776 \nL 178.980616 106.112994 \nL 179.034735 147.257516 \nL 179.088854 150.905759 \nL 179.142972 165.238358 \nL 179.305329 119.205694 \nL 179.359447 98.232032 \nL 179.467685 174.539511 \nL 179.521803 114.164303 \nL 179.575922 129.462708 \nL 179.630041 133.26799 \nL 179.68416 151.059832 \nL 179.738278 127.890855 \nL 179.792397 151.511093 \nL 179.846516 131.466106 \nL 179.900634 139.054481 \nL 179.954753 141.467028 \nL 180.008872 160.486906 \nL 180.062991 96.718468 \nL 180.171228 97.961127 \nL 180.279465 118.328741 \nL 180.333584 78.858867 \nL 180.387703 117.234367 \nL 180.441822 123.346959 \nL 180.550059 152.369187 \nL 180.604178 112.956317 \nL 180.658296 128.12325 \nL 180.712415 135.032332 \nL 180.766534 101.500849 \nL 180.874771 102.816341 \nL 180.92889 106.478272 \nL 181.037127 160.148004 \nL 181.091246 123.303881 \nL 181.145365 124.4128 \nL 181.253602 129.642079 \nL 181.307721 128.974793 \nL 181.36184 122.462933 \nL 181.415958 147.08663 \nL 181.470077 97.483046 \nL 181.578315 156.934859 \nL 181.686552 103.661159 \nL 181.740671 116.212762 \nL 181.794789 166.621624 \nL 181.848908 138.093656 \nL 181.903027 126.950522 \nL 181.957146 132.256695 \nL 182.065383 156.641907 \nL 182.17362 125.906252 \nL 182.227739 163.44848 \nL 182.281858 132.918541 \nL 182.390095 83.271339 \nL 182.444214 150.35053 \nL 182.498333 137.639889 \nL 182.60657 110.539106 \nL 182.823045 152.668959 \nL 182.931282 123.468327 \nL 182.985401 153.941817 \nL 183.03952 118.557139 \nL 183.093638 136.182505 \nL 183.201876 100.759175 \nL 183.255995 112.568358 \nL 183.310113 158.00043 \nL 183.364232 121.961028 \nL 183.418351 153.84489 \nL 183.472469 150.041273 \nL 183.526588 72.04668 \nL 183.580707 117.64009 \nL 183.634826 119.802034 \nL 183.743063 168.385553 \nL 183.905419 96.424295 \nL 184.013657 157.727447 \nL 184.067775 128.662697 \nL 184.121894 131.221244 \nL 184.176013 145.492048 \nL 184.230131 111.000121 \nL 184.28425 144.800558 \nL 184.446606 115.187764 \nL 184.500725 138.521188 \nL 184.554844 125.338303 \nL 184.7172 149.751747 \nL 184.933675 108.599612 \nL 185.041912 155.673723 \nL 185.096031 150.850944 \nL 185.15015 81.76791 \nL 185.204268 133.27048 \nL 185.258387 129.452128 \nL 185.312506 108.960211 \nL 185.366624 112.849525 \nL 185.420743 171.980043 \nL 185.474862 129.267983 \nL 185.583099 147.839074 \nL 185.637218 139.125728 \nL 185.691337 76.85309 \nL 185.745455 170.127531 \nL 185.799574 114.492292 \nL 185.853693 150.781409 \nL 185.907811 78.918917 \nL 185.96193 129.628613 \nL 186.016049 132.28737 \nL 186.070168 128.989099 \nL 186.124286 101.919816 \nL 186.178405 148.525267 \nL 186.232524 132.084937 \nL 186.286642 110.166786 \nL 186.340761 122.271634 \nL 186.39488 149.654313 \nL 186.448999 97.253014 \nL 186.503117 115.078371 \nL 186.557236 109.729325 \nL 186.665473 165.145159 \nL 186.719592 136.754071 \nL 186.773711 138.036049 \nL 186.82783 137.397819 \nL 186.881948 149.09853 \nL 186.990186 94.60831 \nL 187.152542 140.767322 \nL 187.206661 146.944516 \nL 187.260779 111.948131 \nL 187.314898 137.381419 \nL 187.369017 152.263204 \nL 187.423135 148.902361 \nL 187.585492 114.797838 \nL 187.747848 148.455431 \nL 187.801966 89.85976 \nL 187.856085 146.934238 \nL 187.910204 105.270619 \nL 187.964323 119.877755 \nL 188.018441 137.993224 \nL 188.07256 127.255036 \nL 188.126679 117.622992 \nL 188.234916 176.87426 \nL 188.289035 145.782447 \nL 188.343154 94.730503 \nL 188.397272 153.370299 \nL 188.451391 120.528403 \nL 188.613747 172.316248 \nL 188.667866 167.981336 \nL 188.721985 110.32806 \nL 188.776103 120.514525 \nL 188.830222 120.770616 \nL 188.884341 150.62364 \nL 188.938459 125.774495 \nL 188.992578 135.361193 \nL 189.046697 93.632845 \nL 189.100815 103.408114 \nL 189.209053 128.94748 \nL 189.263172 105.883026 \nL 189.31729 143.428569 \nL 189.371409 94.015744 \nL 189.425528 153.046069 \nL 189.479646 105.528883 \nL 189.533765 77.149912 \nL 189.587884 150.440779 \nL 189.642003 135.888633 \nL 189.75024 99.466839 \nL 189.912596 160.306011 \nL 189.966715 157.509692 \nL 190.074952 118.627039 \nL 190.129071 136.629594 \nL 190.18319 138.465627 \nL 190.237308 114.309542 \nL 190.291427 142.341633 \nL 190.345546 133.659153 \nL 190.399665 108.717983 \nL 190.453783 129.057524 \nL 190.507902 138.749966 \nL 190.562021 106.375763 \nL 190.724377 160.448538 \nL 190.778496 154.186377 \nL 190.940852 124.521543 \nL 190.99497 121.172675 \nL 191.049089 177.486287 \nL 191.103208 114.695915 \nL 191.157327 148.551437 \nL 191.211445 145.264777 \nL 191.265564 147.593118 \nL 191.319683 117.624943 \nL 191.373801 126.613905 \nL 191.536158 152.740174 \nL 191.590276 127.661077 \nL 191.698514 175.999464 \nL 191.86087 139.404374 \nL 192.023226 101.906445 \nL 192.077345 153.643948 \nL 192.131463 123.630331 \nL 192.185582 112.595607 \nL 192.347938 157.257582 \nL 192.402057 123.798648 \nL 192.456176 157.077703 \nL 192.564413 135.261745 \nL 192.618532 150.224911 \nL 192.67265 141.054818 \nL 192.726769 114.951848 \nL 192.780888 139.064283 \nL 192.835007 140.645478 \nL 192.889125 146.304558 \nL 192.943244 184.286896 \nL 193.051481 109.611684 \nL 193.1056 124.164766 \nL 193.159719 117.310135 \nL 193.213838 93.67199 \nL 193.267956 109.597409 \nL 193.376194 165.210696 \nL 193.430312 138.689076 \nL 193.484431 97.268923 \nL 193.53855 131.317631 \nL 193.592669 152.615587 \nL 193.700906 109.749516 \nL 193.809143 167.78033 \nL 193.863262 135.269199 \nL 193.9715 156.821136 \nL 194.025618 156.73333 \nL 194.079737 122.510452 \nL 194.133856 141.415195 \nL 194.242093 114.50073 \nL 194.350331 154.808571 \nL 194.458568 151.398686 \nL 194.512687 139.520698 \nL 194.566805 177.861652 \nL 194.620924 141.231905 \nL 194.675043 152.931743 \nL 194.729162 103.301353 \nL 194.78328 122.185588 \nL 194.837399 133.096121 \nL 194.891518 91.53003 \nL 194.999755 148.404343 \nL 195.162111 126.873438 \nL 195.21623 155.075384 \nL 195.270349 126.175888 \nL 195.324467 95.404324 \nL 195.432705 157.194487 \nL 195.486824 131.595817 \nL 195.540942 162.656193 \nL 195.595061 150.0483 \nL 195.64918 142.707149 \nL 195.703298 168.572141 \nL 195.811536 107.18713 \nL 195.865655 154.595336 \nL 195.919773 117.001576 \nL 195.973892 113.853841 \nL 196.028011 144.34887 \nL 196.082129 115.703784 \nL 196.190367 148.860916 \nL 196.244485 142.743931 \nL 196.46096 110.591606 \nL 196.515079 154.085612 \nL 196.569198 121.350143 \nL 196.623316 129.936601 \nL 196.677435 121.849558 \nL 196.731554 124.50381 \nL 196.785673 141.132774 \nL 196.839791 134.274891 \nL 196.89391 135.81737 \nL 196.948029 165.778423 \nL 197.002147 123.650633 \nL 197.056266 163.502756 \nL 197.110385 138.824116 \nL 197.164504 165.58216 \nL 197.218622 125.081545 \nL 197.272741 133.318333 \nL 197.380978 112.034557 \nL 197.435097 154.295484 \nL 197.489216 152.425429 \nL 197.543335 145.572892 \nL 197.651572 105.574626 \nL 197.705691 159.024668 \nL 197.759809 115.920524 \nL 197.976284 139.974258 \nL 198.030403 131.166064 \nL 198.13864 144.251959 \nL 198.192759 87.25731 \nL 198.246878 132.481239 \nL 198.355115 167.47718 \nL 198.409234 144.401845 \nL 198.517471 118.04648 \nL 198.57159 121.589469 \nL 198.679828 162.451555 \nL 198.788065 147.804576 \nL 198.842184 162.107467 \nL 198.950421 111.455933 \nL 199.00454 120.807239 \nL 199.058659 113.273124 \nL 199.112777 161.524656 \nL 199.166896 150.401285 \nL 199.221015 143.682551 \nL 199.275133 158.455132 \nL 199.437489 111.734499 \nL 199.491608 149.4446 \nL 199.545727 138.48152 \nL 199.599846 135.927746 \nL 199.653964 123.841662 \nL 199.708083 157.598038 \nL 199.762202 125.056549 \nL 199.81632 111.875614 \nL 199.870439 147.783259 \nL 199.924558 108.683057 \nL 199.978677 139.362533 \nL 200.141033 168.990442 \nL 200.24927 112.088722 \nL 200.303389 128.411792 \nL 200.357508 162.033714 \nL 200.411626 146.510274 \nL 200.465745 101.613351 \nL 200.573982 102.454346 \nL 200.628101 155.279641 \nL 200.68222 130.05199 \nL 200.736339 150.919971 \nL 200.790457 146.09735 \nL 200.844576 128.86153 \nL 201.006932 186.543625 \nL 201.061051 172.005786 \nL 201.11517 97.720516 \nL 201.169288 143.962037 \nL 201.223407 121.412921 \nL 201.277526 157.027582 \nL 201.331644 115.976957 \nL 201.385763 121.163127 \nL 201.439882 144.914583 \nL 201.494001 130.170059 \nL 201.548119 121.028911 \nL 201.602238 129.286413 \nL 201.656357 128.659207 \nL 201.710475 167.175964 \nL 201.764594 150.430882 \nL 201.818713 122.516146 \nL 201.872832 137.66579 \nL 201.92695 149.900127 \nL 201.981069 94.714562 \nL 202.089306 169.641868 \nL 202.197544 124.323915 \nL 202.251663 131.82956 \nL 202.3599 118.233385 \nL 202.414019 143.784854 \nL 202.522256 114.550724 \nL 202.576375 140.096356 \nL 202.630494 77.490764 \nL 202.684612 127.743332 \nL 202.79285 167.573789 \nL 202.955206 119.484942 \nL 203.009324 147.942805 \nL 203.063443 135.977788 \nL 203.117562 112.322164 \nL 203.225799 151.208592 \nL 203.279918 142.665641 \nL 203.334037 171.126327 \nL 203.388155 73.297158 \nL 203.442274 85.691452 \nL 203.496393 157.273554 \nL 203.550512 131.869688 \nL 203.60463 136.470667 \nL 203.658749 154.056285 \nL 203.712868 85.760987 \nL 203.766986 151.297223 \nL 203.821105 148.553039 \nL 203.929343 124.395543 \nL 204.03758 159.14391 \nL 204.145817 125.653872 \nL 204.199936 177.406823 \nL 204.254055 109.34633 \nL 204.308174 122.440822 \nL 204.632886 171.22449 \nL 204.687005 89.583129 \nL 204.741123 169.266106 \nL 204.795242 101.032189 \nL 204.849361 130.95589 \nL 204.903479 195.326917 \nL 204.957598 134.732782 \nL 205.011717 115.786055 \nL 205.065836 142.35594 \nL 205.119954 141.722453 \nL 205.174073 140.302263 \nL 205.390548 173.547772 \nL 205.498785 129.590864 \nL 205.552904 156.505662 \nL 205.607023 111.596081 \nL 205.661141 156.399758 \nL 205.71526 160.508794 \nL 205.769379 155.526565 \nL 205.877616 156.278089 \nL 205.931735 118.940372 \nL 206.094091 166.340536 \nL 206.14821 156.465644 \nL 206.202328 133.161341 \nL 206.256447 169.921306 \nL 206.310566 146.171437 \nL 206.364685 149.250509 \nL 206.418803 115.441222 \nL 206.472922 121.747445 \nL 206.527041 127.354421 \nL 206.581159 162.804858 \nL 206.635278 102.130386 \nL 206.689397 147.172692 \nL 206.797634 159.257396 \nL 206.851753 156.98498 \nL 206.905872 116.83927 \nL 206.95999 146.044565 \nL 207.122347 160.723773 \nL 207.176465 110.780653 \nL 207.230584 122.188633 \nL 207.284703 117.943098 \nL 207.338821 139.107742 \nL 207.39294 115.248575 \nL 207.501178 161.056171 \nL 207.555296 117.942273 \nL 207.609415 118.717747 \nL 207.717652 163.752122 \nL 207.82589 100.986192 \nL 207.934127 114.776203 \nL 208.096483 168.205436 \nL 208.204721 119.412394 \nL 208.25884 154.051686 \nL 208.312958 113.914382 \nL 208.367077 153.236464 \nL 208.421196 156.800327 \nL 208.475314 122.140923 \nL 208.529433 125.323457 \nL 208.637671 149.442744 \nL 208.691789 134.877307 \nL 208.745908 151.387488 \nL 208.800027 104.295503 \nL 208.854145 130.434065 \nL 208.962383 161.805776 \nL 209.178858 116.272685 \nL 209.232976 120.75531 \nL 209.287095 148.365499 \nL 209.341214 112.948894 \nL 209.395333 141.146177 \nL 209.449451 160.466556 \nL 209.50357 128.996506 \nL 209.557689 142.167591 \nL 209.611807 167.415497 \nL 209.774163 108.746469 \nL 209.828282 131.803389 \nL 209.882401 86.009718 \nL 209.990638 150.422682 \nL 210.044757 92.904176 \nL 210.098876 99.258379 \nL 210.152994 175.964935 \nL 210.207113 136.759384 \nL 210.261232 152.609099 \nL 210.315351 138.727301 \nL 210.423588 117.22079 \nL 210.477707 49.195001 \nL 210.531825 118.195367 \nL 210.585944 131.776156 \nL 210.640063 104.26413 \nL 210.694182 165.711046 \nL 210.7483 124.519211 \nL 210.802419 103.943421 \nL 210.856538 149.273952 \nL 210.910656 98.437606 \nL 210.964775 143.710276 \nL 211.018894 122.158021 \nL 211.073013 143.069969 \nL 211.127131 129.528578 \nL 211.235369 148.395667 \nL 211.289487 108.200693 \nL 211.397725 158.312257 \nL 211.505962 126.180678 \nL 211.560081 153.284729 \nL 211.6142 132.585874 \nL 211.668318 89.45345 \nL 211.722437 159.93404 \nL 211.776556 90.293716 \nL 211.884793 151.207672 \nL 211.938912 106.969946 \nL 211.993031 126.118028 \nL 212.047149 120.493509 \nL 212.209506 161.229373 \nL 212.317743 156.742751 \nL 212.42598 109.351644 \nL 212.534218 142.198901 \nL 212.588337 114.822327 \nL 212.642455 154.478282 \nL 212.696574 137.648407 \nL 212.750693 113.513608 \nL 212.804811 125.864982 \nL 212.85893 128.610831 \nL 213.021286 167.962287 \nL 213.183642 122.48084 \nL 213.237761 160.615839 \nL 213.29188 82.56237 \nL 213.345998 115.90544 \nL 213.454236 160.876086 \nL 213.508355 155.864292 \nL 213.562473 100.222995 \nL 213.616592 152.417182 \nL 213.670711 110.067846 \nL 213.724829 160.823745 \nL 213.778948 101.672655 \nL 213.833067 128.834741 \nL 213.887186 107.579356 \nL 213.941304 129.339262 \nL 214.10366 114.912513 \nL 214.157779 160.155063 \nL 214.211898 107.723849 \nL 214.266017 162.418009 \nL 214.320135 131.026265 \nL 214.374254 163.420057 \nL 214.53661 126.25827 \nL 214.590729 135.950269 \nL 214.698966 155.551403 \nL 214.753085 118.323127 \nL 214.807204 133.780775 \nL 214.861322 150.739631 \nL 214.915441 130.993243 \nL 215.077797 169.797718 \nL 215.131916 147.216627 \nL 215.186035 174.458572 \nL 215.348391 89.864725 \nL 215.510747 178.50981 \nL 215.564866 130.887894 \nL 215.618984 139.006644 \nL 215.673103 152.113048 \nL 215.727222 194.627354 \nL 215.781341 179.70828 \nL 215.889578 119.16574 \nL 215.943697 140.020207 \nL 215.997815 91.371532 \nL 216.051934 132.159975 \nL 216.106053 180.70308 \nL 216.160172 163.515889 \nL 216.21429 98.795492 \nL 216.268409 136.950651 \nL 216.322528 152.139742 \nL 216.376646 144.294562 \nL 216.430765 104.313885 \nL 216.539002 165.37067 \nL 216.701359 89.925187 \nL 216.863715 156.977478 \nL 216.917833 137.526944 \nL 216.971952 145.467194 \nL 217.026071 160.921036 \nL 217.08019 119.469049 \nL 217.134308 125.52892 \nL 217.188427 135.61105 \nL 217.242546 168.401287 \nL 217.296664 140.836634 \nL 217.350783 129.867019 \nL 217.459021 174.549598 \nL 217.621377 117.963559 \nL 217.675495 133.259838 \nL 217.729614 132.371909 \nL 217.783733 110.982182 \nL 217.837852 135.0615 \nL 217.89197 133.563702 \nL 217.946089 117.251116 \nL 218.000208 122.662146 \nL 218.054326 144.67034 \nL 218.108445 119.304254 \nL 218.162564 156.082713 \nL 218.216683 149.157215 \nL 218.270801 128.591909 \nL 218.32492 146.816423 \nL 218.379039 135.893629 \nL 218.433157 157.489073 \nL 218.487276 153.243046 \nL 218.541395 103.802512 \nL 218.595514 164.063663 \nL 218.649632 135.101739 \nL 218.703751 122.865357 \nL 218.811988 190.821485 \nL 218.920226 124.282994 \nL 218.974345 133.340316 \nL 219.028463 144.877071 \nL 219.082582 140.019414 \nL 219.136701 137.418248 \nL 219.190819 174.645557 \nL 219.244938 133.188685 \nL 219.299057 154.187011 \nL 219.407294 138.546486 \nL 219.515532 171.715736 \nL 219.677888 131.532468 \nL 219.732006 144.953886 \nL 219.786125 79.345117 \nL 219.840244 129.024453 \nL 219.894363 154.899961 \nL 219.948481 95.973415 \nL 220.0026 99.043875 \nL 220.164956 157.394161 \nL 220.327312 121.681479 \nL 220.43555 138.284114 \nL 220.489668 98.994056 \nL 220.543787 138.836171 \nL 220.597906 175.426931 \nL 220.652025 112.434015 \nL 220.706143 132.29557 \nL 220.868499 165.974084 \nL 220.976737 127.697716 \nL 221.030856 152.243695 \nL 221.084974 147.126822 \nL 221.139093 161.304855 \nL 221.24733 131.110011 \nL 221.355568 170.977995 \nL 221.409687 115.160927 \nL 221.463805 161.640806 \nL 221.572043 111.665124 \nL 221.626161 123.17555 \nL 221.68028 141.528347 \nL 221.734399 135.584388 \nL 221.788518 128.897772 \nL 221.842636 156.119225 \nL 221.896755 115.216758 \nL 221.950874 123.314333 \nL 222.11323 116.353639 \nL 222.221467 170.38516 \nL 222.275586 148.867245 \nL 222.329705 152.12515 \nL 222.383823 170.624454 \nL 222.600298 91.444238 \nL 222.654417 156.448435 \nL 222.762654 153.423845 \nL 222.816773 101.12883 \nL 222.925011 181.322149 \nL 223.087367 120.957696 \nL 223.195604 138.406339 \nL 223.249723 117.335528 \nL 223.303841 132.969693 \nL 223.35796 138.97654 \nL 223.412079 126.897181 \nL 223.466198 163.668567 \nL 223.628554 94.343923 \nL 223.736791 159.316065 \nL 223.79091 142.635378 \nL 223.845029 149.708352 \nL 223.953266 134.655586 \nL 224.007385 138.012067 \nL 224.115622 146.872015 \nL 224.169741 117.360477 \nL 224.277978 163.902357 \nL 224.332097 161.389347 \nL 224.494453 173.844737 \nL 224.602691 148.822485 \nL 224.656809 112.652389 \nL 224.710928 184.737855 \nL 224.765047 138.778675 \nL 224.819165 132.794271 \nL 224.873284 178.901037 \nL 224.927403 123.259153 \nL 224.981522 160.056867 \nL 225.03564 145.121489 \nL 225.089759 176.78279 \nL 225.143878 155.240084 \nL 225.252115 112.645331 \nL 225.414471 161.954346 \nL 225.46859 161.203393 \nL 225.522709 113.254075 \nL 225.576827 157.173725 \nL 225.630946 153.075428 \nL 225.685065 131.763102 \nL 225.739184 145.774992 \nL 225.793302 147.756661 \nL 225.90154 132.154947 \nL 225.955658 165.194169 \nL 226.009777 148.917778 \nL 226.063896 124.377033 \nL 226.118015 171.997998 \nL 226.172133 166.313033 \nL 226.226252 167.260107 \nL 226.280371 136.334961 \nL 226.334489 169.913059 \nL 226.388608 125.772005 \nL 226.442727 160.331341 \nL 226.605083 144.01008 \nL 226.659202 144.693735 \nL 226.71332 162.272992 \nL 226.767439 144.058963 \nL 226.821558 102.751121 \nL 226.875676 142.101673 \nL 226.929795 180.826954 \nL 227.092151 81.963762 \nL 227.254507 147.423993 \nL 227.308626 138.103426 \nL 227.362745 170.744236 \nL 227.416864 160.755511 \nL 227.470982 129.849017 \nL 227.633338 179.340354 \nL 227.687457 176.433373 \nL 227.741576 192.74783 \nL 227.795695 98.53293 \nL 227.849813 156.582508 \nL 228.012169 121.351619 \nL 228.120407 162.762256 \nL 228.174526 117.114585 \nL 228.228644 153.398436 \nL 228.282763 149.210825 \nL 228.391 161.516329 \nL 228.553357 127.555728 \nL 228.661594 134.840541 \nL 228.715713 128.735023 \nL 228.769831 164.434144 \nL 228.82395 114.970627 \nL 228.878069 120.413506 \nL 228.986306 175.372037 \nL 229.040425 169.252925 \nL 229.148662 83.343491 \nL 229.311019 169.763759 \nL 229.473375 119.881403 \nL 229.581612 208.516813 \nL 229.68985 142.997357 \nL 229.743968 157.908405 \nL 229.798087 111.823876 \nL 229.852206 125.852579 \nL 229.906324 146.697529 \nL 229.960443 133.828612 \nL 230.014562 127.883797 \nL 230.06868 131.301358 \nL 230.176918 208.929127 \nL 230.231037 153.350219 \nL 230.285155 142.703073 \nL 230.339274 171.356311 \nL 230.393393 133.938798 \nL 230.447511 184.352655 \nL 230.50163 137.750869 \nL 230.555749 139.0423 \nL 230.609868 134.091539 \nL 230.663986 90.598294 \nL 230.826342 148.662575 \nL 230.880461 127.28403 \nL 230.93458 129.421961 \nL 231.042817 151.30517 \nL 231.096936 112.901977 \nL 231.151055 149.677788 \nL 231.259292 183.330956 \nL 231.36753 113.577495 \nL 231.529886 166.97867 \nL 231.638123 111.974619 \nL 231.692242 175.189001 \nL 231.746361 156.399013 \nL 231.800479 109.507192 \nL 231.854598 119.966148 \nL 231.962835 143.33361 \nL 232.016954 90.353115 \nL 232.071073 121.771014 \nL 232.125192 155.75612 \nL 232.17931 128.45606 \nL 232.233429 146.920502 \nL 232.287548 116.637218 \nL 232.341666 172.400977 \nL 232.395785 132.740566 \nL 232.449904 124.691524 \nL 232.558141 153.87417 \nL 232.666379 116.920034 \nL 232.720497 144.728422 \nL 232.774616 130.343134 \nL 232.828735 133.86027 \nL 232.882854 175.534992 \nL 232.936972 157.101272 \nL 232.991091 166.03223 \nL 233.04521 157.496718 \nL 233.153447 116.398589 \nL 233.207566 135.621915 \nL 233.261685 144.841971 \nL 233.315803 182.821216 \nL 233.369922 124.304009 \nL 233.424041 187.172829 \nL 233.478159 161.964751 \nL 233.532278 100.728246 \nL 233.586397 172.75493 \nL 233.694634 169.98153 \nL 233.748753 113.435096 \nL 233.802872 149.605065 \nL 233.85699 119.442482 \nL 234.019346 159.746786 \nL 234.073465 100.400019 \nL 234.127584 122.420933 \nL 234.181703 148.814936 \nL 234.235821 88.74751 \nL 234.28994 153.762953 \nL 234.344059 133.824646 \nL 234.398177 140.06273 \nL 234.452296 120.288347 \nL 234.506415 133.102417 \nL 234.560534 126.836339 \nL 234.614652 139.917254 \nL 234.668771 123.123129 \nL 234.72289 168.856655 \nL 234.777008 150.694364 \nL 234.885246 111.85149 \nL 234.939365 153.485164 \nL 234.993483 152.553443 \nL 235.047602 148.955591 \nL 235.155839 149.487932 \nL 235.209958 101.072365 \nL 235.426433 174.977844 \nL 235.480552 160.676238 \nL 235.53467 107.450692 \nL 235.588789 133.037308 \nL 235.697027 178.422972 \nL 235.751145 118.70517 \nL 235.805264 135.012886 \nL 235.859383 133.887392 \nL 235.913501 140.587665 \nL 235.96762 118.623406 \nL 236.129976 165.684685 \nL 236.184095 167.567286 \nL 236.346451 132.963935 \nL 236.454689 163.25247 \nL 236.562926 99.259679 \nL 236.617045 186.65646 \nL 236.725282 184.029488 \nL 236.833519 115.08895 \nL 236.887638 134.913882 \nL 236.941757 138.164015 \nL 236.995876 159.390009 \nL 237.049994 123.170744 \nL 237.104113 150.00381 \nL 237.21235 123.568917 \nL 237.266469 89.208969 \nL 237.320588 138.757802 \nL 237.374707 125.441653 \nL 237.428825 118.213781 \nL 237.591181 140.388293 \nL 237.6453 147.093355 \nL 237.699419 176.46887 \nL 237.753538 162.916408 \nL 237.807656 90.716839 \nL 237.861775 158.656408 \nL 237.915894 126.826299 \nL 237.970012 133.841919 \nL 238.024131 131.933227 \nL 238.07825 118.63646 \nL 238.186487 164.94769 \nL 238.240606 125.039926 \nL 238.294725 143.068129 \nL 238.402962 110.575777 \nL 238.565318 187.282999 \nL 238.727674 126.337416 \nL 238.781793 64.909597 \nL 238.835912 100.846664 \nL 238.944149 178.447429 \nL 238.998268 107.559752 \nL 239.052387 128.885797 \nL 239.106505 135.388442 \nL 239.160624 121.782719 \nL 239.32298 169.337369 \nL 239.485336 98.622592 \nL 239.539455 121.234929 \nL 239.593574 150.695538 \nL 239.647693 108.682549 \nL 239.701811 177.835561 \nL 239.75593 143.73789 \nL 239.810049 164.386434 \nL 239.918286 130.39097 \nL 240.026524 160.903969 \nL 240.080642 127.574381 \nL 240.18888 179.21077 \nL 240.242998 176.683373 \nL 240.351236 134.980895 \nL 240.405354 135.963941 \nL 240.459473 147.791333 \nL 240.513592 119.307252 \nL 240.567711 164.099319 \nL 240.621829 145.327301 \nL 240.675948 115.06113 \nL 240.730067 130.612072 \nL 240.838304 139.141225 \nL 240.892423 186.314672 \nL 240.946542 135.193051 \nL 241.00066 145.305381 \nL 241.054779 142.994693 \nL 241.108898 162.248281 \nL 241.163016 141.663863 \nL 241.217135 156.449768 \nL 241.271254 173.702813 \nL 241.325373 159.82425 \nL 241.379491 137.530639 \nL 241.541847 194.646799 \nL 241.595966 130.945628 \nL 241.650085 170.990652 \nL 241.758322 123.626112 \nL 241.812441 123.742087 \nL 241.974797 168.70991 \nL 242.028916 114.766687 \nL 242.083035 136.656684 \nL 242.137153 131.640338 \nL 242.299509 164.18086 \nL 242.353628 121.30724 \nL 242.407747 149.239914 \nL 242.515984 114.453845 \nL 242.624222 165.264243 \nL 242.840697 113.661765 \nL 242.894815 150.112806 \nL 242.948934 146.616242 \nL 243.003053 133.341093 \nL 243.057171 134.850502 \nL 243.11129 147.024772 \nL 243.165409 124.192412 \nL 243.219528 141.773985 \nL 243.273646 161.32162 \nL 243.327765 107.938099 \nL 243.381884 153.06304 \nL 243.490121 156.147299 \nL 243.54424 118.921228 \nL 243.598358 155.812474 \nL 243.652477 156.813808 \nL 243.706596 114.235345 \nL 243.760715 144.144517 \nL 243.814833 138.207331 \nL 243.868952 113.545726 \nL 244.031308 166.754634 \nL 244.085427 125.856544 \nL 244.139546 167.248322 \nL 244.193664 183.081225 \nL 244.35602 128.420754 \nL 244.410139 156.405436 \nL 244.464258 125.541561 \nL 244.518377 184.986205 \nL 244.572495 149.517624 \nL 244.626614 139.033307 \nL 244.680733 83.331341 \nL 244.734851 119.030145 \nL 244.897208 141.896495 \nL 244.951326 129.0465 \nL 245.005445 156.944788 \nL 245.059564 152.564942 \nL 245.113682 138.667029 \nL 245.167801 189.496523 \nL 245.22192 165.267891 \nL 245.276039 163.829175 \nL 245.384276 133.4161 \nL 245.438395 151.845204 \nL 245.546632 108.5234 \nL 245.708988 151.36679 \nL 245.817226 119.104105 \nL 245.871344 148.047931 \nL 245.925463 143.568225 \nL 245.979582 128.655083 \nL 246.033701 132.296189 \nL 246.087819 169.553364 \nL 246.141938 138.918965 \nL 246.196057 143.209291 \nL 246.358413 98.225751 \nL 246.412532 152.138632 \nL 246.46665 149.154995 \nL 246.520769 123.909706 \nL 246.574888 187.775546 \nL 246.629006 153.171275 \nL 246.683125 120.973255 \nL 246.737244 150.064684 \nL 246.791363 136.813137 \nL 246.845481 138.889527 \nL 246.953719 166.871799 \nL 247.116075 129.981789 \nL 247.170193 126.821572 \nL 247.224312 113.92328 \nL 247.278431 116.372815 \nL 247.33255 205.11796 \nL 247.386668 143.274575 \nL 247.440787 143.745899 \nL 247.494906 168.306105 \nL 247.549024 124.34907 \nL 247.603143 154.652372 \nL 247.711381 142.891517 \nL 247.765499 167.998609 \nL 247.819618 112.297881 \nL 247.873737 157.723419 \nL 247.927855 158.518925 \nL 247.981974 156.704812 \nL 248.036093 133.625338 \nL 248.090212 171.187328 \nL 248.14433 129.384656 \nL 248.198449 137.353583 \nL 248.252568 146.463056 \nL 248.306686 131.752317 \nL 248.360805 184.517355 \nL 248.414924 151.572142 \nL 248.469043 171.29385 \nL 248.57728 139.709824 \nL 248.631399 163.081108 \nL 248.685517 130.889639 \nL 248.739636 156.010958 \nL 248.793755 172.46477 \nL 248.847874 163.234865 \nL 249.064348 149.785626 \nL 249.118467 188.78527 \nL 249.226705 142.037484 \nL 249.280823 158.98768 \nL 249.334942 155.907925 \nL 249.389061 152.944844 \nL 249.443179 165.803151 \nL 249.497298 153.330424 \nL 249.551417 138.345829 \nL 249.605536 156.951291 \nL 249.659654 156.29065 \nL 249.713773 108.664484 \nL 249.767892 126.904699 \nL 249.930248 175.136485 \nL 249.984367 152.806981 \nL 250.038485 122.000728 \nL 250.092604 158.859682 \nL 250.146723 125.183056 \nL 250.200841 146.156099 \nL 250.363197 88.253077 \nL 250.525554 164.167188 \nL 250.579672 121.005786 \nL 250.633791 147.123491 \nL 250.68791 175.747545 \nL 250.742028 125.516485 \nL 250.796147 148.721768 \nL 250.904385 167.852403 \nL 251.120859 126.876879 \nL 251.174978 138.662081 \nL 251.229097 131.270651 \nL 251.283216 190.055765 \nL 251.337334 115.595866 \nL 251.391453 125.392928 \nL 251.49969 168.835116 \nL 251.553809 110.571479 \nL 251.607928 151.299904 \nL 251.770284 136.837341 \nL 251.824403 161.27491 \nL 251.878521 111.108309 \nL 251.93264 138.584774 \nL 252.040878 167.524255 \nL 252.094996 158.716283 \nL 252.149115 173.522173 \nL 252.203234 158.979163 \nL 252.257352 100.06502 \nL 252.311471 171.687202 \nL 252.36559 142.753527 \nL 252.419709 158.472912 \nL 252.473827 96.806433 \nL 252.527946 127.298242 \nL 252.582065 177.64423 \nL 252.636183 173.408354 \nL 252.744421 143.356862 \nL 252.906777 172.61537 \nL 252.960896 175.290781 \nL 253.069133 151.208751 \nL 253.231489 104.743543 \nL 253.339727 170.962832 \nL 253.393845 144.064832 \nL 253.502083 178.636555 \nL 253.61032 122.938841 \nL 253.664439 132.36133 \nL 253.880914 196.369268 \nL 254.04327 143.79943 \nL 254.097389 129.848652 \nL 254.151507 196.459596 \nL 254.205626 186.332627 \nL 254.367982 119.482055 \nL 254.422101 171.5255 \nL 254.47622 147.655341 \nL 254.584457 154.84467 \nL 254.692694 128.152053 \nL 254.746813 143.160392 \nL 254.800932 188.42686 \nL 254.855051 127.036615 \nL 254.909169 170.89739 \nL 254.963288 147.063299 \nL 255.017407 164.472813 \nL 255.179763 147.842674 \nL 255.233882 162.275039 \nL 255.288 140.944267 \nL 255.342119 161.280255 \nL 255.396238 179.913442 \nL 255.450356 101.347902 \nL 255.504475 179.237416 \nL 255.558594 161.243886 \nL 255.612713 180.705142 \nL 255.666831 124.954436 \nL 255.72095 159.727673 \nL 255.829187 153.262349 \nL 255.883306 153.710738 \nL 255.937425 113.056764 \nL 255.991544 179.257449 \nL 256.045662 170.020628 \nL 256.099781 170.468478 \nL 256.208018 158.342995 \nL 256.262137 132.588697 \nL 256.424493 178.303285 \nL 256.532731 140.956813 \nL 256.640968 141.106953 \nL 256.695087 150.820554 \nL 256.749206 138.175276 \nL 256.857443 186.045147 \nL 256.911562 143.773783 \nL 256.96568 157.283642 \nL 257.019799 182.339614 \nL 257.073918 171.316373 \nL 257.182155 119.767426 \nL 257.344511 175.329656 \nL 257.39863 133.703484 \nL 257.452749 153.735006 \nL 257.506867 157.549218 \nL 257.615105 202.309991 \nL 257.669224 122.61561 \nL 257.723342 157.469437 \nL 257.777461 164.877679 \nL 257.885698 152.434692 \nL 257.939817 170.298861 \nL 258.048055 169.531809 \nL 258.102173 129.752472 \nL 258.156292 166.76875 \nL 258.210411 180.716895 \nL 258.318648 124.599499 \nL 258.372767 133.587763 \nL 258.426886 114.867721 \nL 258.535123 167.084637 \nL 258.589242 162.691278 \nL 258.64336 135.279414 \nL 258.697479 161.58994 \nL 258.751598 146.323163 \nL 258.805717 150.501384 \nL 258.913954 192.222198 \nL 259.022191 166.850466 \nL 259.07631 180.976491 \nL 259.130429 138.4947 \nL 259.184548 142.214952 \nL 259.238666 192.126715 \nL 259.292785 170.782049 \nL 259.346904 134.647481 \nL 259.401022 154.684601 \nL 259.50926 188.784906 \nL 259.563379 140.337078 \nL 259.617497 156.548185 \nL 259.671616 155.832427 \nL 259.725735 184.073946 \nL 259.779853 167.312797 \nL 259.888091 139.901234 \nL 259.94221 172.842245 \nL 259.996328 146.747523 \nL 260.050447 163.827224 \nL 260.158684 130.554449 \nL 260.266922 166.851116 \nL 260.321041 143.599979 \nL 260.375159 173.751855 \nL 260.429278 166.562431 \nL 260.537515 94.325366 \nL 260.591634 163.276611 \nL 260.645753 137.322242 \nL 260.75399 162.413346 \nL 260.808109 116.57896 \nL 260.862228 164.503837 \nL 260.916346 185.981322 \nL 261.132821 89.153932 \nL 261.241059 186.856927 \nL 261.295177 150.558119 \nL 261.349296 151.596171 \nL 261.457533 175.430675 \nL 261.511652 166.035609 \nL 261.61989 156.024377 \nL 261.674008 162.396867 \nL 261.728127 126.952695 \nL 261.782246 176.257808 \nL 261.836364 161.703298 \nL 261.890483 166.055578 \nL 261.998721 97.973213 \nL 262.052839 153.526259 \nL 262.106958 152.87458 \nL 262.161077 147.322895 \nL 262.215195 157.668778 \nL 262.269314 156.364737 \nL 262.323433 107.97975 \nL 262.377552 157.107236 \nL 262.43167 172.649614 \nL 262.485789 126.208562 \nL 262.539908 189.019346 \nL 262.594026 145.854804 \nL 262.648145 173.93432 \nL 262.702264 150.441017 \nL 262.756383 155.338723 \nL 262.810501 147.549041 \nL 262.86462 152.556251 \nL 262.918739 153.25315 \nL 262.972857 129.766715 \nL 263.026976 172.772441 \nL 263.081095 158.987759 \nL 263.135214 111.75883 \nL 263.189332 179.852647 \nL 263.243451 150.57352 \nL 263.351688 172.430257 \nL 263.405807 141.890912 \nL 263.459926 155.313076 \nL 263.514045 160.283013 \nL 263.568163 135.243727 \nL 263.622282 155.5987 \nL 263.676401 179.037441 \nL 263.730519 132.109379 \nL 263.784638 149.407675 \nL 263.838757 149.968535 \nL 263.892876 148.962316 \nL 263.946994 170.893155 \nL 264.001113 102.178572 \nL 264.055232 126.283537 \nL 264.10935 161.704377 \nL 264.163469 154.343876 \nL 264.217588 131.65677 \nL 264.271706 151.673049 \nL 264.325825 139.389036 \nL 264.488181 166.210698 \nL 264.596419 179.569878 \nL 264.650537 132.829942 \nL 264.704656 172.160129 \nL 264.812894 154.403355 \nL 264.867012 173.414905 \nL 264.921131 172.061917 \nL 264.97525 161.430807 \nL 265.029368 128.294754 \nL 265.083487 179.707138 \nL 265.137606 175.241834 \nL 265.245843 136.187549 \nL 265.299962 173.532911 \nL 265.354081 133.118326 \nL 265.408199 143.479562 \nL 265.462318 165.948183 \nL 265.516437 154.58666 \nL 265.570556 138.557224 \nL 265.624674 139.284052 \nL 265.678793 139.922218 \nL 265.841149 175.017655 \nL 265.895268 135.946113 \nL 265.949387 156.863723 \nL 266.003505 171.211247 \nL 266.057624 170.391964 \nL 266.111743 159.839604 \nL 266.165861 171.886051 \nL 266.328218 155.379755 \nL 266.382336 147.231282 \nL 266.490574 180.214737 \nL 266.544692 177.166593 \nL 266.815286 117.22006 \nL 266.869405 126.027017 \nL 267.031761 200.650356 \nL 267.194117 158.436194 \nL 267.248236 196.735117 \nL 267.302354 120.92093 \nL 267.356473 173.351525 \nL 267.410592 186.410203 \nL 267.518829 130.516367 \nL 267.572948 168.108684 \nL 267.627067 106.465885 \nL 267.681185 125.425062 \nL 267.735304 182.955098 \nL 267.789423 163.630786 \nL 267.843541 124.197931 \nL 267.89766 158.353781 \nL 268.060016 176.083258 \nL 268.222372 125.611762 \nL 268.33061 173.426499 \nL 268.384729 105.301214 \nL 268.438847 168.112348 \nL 268.492966 138.070752 \nL 268.547085 148.503236 \nL 268.601203 169.519739 \nL 268.709441 125.309134 \nL 268.76356 170.919532 \nL 268.817678 167.138564 \nL 268.925916 90.079895 \nL 269.088272 162.761891 \nL 269.196509 145.036791 \nL 269.250628 124.187653 \nL 269.304747 172.512845 \nL 269.358865 131.357569 \nL 269.467103 169.848949 \nL 269.629459 64.690525 \nL 269.737696 186.493837 \nL 269.791815 168.76831 \nL 269.845934 143.185056 \nL 269.900053 154.843687 \nL 269.954171 146.131642 \nL 270.00829 99.841872 \nL 270.062409 145.037775 \nL 270.224765 169.022815 \nL 270.278884 128.260732 \nL 270.333002 156.325671 \nL 270.387121 175.524825 \nL 270.44124 126.309216 \nL 270.495358 149.247527 \nL 270.549477 178.357973 \nL 270.603596 151.356972 \nL 270.657715 158.704276 \nL 270.711833 156.295885 \nL 270.765952 154.906686 \nL 270.874189 50.622138 \nL 270.982427 184.718282 \nL 271.036545 148.570264 \nL 271.090664 184.384472 \nL 271.25302 130.914953 \nL 271.307139 149.012944 \nL 271.415376 177.179203 \nL 271.469495 125.459639 \nL 271.523614 150.686608 \nL 271.577733 166.296617 \nL 271.631851 162.760527 \nL 271.68597 162.559251 \nL 271.740089 130.351017 \nL 271.794207 184.861522 \nL 271.848326 155.140604 \nL 272.010682 125.97033 \nL 272.064801 177.683359 \nL 272.11892 157.126047 \nL 272.173038 147.17653 \nL 272.227157 189.074083 \nL 272.281276 124.19127 \nL 272.335395 167.43131 \nL 272.389513 139.542253 \nL 272.443632 164.041331 \nL 272.551869 135.527432 \nL 272.605988 143.444652 \nL 272.660107 145.443942 \nL 272.714226 153.260636 \nL 272.768344 127.09584 \nL 272.822463 165.828116 \nL 272.876582 81.963571 \nL 272.9307 131.705559 \nL 272.984819 122.202638 \nL 273.038938 125.799825 \nL 273.201294 173.549977 \nL 273.255413 159.680994 \nL 273.309531 187.282175 \nL 273.36365 172.341562 \nL 273.471888 130.194517 \nL 273.526006 180.721732 \nL 273.580125 138.3231 \nL 273.742481 179.886891 \nL 273.7966 178.284505 \nL 273.850719 114.503538 \nL 273.904837 172.660891 \nL 273.958956 173.123381 \nL 274.013075 153.744268 \nL 274.067193 154.216877 \nL 274.121312 196.299194 \nL 274.175431 167.411611 \nL 274.337787 115.397287 \nL 274.446024 97.20735 \nL 274.554262 180.453809 \nL 274.60838 158.096754 \nL 274.770737 186.770183 \nL 274.824855 133.224087 \nL 274.878974 141.047379 \nL 274.933093 150.789927 \nL 274.987211 141.801155 \nL 275.04133 121.147107 \nL 275.095449 159.596677 \nL 275.149568 132.460746 \nL 275.203686 148.670506 \nL 275.257805 115.502477 \nL 275.311924 146.47776 \nL 275.366042 124.607779 \nL 275.420161 144.922434 \nL 275.47428 132.553565 \nL 275.528399 141.197963 \nL 275.582517 156.386197 \nL 275.636636 139.585887 \nL 275.744873 159.45921 \nL 275.798992 154.53259 \nL 275.853111 136.497298 \nL 275.90723 163.967911 \nL 275.961348 150.70699 \nL 276.015467 153.680349 \nL 276.069586 138.472733 \nL 276.123704 178.376943 \nL 276.177823 163.467228 \nL 276.286061 138.7621 \nL 276.340179 180.885544 \nL 276.394298 156.407419 \nL 276.448417 73.567001 \nL 276.502535 143.495629 \nL 276.610773 178.734275 \nL 276.664892 217.308536 \nL 276.71901 118.025147 \nL 276.773129 168.82211 \nL 276.881366 89.182006 \nL 276.935485 190.062791 \nL 276.989604 124.585668 \nL 277.097841 170.276068 \nL 277.15196 151.295653 \nL 277.206079 173.063458 \nL 277.260197 147.197133 \nL 277.314316 177.901321 \nL 277.368435 157.742071 \nL 277.422554 143.466144 \nL 277.476672 152.674764 \nL 277.530791 157.113755 \nL 277.639028 184.763042 \nL 277.855503 137.189073 \nL 277.909622 168.549714 \nL 277.963741 127.836594 \nL 278.017859 153.360052 \nL 278.126097 169.472219 \nL 278.180215 145.047053 \nL 278.234334 200.167429 \nL 278.288453 165.755076 \nL 278.39669 152.678491 \nL 278.450809 172.903262 \nL 278.504928 146.081109 \nL 278.559046 159.58789 \nL 278.775521 192.094803 \nL 278.937877 122.26245 \nL 279.208471 188.130466 \nL 279.479065 121.20538 \nL 279.533183 170.169467 \nL 279.587302 125.2944 \nL 279.641421 108.279157 \nL 279.803777 167.428883 \nL 279.857896 178.231911 \nL 279.966133 125.113283 \nL 280.07437 183.400871 \nL 280.128489 176.170303 \nL 280.182608 182.031023 \nL 280.236727 177.972901 \nL 280.453201 131.894463 \nL 280.50732 181.884753 \nL 280.561439 141.51699 \nL 280.669676 125.490568 \nL 280.777914 186.559422 \nL 280.886151 169.725931 \nL 280.94027 132.253079 \nL 280.994388 158.741232 \nL 281.048507 179.948637 \nL 281.264982 102.797958 \nL 281.427338 166.311954 \nL 281.481457 162.576302 \nL 281.643813 120.908717 \nL 281.697932 189.039506 \nL 281.75205 154.227552 \nL 281.806169 170.141758 \nL 281.860288 134.334592 \nL 281.914407 146.706411 \nL 281.968525 160.749389 \nL 282.076763 114.899078 \nL 282.130881 175.809767 \nL 282.185 164.239276 \nL 282.239119 121.848669 \nL 282.293238 153.830489 \nL 282.347356 153.028051 \nL 282.401475 107.778237 \nL 282.455594 153.457058 \nL 282.509712 126.759968 \nL 282.563831 143.262711 \nL 282.61795 153.237891 \nL 282.672069 125.915134 \nL 282.726187 154.577381 \nL 282.780306 148.857475 \nL 282.834425 188.140411 \nL 282.888543 135.319907 \nL 282.942662 144.097299 \nL 283.105018 194.418782 \nL 283.267374 129.653785 \nL 283.429731 181.628583 \nL 283.483849 174.654439 \nL 283.537968 177.002305 \nL 283.592087 142.295256 \nL 283.646205 165.171805 \nL 283.808562 111.942786 \nL 283.86268 121.11161 \nL 284.025036 177.433406 \nL 284.079155 196.603598 \nL 284.133274 158.023936 \nL 284.187393 170.868269 \nL 284.349749 125.241789 \nL 284.403867 167.305755 \nL 284.457986 127.271786 \nL 284.620342 161.023561 \nL 284.674461 112.818358 \nL 284.72858 132.549362 \nL 284.782698 122.024631 \nL 284.890936 140.90149 \nL 284.945054 91.176141 \nL 285.107411 173.441171 \nL 285.161529 170.551335 \nL 285.215648 135.05054 \nL 285.269767 168.911693 \nL 285.486242 106.210079 \nL 285.810954 157.690412 \nL 285.865073 161.514172 \nL 285.919191 102.314056 \nL 285.97331 106.24472 \nL 286.081547 162.990479 \nL 286.135666 158.331623 \nL 286.189785 163.962375 \nL 286.243904 147.832539 \nL 286.298022 193.73021 \nL 286.352141 155.03792 \nL 286.40626 171.405765 \nL 286.568616 85.155637 \nL 286.730972 151.368677 \nL 286.785091 155.172722 \nL 286.839209 188.09424 \nL 286.893328 156.89619 \nL 286.947447 153.66839 \nL 287.055684 93.732864 \nL 287.163922 174.804928 \nL 287.21804 163.505865 \nL 287.272159 157.340932 \nL 287.326278 167.11444 \nL 287.380397 133.245055 \nL 287.434515 152.89244 \nL 287.488634 149.60903 \nL 287.542753 105.642352 \nL 287.596871 166.943379 \nL 287.65099 124.876146 \nL 287.705109 108.597582 \nL 287.867465 195.606467 \nL 287.921584 141.196868 \nL 287.975702 149.029439 \nL 288.029821 145.769187 \nL 288.192177 174.431973 \nL 288.246296 120.977649 \nL 288.300415 184.45499 \nL 288.354533 166.517259 \nL 288.462771 160.873326 \nL 288.625127 199.74751 \nL 288.733364 138.026675 \nL 288.787483 164.815282 \nL 288.841602 166.555706 \nL 288.89572 175.465838 \nL 289.003958 142.580626 \nL 289.058077 161.142296 \nL 289.112195 122.935875 \nL 289.166314 190.597972 \nL 289.220433 148.589615 \nL 289.274551 129.890827 \nL 289.32867 136.819418 \nL 289.382789 131.858331 \nL 289.436908 186.016454 \nL 289.491026 124.283707 \nL 289.545145 151.927142 \nL 289.599264 172.802133 \nL 289.76162 115.208954 \nL 289.869857 169.806156 \nL 289.978095 101.339527 \nL 290.032213 130.908196 \nL 290.086332 111.5081 \nL 290.140451 161.192956 \nL 290.19457 140.63677 \nL 290.248688 139.703131 \nL 290.302807 181.325464 \nL 290.356926 106.662719 \nL 290.411044 115.535674 \nL 290.465163 164.630597 \nL 290.519282 123.418143 \nL 290.573401 143.94911 \nL 290.627519 116.708116 \nL 290.681638 170.398134 \nL 290.735757 156.703178 \nL 290.789875 145.296308 \nL 290.843994 149.631521 \nL 290.898113 171.229883 \nL 290.952232 120.098 \nL 291.00635 151.882398 \nL 291.060469 157.604493 \nL 291.114588 140.303056 \nL 291.168706 140.401235 \nL 291.276944 201.913356 \nL 291.331062 148.434114 \nL 291.385181 179.907462 \nL 291.493419 173.629218 \nL 291.547537 127.203901 \nL 291.601656 181.453319 \nL 291.655775 138.186855 \nL 291.709893 165.840408 \nL 291.764012 128.116429 \nL 291.818131 146.127169 \nL 291.87225 146.592974 \nL 291.926368 177.578534 \nL 291.980487 116.014247 \nL 292.034606 121.745985 \nL 292.088724 173.635372 \nL 292.142843 164.433953 \nL 292.196962 161.623692 \nL 292.251081 137.346097 \nL 292.305199 185.090872 \nL 292.359318 129.151991 \nL 292.413437 175.988092 \nL 292.467555 138.95627 \nL 292.521674 149.702071 \nL 292.68403 169.246311 \nL 292.738149 151.265422 \nL 292.792268 176.949473 \nL 292.846386 154.741019 \nL 292.900505 132.262453 \nL 292.954624 183.117308 \nL 293.008743 177.238126 \nL 293.062861 165.520699 \nL 293.11698 178.948065 \nL 293.279336 129.033954 \nL 293.333455 164.812427 \nL 293.387574 159.678901 \nL 293.441692 155.603014 \nL 293.495811 135.837164 \nL 293.54993 154.340625 \nL 293.604048 180.394838 \nL 293.658167 169.165452 \nL 293.712286 130.155911 \nL 293.766405 168.45707 \nL 293.874642 172.659733 \nL 293.928761 125.061259 \nL 293.982879 154.030051 \nL 294.036998 169.128417 \nL 294.091117 130.690267 \nL 294.145236 168.245152 \nL 294.199354 157.78507 \nL 294.253473 173.421519 \nL 294.307592 138.309999 \nL 294.415829 138.749221 \nL 294.469948 178.560899 \nL 294.524067 141.591648 \nL 294.578185 172.775613 \nL 294.632304 149.648937 \nL 294.686423 135.158458 \nL 294.740541 184.262597 \nL 294.79466 168.611001 \nL 294.902897 122.687159 \nL 294.957016 166.130759 \nL 295.011135 113.962187 \nL 295.065254 190.004471 \nL 295.119372 154.458487 \nL 295.22761 141.703325 \nL 295.389966 176.86717 \nL 295.444085 150.634093 \nL 295.498203 161.689024 \nL 295.606441 188.379357 \nL 295.660559 137.23304 \nL 295.714678 148.186112 \nL 295.768797 144.265473 \nL 295.877034 168.507238 \nL 295.931153 110.439087 \nL 295.985272 143.008079 \nL 296.147628 186.758763 \nL 296.201747 199.527788 \nL 296.255865 142.810198 \nL 296.309984 167.721962 \nL 296.364103 161.209277 \nL 296.418221 163.454666 \nL 296.47234 200.512674 \nL 296.526459 181.649821 \nL 296.580578 191.879347 \nL 296.634696 173.190123 \nL 296.688815 60.186266 \nL 296.742934 149.452832 \nL 296.851171 182.083332 \nL 296.90529 179.691087 \nL 296.959409 155.194436 \nL 297.067646 184.982082 \nL 297.33824 124.455767 \nL 297.500596 153.957693 \nL 297.554714 171.402466 \nL 297.608833 157.372685 \nL 297.662952 168.373626 \nL 297.717071 137.901706 \nL 297.771189 166.730367 \nL 297.879427 152.904113 \nL 297.933545 171.330347 \nL 297.987664 95.587232 \nL 298.041783 152.812437 \nL 298.095901 188.788363 \nL 298.15002 155.077446 \nL 298.258258 132.103986 \nL 298.474732 177.796384 \nL 298.528851 195.610876 \nL 298.691207 140.260628 \nL 298.745326 169.706121 \nL 298.799445 141.847057 \nL 298.853563 160.825347 \nL 298.907682 136.693244 \nL 298.961801 159.150746 \nL 299.01592 172.57088 \nL 299.070038 163.8359 \nL 299.124157 148.148712 \nL 299.178276 149.384154 \nL 299.286513 172.200146 \nL 299.340632 165.909276 \nL 299.394751 158.686464 \nL 299.448869 166.403298 \nL 299.502988 161.744505 \nL 299.557107 129.193341 \nL 299.611225 148.561224 \nL 299.665344 176.507888 \nL 299.773582 109.593983 \nL 299.881819 157.79335 \nL 299.935938 147.641224 \nL 299.990056 150.755841 \nL 300.044175 175.901824 \nL 300.098294 120.770061 \nL 300.152413 184.634758 \nL 300.206531 147.234835 \nL 300.368887 165.286115 \nL 300.423006 140.535482 \nL 300.477125 157.239834 \nL 300.531244 142.613554 \nL 300.585362 158.420206 \nL 300.639481 140.752206 \nL 300.6936 172.546597 \nL 300.747718 159.110222 \nL 300.801837 167.348024 \nL 300.964193 143.138282 \nL 301.018312 176.783837 \nL 301.072431 147.734106 \nL 301.126549 144.939881 \nL 301.180668 184.204863 \nL 301.234787 123.994626 \nL 301.288906 207.591746 \nL 301.343024 151.085686 \nL 301.397143 141.609618 \nL 301.451262 143.915897 \nL 301.50538 145.787395 \nL 301.613618 127.341732 \nL 301.667736 186.640948 \nL 301.721855 114.320122 \nL 301.775974 176.770069 \nL 301.830093 178.361669 \nL 301.93833 124.509076 \nL 301.992449 170.008478 \nL 302.046567 137.689629 \nL 302.154805 155.871747 \nL 302.208924 41.270135 \nL 302.263042 148.863438 \nL 302.317161 190.793252 \nL 302.425398 189.068595 \nL 302.479517 103.041154 \nL 302.533636 147.526328 \nL 302.587755 142.240694 \nL 302.641873 196.587404 \nL 302.695992 152.245439 \nL 302.750111 163.72335 \nL 302.804229 127.217922 \nL 302.858348 129.123902 \nL 302.912467 159.195934 \nL 302.966586 157.819996 \nL 303.020704 129.831998 \nL 303.074823 140.657025 \nL 303.128942 173.68968 \nL 303.18306 149.676884 \nL 303.237179 165.299993 \nL 303.291298 143.673764 \nL 303.345417 170.458168 \nL 303.399535 154.190469 \nL 303.561891 174.735996 \nL 303.61601 134.929997 \nL 303.670129 174.881156 \nL 303.724248 139.833904 \nL 303.778366 184.084161 \nL 303.832485 145.951191 \nL 303.886604 171.597096 \nL 303.940722 161.099043 \nL 303.994841 166.527077 \nL 304.103079 136.479581 \nL 304.157197 163.284668 \nL 304.211316 145.650959 \nL 304.265435 152.575125 \nL 304.319553 217.906661 \nL 304.373672 169.638727 \nL 304.427791 172.555304 \nL 304.590147 97.581875 \nL 304.806622 178.214844 \nL 304.86074 107.063462 \nL 304.914859 178.077536 \nL 304.968978 153.865002 \nL 305.023097 193.417638 \nL 305.077215 166.421205 \nL 305.131334 176.524764 \nL 305.239571 112.581792 \nL 305.29369 133.483287 \nL 305.347809 139.708333 \nL 305.401928 201.297269 \nL 305.456046 174.491008 \nL 305.510165 155.055351 \nL 305.564284 174.420569 \nL 305.618402 183.668398 \nL 305.72664 143.057391 \nL 305.780759 175.136041 \nL 305.834877 139.526091 \nL 305.888996 182.416222 \nL 305.943115 134.245311 \nL 305.997233 179.29101 \nL 306.15959 142.341395 \nL 306.267827 180.7076 \nL 306.321946 126.137441 \nL 306.376064 176.386805 \nL 306.538421 110.356864 \nL 306.700777 165.848275 \nL 306.754895 139.078843 \nL 306.809014 146.411017 \nL 306.863133 169.904985 \nL 306.917252 110.253482 \nL 306.97137 153.937899 \nL 307.025489 141.37873 \nL 307.079608 153.455282 \nL 307.133726 186.84787 \nL 307.187845 174.459841 \nL 307.350201 129.383355 \nL 307.40432 174.996576 \nL 307.458439 148.702164 \nL 307.512557 150.660009 \nL 307.566676 145.08328 \nL 307.620795 164.921947 \nL 307.674914 152.747486 \nL 307.783151 182.468659 \nL 307.83727 160.992252 \nL 307.891388 174.61688 \nL 307.945507 206.547159 \nL 308.053745 96.062348 \nL 308.216101 181.718086 \nL 308.378457 150.608017 \nL 308.432575 163.454713 \nL 308.486694 174.762421 \nL 308.540813 166.276648 \nL 308.64905 103.339467 \nL 308.703169 134.1297 \nL 308.811406 166.096563 \nL 308.919644 118.064149 \nL 308.973763 143.634381 \nL 309.027881 147.672835 \nL 309.082 195.279557 \nL 309.136119 175.373781 \nL 309.190237 176.140611 \nL 309.244356 153.330773 \nL 309.298475 174.747527 \nL 309.352594 185.238173 \nL 309.406712 177.328042 \nL 309.460831 151.988397 \nL 309.51495 200.790202 \nL 309.569068 159.074868 \nL 309.623187 128.567245 \nL 309.677306 158.867232 \nL 309.731425 152.571953 \nL 309.785543 112.50125 \nL 309.839662 151.733606 \nL 309.893781 153.390934 \nL 309.947899 158.915195 \nL 310.002018 151.944826 \nL 310.056137 163.720844 \nL 310.164374 132.651808 \nL 310.218493 185.053916 \nL 310.272612 165.017383 \nL 310.380849 128.082043 \nL 310.434968 178.741602 \nL 310.489087 161.58718 \nL 310.543205 159.370659 \nL 310.597324 185.191383 \nL 310.651443 174.537623 \nL 310.75968 77.751297 \nL 310.867918 179.377357 \nL 310.922036 101.902559 \nL 311.084392 196.772803 \nL 311.138511 128.242381 \nL 311.19263 165.78537 \nL 311.354986 132.98549 \nL 311.517342 177.044956 \nL 311.571461 140.39708 \nL 311.625579 143.846601 \nL 311.679698 169.572365 \nL 311.733817 139.20995 \nL 311.787936 180.25837 \nL 311.842054 146.88564 \nL 311.896173 148.823897 \nL 311.950292 166.942428 \nL 312.00441 154.450113 \nL 312.058529 161.783016 \nL 312.112648 136.210389 \nL 312.166767 169.601581 \nL 312.220885 147.080444 \nL 312.275004 146.738641 \nL 312.329123 165.397633 \nL 312.383241 133.935752 \nL 312.545598 183.908786 \nL 312.762072 121.081157 \nL 312.924429 177.706088 \nL 313.032666 136.513206 \nL 313.086785 152.875056 \nL 313.140903 114.114024 \nL 313.195022 147.920885 \nL 313.30326 197.28094 \nL 313.357378 129.495889 \nL 313.411497 160.525194 \nL 313.465616 174.303246 \nL 313.627972 135.868204 \nL 313.682091 169.78127 \nL 313.736209 111.281193 \nL 313.790328 135.947874 \nL 313.844447 151.776907 \nL 313.898565 121.651042 \nL 313.952684 140.809766 \nL 314.006803 148.884121 \nL 314.169159 115.21506 \nL 314.223278 155.057937 \nL 314.277396 128.741716 \nL 314.385634 115.69671 \nL 314.439753 171.80405 \nL 314.493871 156.002806 \nL 314.54799 100.326234 \nL 314.602109 174.844786 \nL 314.656227 158.032438 \nL 314.710346 125.423476 \nL 314.818584 174.175502 \nL 314.872702 165.565807 \nL 314.926821 122.461283 \nL 314.98094 134.204294 \nL 315.089177 168.047461 \nL 315.197414 92.936485 \nL 315.359771 158.37992 \nL 315.413889 158.988283 \nL 315.468008 133.217869 \nL 315.522127 140.603383 \nL 315.576245 157.592122 \nL 315.630364 133.109317 \nL 315.738602 188.505721 \nL 315.79272 182.232378 \nL 315.900958 135.145975 \nL 315.955076 175.28856 \nL 316.009195 167.306215 \nL 316.063314 167.540132 \nL 316.117433 178.382272 \nL 316.279789 105.737248 \nL 316.442145 160.653969 \nL 316.550382 134.851929 \nL 316.604501 151.137234 \nL 316.712738 163.173546 \nL 316.766857 157.702292 \nL 316.875095 149.970391 \nL 316.929213 130.790809 \nL 316.983332 163.608898 \nL 317.037451 157.022031 \nL 317.091569 136.701507 \nL 317.145688 155.899408 \nL 317.199807 144.121741 \nL 317.308044 195.315402 \nL 317.362163 151.09065 \nL 317.4704 152.265551 \nL 317.632757 199.037946 \nL 317.795113 121.909972 \nL 317.849231 122.098067 \nL 317.957469 184.546286 \nL 318.011588 165.675486 \nL 318.065706 190.039159 \nL 318.119825 160.361715 \nL 318.173944 166.490295 \nL 318.282181 170.945591 \nL 318.3363 139.433304 \nL 318.390418 188.575588 \nL 318.444537 139.172582 \nL 318.606893 170.177794 \nL 318.661012 106.913576 \nL 318.715131 147.493781 \nL 318.823368 167.262676 \nL 318.877487 192.211539 \nL 319.039843 92.815799 \nL 319.14808 169.307202 \nL 319.202199 168.826805 \nL 319.310437 195.003037 \nL 319.526911 75.785362 \nL 319.689268 192.858286 \nL 319.743386 136.501041 \nL 319.797505 142.209892 \nL 319.851624 175.54941 \nL 319.905742 112.928877 \nL 319.959861 185.196649 \nL 320.01398 139.158751 \nL 320.068099 134.104164 \nL 320.122217 190.857997 \nL 320.176336 157.728732 \nL 320.230455 173.839186 \nL 320.284573 161.518978 \nL 320.338692 99.871928 \nL 320.392811 118.445891 \nL 320.555167 161.507923 \nL 320.609286 162.880991 \nL 320.717523 181.584474 \nL 320.771642 174.28997 \nL 320.825761 136.862338 \nL 320.879879 156.214613 \nL 320.933998 198.016603 \nL 320.988117 172.644443 \nL 321.042235 157.457795 \nL 321.150473 188.456425 \nL 321.312829 149.120608 \nL 321.421066 187.419134 \nL 321.583423 134.930869 \nL 321.69166 150.470312 \nL 321.745779 148.536084 \nL 321.799897 187.726599 \nL 321.854016 172.210297 \nL 321.908135 159.601087 \nL 322.016372 187.726662 \nL 322.12461 137.825923 \nL 322.232847 200.6124 \nL 322.286966 178.657888 \nL 322.341084 119.903576 \nL 322.395203 152.799669 \nL 322.557559 190.936937 \nL 322.611678 124.422412 \nL 322.665797 194.733876 \nL 322.719915 145.908224 \nL 322.828153 145.683189 \nL 322.882272 194.894183 \nL 322.990509 153.340068 \nL 323.044628 166.10481 \nL 323.152865 99.426695 \nL 323.206984 156.020364 \nL 323.261103 146.03692 \nL 323.315221 92.450442 \nL 323.36934 193.083781 \nL 323.423459 168.68412 \nL 323.585815 115.562526 \nL 323.748171 173.58024 \nL 323.80229 196.963562 \nL 323.964646 142.165735 \nL 324.018765 149.963586 \nL 324.072883 137.121062 \nL 324.127002 150.882174 \nL 324.181121 121.208616 \nL 324.235239 160.191876 \nL 324.289358 135.007826 \nL 324.343477 144.32944 \nL 324.397596 127.51265 \nL 324.451714 162.323843 \nL 324.505833 160.412074 \nL 324.559952 122.162018 \nL 324.61407 172.762956 \nL 324.668189 142.054915 \nL 324.776427 177.69949 \nL 324.830545 130.184461 \nL 324.884664 157.714806 \nL 324.938783 206.305351 \nL 325.101139 117.237603 \nL 325.155258 187.882702 \nL 325.209376 165.940015 \nL 325.263495 128.578475 \nL 325.371732 205.781583 \nL 325.534088 126.160392 \nL 325.642326 164.920441 \nL 325.696445 154.069164 \nL 325.750563 160.936024 \nL 325.804682 163.307888 \nL 325.858801 145.344018 \nL 325.912919 206.534336 \nL 325.967038 158.793225 \nL 326.021157 153.905479 \nL 326.075276 173.933209 \nL 326.129394 158.250177 \nL 326.183513 158.895337 \nL 326.237632 186.215113 \nL 326.29175 174.713029 \nL 326.345869 173.839693 \nL 326.399988 179.554746 \nL 326.562344 138.847924 \nL 326.616463 204.402107 \nL 326.670581 185.434896 \nL 326.778819 161.676557 \nL 326.832938 171.601014 \nL 326.887056 158.535547 \nL 326.941175 169.573031 \nL 326.995294 168.20607 \nL 327.103531 158.749734 \nL 327.15765 199.575942 \nL 327.211769 134.891328 \nL 327.265887 151.122912 \nL 327.374125 138.152468 \nL 327.536481 204.211228 \nL 327.698837 144.300557 \nL 327.752956 149.810623 \nL 327.807074 107.438511 \nL 327.861193 176.935943 \nL 327.915312 146.163411 \nL 328.023549 178.910109 \nL 328.077668 160.406538 \nL 328.131787 128.820704 \nL 328.185905 143.171193 \nL 328.348262 169.5848 \nL 328.40238 175.517815 \nL 328.456499 165.873256 \nL 328.510618 167.538594 \nL 328.564736 200.057354 \nL 328.618855 135.709087 \nL 328.672974 150.23852 \nL 328.727092 190.432637 \nL 328.781211 149.710414 \nL 328.889449 190.844705 \nL 328.943567 186.623786 \nL 328.997686 138.286382 \nL 329.051805 207.093006 \nL 329.105923 185.097486 \nL 329.26828 94.736736 \nL 329.376517 201.101893 \nL 329.430636 132.822456 \nL 329.484754 178.638363 \nL 329.701229 134.368424 \nL 329.809467 185.773639 \nL 329.863585 179.620855 \nL 330.025942 125.109048 \nL 330.134179 172.913302 \nL 330.296535 146.812299 \nL 330.404773 185.439639 \nL 330.458891 144.089527 \nL 330.51301 173.365498 \nL 330.621247 132.254855 \nL 330.675366 171.407272 \nL 330.729485 135.203678 \nL 330.837722 161.959009 \nL 330.891841 156.027834 \nL 330.94596 174.683671 \nL 331.000078 156.478761 \nL 331.162435 199.017367 \nL 331.324791 111.423006 \nL 331.433028 201.999846 \nL 331.487147 199.072158 \nL 331.595384 143.564228 \nL 331.649503 145.339609 \nL 331.703622 171.350062 \nL 331.75774 140.354065 \nL 331.811859 148.91827 \nL 331.865978 183.198675 \nL 331.920097 157.954624 \nL 332.028334 132.850863 \nL 332.136571 189.906355 \nL 332.19069 179.555984 \nL 332.244809 183.427834 \nL 332.407165 143.39745 \nL 332.461284 135.59419 \nL 332.515402 172.162048 \nL 332.569521 164.346861 \nL 332.62364 141.231778 \nL 332.677758 167.548158 \nL 332.731877 164.434017 \nL 332.785996 159.901922 \nL 332.840115 192.92966 \nL 332.948352 127.430871 \nL 333.002471 172.584679 \nL 333.056589 124.786135 \nL 333.110708 161.063325 \nL 333.164827 156.806544 \nL 333.218946 194.783283 \nL 333.273064 168.248895 \nL 333.327183 180.146709 \nL 333.489539 149.45372 \nL 333.651895 189.094749 \nL 333.760133 136.508416 \nL 333.814251 183.093136 \nL 333.86837 92.524164 \nL 333.922489 114.171029 \nL 333.976608 107.919542 \nL 334.138964 172.547057 \nL 334.193082 171.962691 \nL 334.247201 151.773687 \nL 334.30132 167.229939 \nL 334.463676 159.050473 \nL 334.571913 184.74569 \nL 334.788388 119.466861 \nL 334.950744 173.876586 \nL 335.004863 84.555443 \nL 335.058982 160.488825 \nL 335.113101 174.094278 \nL 335.167219 161.75223 \nL 335.221338 162.390633 \nL 335.275457 132.309528 \nL 335.329575 181.434112 \nL 335.383694 168.771482 \nL 335.437813 168.096312 \nL 335.654288 121.165316 \nL 335.708406 196.650895 \nL 335.762525 178.486828 \nL 335.924881 139.302879 \nL 335.979 190.631486 \nL 336.033119 160.790421 \nL 336.087237 187.037345 \nL 336.141356 175.479447 \nL 336.195475 176.399256 \nL 336.249593 142.862285 \nL 336.303712 174.313999 \nL 336.41195 158.894877 \nL 336.466068 139.898665 \nL 336.520187 171.297467 \nL 336.574306 156.210584 \nL 336.628424 148.289462 \nL 336.682543 124.042383 \nL 336.736662 183.693442 \nL 336.790781 153.707439 \nL 336.844899 148.748319 \nL 336.953137 170.453378 \nL 337.007255 155.523424 \nL 337.061374 162.273944 \nL 337.22373 154.076619 \nL 337.277849 142.385188 \nL 337.331968 186.523022 \nL 337.386086 148.235233 \nL 337.440205 111.823464 \nL 337.494324 149.768687 \nL 337.548443 169.726248 \nL 337.602561 151.682629 \nL 337.764917 171.026292 \nL 337.819036 171.121236 \nL 337.873155 131.240769 \nL 337.927274 152.412661 \nL 337.981392 187.594667 \nL 338.08963 129.006975 \nL 338.197867 174.059368 \nL 338.251986 146.31482 \nL 338.306105 133.842982 \nL 338.360223 140.003791 \nL 338.414342 179.708058 \nL 338.468461 141.765722 \nL 338.522579 138.45408 \nL 338.576698 153.883686 \nL 338.630817 204.554174 \nL 338.793173 139.743116 \nL 338.847292 125.465872 \nL 338.90141 164.503726 \nL 338.955529 143.889251 \nL 339.009648 135.262791 \nL 339.172004 164.245588 \nL 339.226123 115.116104 \nL 339.280241 144.027495 \nL 339.33436 144.648404 \nL 339.388479 131.370385 \nL 339.496716 182.582413 \nL 339.550835 143.037374 \nL 339.604954 150.162261 \nL 339.659072 148.541699 \nL 339.713191 122.861392 \nL 339.76731 181.661843 \nL 339.821428 144.398181 \nL 339.875547 143.733274 \nL 339.929666 179.395851 \nL 339.983785 178.471506 \nL 340.037903 117.318842 \nL 340.092022 186.814229 \nL 340.146141 185.018895 \nL 340.200259 152.891916 \nL 340.254378 163.212263 \nL 340.308497 162.275435 \nL 340.362616 165.896366 \nL 340.416734 180.151499 \nL 340.470853 130.13932 \nL 340.524972 155.649582 \nL 340.633209 189.702335 \nL 340.687328 131.639878 \nL 340.741447 147.725097 \nL 340.849684 176.002399 \nL 340.903803 163.055921 \nL 340.957921 205.265403 \nL 341.01204 114.290287 \nL 341.066159 147.99835 \nL 341.174396 176.056009 \nL 341.228515 171.254277 \nL 341.282634 164.473082 \nL 341.336752 179.928906 \nL 341.44499 138.382595 \nL 341.499109 139.216231 \nL 341.607346 212.148331 \nL 341.715583 187.772056 \nL 341.769702 162.51741 \nL 341.823821 170.706424 \nL 341.932058 204.110416 \nL 341.986177 145.166042 \nL 342.040296 170.817324 \nL 342.094414 187.576887 \nL 342.148533 148.365595 \nL 342.202652 166.437732 \nL 342.365008 160.728642 \nL 342.419127 145.57359 \nL 342.473245 149.974055 \nL 342.527364 148.623097 \nL 342.581483 141.989219 \nL 342.743839 177.436531 \nL 342.797958 170.337514 \nL 342.852076 180.801402 \nL 342.960314 160.471853 \nL 343.014432 184.468916 \nL 343.12267 136.919247 \nL 343.176789 154.306666 \nL 343.230907 130.318169 \nL 343.285026 144.998249 \nL 343.447382 198.835203 \nL 343.609738 146.260385 \nL 343.663857 145.055618 \nL 343.717976 138.500204 \nL 343.988569 202.735921 \nL 344.096807 145.35677 \nL 344.150925 175.37957 \nL 344.205044 150.033708 \nL 344.259163 123.7274 \nL 344.313282 141.722263 \nL 344.475638 171.574003 \nL 344.529756 167.770782 \nL 344.583875 147.215738 \nL 344.637994 181.70987 \nL 344.692113 160.257477 \nL 344.854469 127.164312 \nL 345.016825 173.9042 \nL 345.070944 159.918369 \nL 345.125062 126.393628 \nL 345.179181 136.595144 \nL 345.2333 154.861229 \nL 345.287418 118.613366 \nL 345.341537 186.786773 \nL 345.395656 163.834758 \nL 345.449775 168.431851 \nL 345.558012 168.793116 \nL 345.612131 134.270244 \nL 345.774487 180.189788 \nL 345.936843 134.375561 \nL 346.099199 201.568055 \nL 346.153318 156.437729 \nL 346.207436 159.538912 \nL 346.261555 166.185289 \nL 346.315674 162.47798 \nL 346.423911 138.201336 \nL 346.47803 144.890521 \nL 346.532149 166.082541 \nL 346.586267 156.541634 \nL 346.640386 145.615558 \nL 346.694505 148.873716 \nL 346.748624 153.24763 \nL 346.856861 117.450901 \nL 346.91098 176.910264 \nL 346.965098 146.017062 \nL 347.019217 123.310098 \nL 347.181573 178.606911 \nL 347.235692 203.652447 \nL 347.398048 162.047513 \nL 347.560404 195.987923 \nL 347.72276 174.952879 \nL 347.776879 143.114617 \nL 347.830998 151.814941 \nL 347.885117 163.611182 \nL 347.939235 162.068957 \nL 347.993354 157.643146 \nL 348.101591 197.029766 \nL 348.263948 119.029542 \nL 348.372185 117.890471 \nL 348.426304 173.205223 \nL 348.534541 132.830069 \nL 348.58866 142.776731 \nL 348.642779 144.993808 \nL 348.696897 167.769386 \nL 348.805135 112.979125 \nL 348.859253 130.613484 \nL 348.967491 208.249397 \nL 349.129847 147.006072 \nL 349.183966 156.062142 \nL 349.238084 192.278282 \nL 349.292203 154.887971 \nL 349.346322 156.635722 \nL 349.40044 190.893303 \nL 349.454559 120.25239 \nL 349.508678 126.905001 \nL 349.562797 192.983492 \nL 349.616915 156.10273 \nL 349.671034 180.657955 \nL 349.725153 125.274875 \nL 349.779271 144.398657 \nL 349.887509 190.700973 \nL 349.941628 171.679018 \nL 349.995746 172.033352 \nL 350.049865 140.894416 \nL 350.158102 198.406735 \nL 350.26634 137.703524 \nL 350.428696 189.028118 \nL 350.645171 135.535219 \nL 350.69929 145.715133 \nL 350.753408 181.773568 \nL 350.807527 164.788858 \nL 350.861646 149.295887 \nL 350.915764 198.104378 \nL 350.969883 176.242074 \nL 351.024002 172.665839 \nL 351.078121 177.995249 \nL 351.132239 155.97294 \nL 351.186358 169.150146 \nL 351.240477 172.242558 \nL 351.294595 137.472334 \nL 351.348714 145.359276 \nL 351.402833 190.862787 \nL 351.456952 184.988093 \nL 351.51107 167.618216 \nL 351.619308 204.400799 \nL 351.781664 133.409898 \nL 351.835783 132.230303 \nL 351.94402 158.614043 \nL 351.998139 145.006751 \nL 352.052257 171.543502 \nL 352.106376 82.031726 \nL 352.160495 168.829581 \nL 352.214614 159.183277 \nL 352.268732 113.937095 \nL 352.322851 160.29402 \nL 352.485207 178.272832 \nL 352.539326 169.457262 \nL 352.647563 197.316548 \nL 352.701682 159.624561 \nL 352.755801 166.769194 \nL 352.918157 193.697172 \nL 353.026394 88.842708 \nL 353.080513 167.840697 \nL 353.134632 169.676223 \nL 353.242869 147.295329 \nL 353.296988 182.947818 \nL 353.351106 173.162636 \nL 353.513463 200.711262 \nL 353.729937 140.190919 \nL 353.784056 195.136015 \nL 353.838175 163.615813 \nL 353.946412 186.991792 \nL 354.000531 146.08279 \nL 354.05465 180.706427 \nL 354.217006 158.618944 \nL 354.271125 198.034542 \nL 354.325243 151.045193 \nL 354.379362 158.739281 \nL 354.433481 160.387505 \nL 354.487599 141.041606 \nL 354.595837 167.356097 \nL 354.649956 153.00556 \nL 354.704074 153.412806 \nL 354.758193 212.029619 \nL 354.812312 172.415855 \nL 354.86643 184.043541 \nL 354.974668 133.572076 \nL 355.028787 205.499329 \nL 355.082905 178.81599 \nL 355.137024 177.622088 \nL 355.191143 195.423828 \nL 355.245261 193.5982 \nL 355.29938 177.827551 \nL 355.353499 196.758512 \nL 355.515855 126.816735 \nL 355.569974 170.828363 \nL 355.624092 96.324513 \nL 355.678211 125.72807 \nL 355.786448 201.275737 \nL 355.840567 186.515012 \nL 355.948805 151.515978 \nL 356.002923 164.458633 \nL 356.057042 172.349778 \nL 356.111161 204.818592 \nL 356.165279 183.949184 \nL 356.327636 135.883161 \nL 356.381754 188.975269 \nL 356.435873 136.272373 \nL 356.54411 195.428237 \nL 356.598229 171.384369 \nL 356.652348 174.234853 \nL 356.706467 206.772813 \nL 356.760585 169.735067 \nL 356.814704 191.020857 \nL 356.922941 172.153229 \nL 357.085298 207.536574 \nL 357.247654 149.224577 \nL 357.355891 183.437732 \nL 357.41001 182.140115 \nL 357.464129 181.120731 \nL 357.518247 182.135658 \nL 357.572366 207.368678 \nL 357.734722 143.877878 \nL 357.788841 185.319682 \nL 357.84296 161.703124 \nL 357.897078 158.867993 \nL 357.951197 166.10251 \nL 358.059434 193.91599 \nL 358.221791 138.431367 \nL 358.330028 193.468822 \nL 358.384147 170.497313 \nL 358.438265 158.645781 \nL 358.492384 161.951253 \nL 358.546503 193.826835 \nL 358.600622 161.735147 \nL 358.65474 152.731705 \nL 358.817096 214.189002 \nL 358.871215 151.833609 \nL 358.925334 182.829844 \nL 358.979453 192.802328 \nL 359.033571 173.406181 \nL 359.08769 196.262318 \nL 359.195927 151.283551 \nL 359.250046 192.237218 \nL 359.304165 150.872388 \nL 359.358283 166.061034 \nL 359.412402 163.765414 \nL 359.52064 135.101898 \nL 359.628877 214.064692 \nL 359.682996 169.490761 \nL 359.791233 171.702651 \nL 359.899471 152.124071 \nL 360.007708 181.821849 \nL 360.061827 151.027318 \nL 360.115945 161.18068 \nL 360.170064 172.870842 \nL 360.224183 146.306874 \nL 360.278302 169.563134 \nL 360.33242 152.000594 \nL 360.494776 194.189718 \nL 360.603014 150.770782 \nL 360.657133 163.909844 \nL 360.76537 192.288497 \nL 360.819489 173.241751 \nL 360.873607 194.519024 \nL 360.927726 180.990877 \nL 361.090082 200.444821 \nL 361.144201 148.622891 \nL 361.19832 200.186296 \nL 361.252438 151.422509 \nL 361.306557 167.023794 \nL 361.360676 156.944185 \nL 361.468913 189.736817 \nL 361.577151 174.223544 \nL 361.631269 193.561212 \nL 361.739507 161.746837 \nL 361.847744 179.729027 \nL 361.955982 134.183612 \nL 362.064219 190.067423 \nL 362.118338 137.781702 \nL 362.172457 179.13838 \nL 362.226575 155.636925 \nL 362.280694 167.48078 \nL 362.334813 192.546935 \nL 362.388931 174.451117 \nL 362.44305 169.085672 \nL 362.497169 178.936359 \nL 362.551288 158.678042 \nL 362.605406 186.781983 \nL 362.659525 143.324505 \nL 362.713644 182.718754 \nL 362.767762 183.604478 \nL 362.821881 135.558662 \nL 362.876 149.371513 \nL 362.930118 189.815472 \nL 362.984237 177.182264 \nL 363.038356 185.472106 \nL 363.092475 173.812317 \nL 363.146593 199.556108 \nL 363.200712 154.247727 \nL 363.254831 180.516761 \nL 363.308949 190.727588 \nL 363.363068 161.522801 \nL 363.363068 161.522801 \n\" style=\"fill:none;stroke:#1f77b4;stroke-linecap:square;stroke-width:1.5;\"/>\n   </g>\n   <g id=\"patch_3\">\n    <path d=\"M 43.78125 227.790297 \nL 43.78125 10.350297 \n\" style=\"fill:none;stroke:#000000;stroke-linecap:square;stroke-linejoin:miter;stroke-width:0.8;\"/>\n   </g>\n   <g id=\"patch_4\">\n    <path d=\"M 378.58125 227.790297 \nL 378.58125 10.350297 \n\" style=\"fill:none;stroke:#000000;stroke-linecap:square;stroke-linejoin:miter;stroke-width:0.8;\"/>\n   </g>\n   <g id=\"patch_5\">\n    <path d=\"M 43.78125 227.790297 \nL 378.58125 227.790297 \n\" style=\"fill:none;stroke:#000000;stroke-linecap:square;stroke-linejoin:miter;stroke-width:0.8;\"/>\n   </g>\n   <g id=\"patch_6\">\n    <path d=\"M 43.78125 10.350297 \nL 378.58125 10.350297 \n\" style=\"fill:none;stroke:#000000;stroke-linecap:square;stroke-linejoin:miter;stroke-width:0.8;\"/>\n   </g>\n  </g>\n </g>\n <defs>\n  <clipPath id=\"p3bf4ff2a89\">\n   <rect height=\"217.44\" width=\"334.8\" x=\"43.78125\" y=\"10.350297\"/>\n  </clipPath>\n </defs>\n</svg>\n",
      "image/png": "[encoded data removed]"
     },
     "metadata": {
      "needs_background": "light"
     }
    }
   ],
   "source": [
    "import matplotlib.pyplot as plt\n",
    "\n",
    "plt.plot(loss_history)\n",
    "plt.xlabel('Batch #')\n",
    "plt.ylabel('Loss [entropy]')"
   ]
  },
  {
   "cell_type": "markdown",
   "metadata": {
    "id": "kKpOlHPLqEgl"
   },
   "source": [
    "### Variables and optimizers\n",
    "\n",
    "`tf.Variable` objects store mutable `tf.Tensor`-like values accessed during\n",
    "training to make automatic differentiation easier. \n",
    "\n",
    "The collections of variables can be encapsulated into layers or models, along with methods that operate on them. See [Custom Keras layers and models](./keras/custom_layers_and_models.ipynb) for details. The main difference between layers and models is that models add methods like  `Model.fit`, `Model.evaluate`, and `Model.save`.\n",
    "\n",
    "For example, the automatic differentiation example above\n",
    "can be rewritten:"
   ]
  },
  {
   "source": [
    "ここの意図があまりわからなかった。layersとmodelsの説明のところでそれらのことを改めて勉強したほうが良ささそう。"
   ],
   "cell_type": "markdown",
   "metadata": {}
  },
  {
   "cell_type": "code",
   "execution_count": 24,
   "metadata": {
    "execution": {
     "iopub.execute_input": "2021-04-07T01:29:41.273069Z",
     "iopub.status.busy": "2021-04-07T01:29:41.272387Z",
     "iopub.status.idle": "2021-04-07T01:29:41.274307Z",
     "shell.execute_reply": "2021-04-07T01:29:41.274646Z"
    },
    "id": "2qXcPngYk8dN"
   },
   "outputs": [],
   "source": [
    "class Linear(tf.keras.Model):\n",
    "  def __init__(self):\n",
    "    super(Linear, self).__init__()\n",
    "    self.W = tf.Variable(5., name='weight')\n",
    "    self.B = tf.Variable(10., name='bias')\n",
    "  def call(self, inputs):\n",
    "    return inputs * self.W + self.B"
   ]
  },
  {
   "cell_type": "code",
   "execution_count": 25,
   "metadata": {
    "execution": {
     "iopub.execute_input": "2021-04-07T01:29:41.282177Z",
     "iopub.status.busy": "2021-04-07T01:29:41.281595Z",
     "iopub.status.idle": "2021-04-07T01:29:41.283517Z",
     "shell.execute_reply": "2021-04-07T01:29:41.283888Z"
    },
    "id": "nnQLBYmEqEgm"
   },
   "outputs": [],
   "source": [
    "# A toy dataset of points around 3 * x + 2\n",
    "NUM_EXAMPLES = 2000\n",
    "training_inputs = tf.random.normal([NUM_EXAMPLES])\n",
    "noise = tf.random.normal([NUM_EXAMPLES])\n",
    "training_outputs = training_inputs * 3 + 2 + noise\n",
    "\n",
    "# The loss function to be optimized\n",
    "def loss(model, inputs, targets):\n",
    "  error = model(inputs) - targets\n",
    "  return tf.reduce_mean(tf.square(error))\n",
    "\n",
    "def grad(model, inputs, targets):\n",
    "  with tf.GradientTape() as tape:\n",
    "    loss_value = loss(model, inputs, targets)\n",
    "  return tape.gradient(loss_value, [model.W, model.B])"
   ]
  },
  {
   "cell_type": "markdown",
   "metadata": {
    "id": "Q7x1CDurl3IG"
   },
   "source": [
    "Next:\n",
    "\n",
    "1. Create the model.\n",
    "2. The Derivatives of a loss function with respect to model parameters.\n",
    "3. A strategy for updating the variables based on the derivatives."
   ]
  },
  {
   "cell_type": "code",
   "execution_count": 26,
   "metadata": {
    "execution": {
     "iopub.execute_input": "2021-04-07T01:29:41.291117Z",
     "iopub.status.busy": "2021-04-07T01:29:41.290538Z",
     "iopub.status.idle": "2021-04-07T01:29:41.818478Z",
     "shell.execute_reply": "2021-04-07T01:29:41.818861Z"
    },
    "id": "SbXJk0f2lztg"
   },
   "outputs": [
    {
     "output_type": "stream",
     "name": "stdout",
     "text": [
      "Initial loss: 69.503\n",
      "Loss at step 000: 66.774\n",
      "Loss at step 020: 30.184\n",
      "Loss at step 040: 13.959\n",
      "Loss at step 060: 6.763\n",
      "Loss at step 080: 3.572\n",
      "Loss at step 100: 2.157\n",
      "Loss at step 120: 1.530\n",
      "Loss at step 140: 1.251\n",
      "Loss at step 160: 1.128\n",
      "Loss at step 180: 1.073\n",
      "Loss at step 200: 1.048\n",
      "Loss at step 220: 1.038\n",
      "Loss at step 240: 1.033\n",
      "Loss at step 260: 1.031\n",
      "Loss at step 280: 1.030\n"
     ]
    }
   ],
   "source": [
    "model = Linear()\n",
    "optimizer = tf.keras.optimizers.SGD(learning_rate=0.01)\n",
    "\n",
    "print(\"Initial loss: {:.3f}\".format(loss(model, training_inputs, training_outputs)))\n",
    "\n",
    "steps = 300\n",
    "for i in range(steps):\n",
    "  grads = grad(model, training_inputs, training_outputs)\n",
    "  optimizer.apply_gradients(zip(grads, [model.W, model.B]))\n",
    "  if i % 20 == 0:\n",
    "    print(\"Loss at step {:03d}: {:.3f}\".format(i, loss(model, training_inputs, training_outputs)))"
   ]
  },
  {
   "cell_type": "code",
   "execution_count": 27,
   "metadata": {
    "execution": {
     "iopub.execute_input": "2021-04-07T01:29:41.823591Z",
     "iopub.status.busy": "2021-04-07T01:29:41.822721Z",
     "iopub.status.idle": "2021-04-07T01:29:41.825481Z",
     "shell.execute_reply": "2021-04-07T01:29:41.825851Z"
    },
    "id": "PV_dqer7pzSH"
   },
   "outputs": [
    {
     "output_type": "stream",
     "name": "stdout",
     "text": [
      "Final loss: 1.029\n"
     ]
    }
   ],
   "source": [
    "print(\"Final loss: {:.3f}\".format(loss(model, training_inputs, training_outputs)))"
   ]
  },
  {
   "cell_type": "code",
   "execution_count": 28,
   "metadata": {
    "execution": {
     "iopub.execute_input": "2021-04-07T01:29:41.829952Z",
     "iopub.status.busy": "2021-04-07T01:29:41.829052Z",
     "iopub.status.idle": "2021-04-07T01:29:41.832556Z",
     "shell.execute_reply": "2021-04-07T01:29:41.832062Z"
    },
    "id": "rvt_Wj3Tp0hm"
   },
   "outputs": [
    {
     "output_type": "stream",
     "name": "stdout",
     "text": [
      "W = 3.0421087741851807, B = 2.0052525997161865\n"
     ]
    }
   ],
   "source": [
    "print(\"W = {}, B = {}\".format(model.W.numpy(), model.B.numpy()))"
   ]
  },
  {
   "cell_type": "markdown",
   "metadata": {
    "id": "rPjb8nRWqEgr"
   },
   "source": [
    "Note: Variables persist until the last reference to the python object\n",
    "is removed, and is the variable is deleted."
   ]
  },
  {
   "cell_type": "markdown",
   "metadata": {
    "id": "scMjg6L6qEgv"
   },
   "source": [
    "### Object-based saving\n"
   ]
  },
  {
   "cell_type": "markdown",
   "metadata": {
    "id": "Y-0ZcCcjwkux"
   },
   "source": [
    "A `tf.keras.Model` includes a convenient `save_weights` method allowing you to easily create a checkpoint: "
   ]
  },
  {
   "source": [
    "訓練途中のmodelのweightsを保存することができるようです。次のコマンドを実行するとカレントディレクトリに保存されました。"
   ],
   "cell_type": "markdown",
   "metadata": {}
  },
  {
   "cell_type": "code",
   "execution_count": 29,
   "metadata": {
    "execution": {
     "iopub.execute_input": "2021-04-07T01:29:41.837329Z",
     "iopub.status.busy": "2021-04-07T01:29:41.836739Z",
     "iopub.status.idle": "2021-04-07T01:29:41.847906Z",
     "shell.execute_reply": "2021-04-07T01:29:41.847493Z"
    },
    "id": "oJrMX94PwD9s"
   },
   "outputs": [],
   "source": [
    "model.save_weights('weights')\n",
    "status = model.load_weights('weights')"
   ]
  },
  {
   "cell_type": "markdown",
   "metadata": {
    "id": "2EfTjWV_wEng"
   },
   "source": [
    "Using `tf.train.Checkpoint` you can take full control over this process.\n",
    "\n",
    "This section is an abbreviated version of the [guide to training checkpoints](./checkpoint.ipynb).\n"
   ]
  },
  {
   "cell_type": "code",
   "execution_count": 30,
   "metadata": {
    "execution": {
     "iopub.execute_input": "2021-04-07T01:29:41.851713Z",
     "iopub.status.busy": "2021-04-07T01:29:41.851084Z",
     "iopub.status.idle": "2021-04-07T01:29:41.853631Z",
     "shell.execute_reply": "2021-04-07T01:29:41.853206Z"
    },
    "id": "7z5xRfdHzZOQ"
   },
   "outputs": [],
   "source": [
    "x = tf.Variable(10.)\n",
    "checkpoint = tf.train.Checkpoint(x=x)"
   ]
  },
  {
   "cell_type": "code",
   "execution_count": 31,
   "metadata": {
    "execution": {
     "iopub.execute_input": "2021-04-07T01:29:41.857258Z",
     "iopub.status.busy": "2021-04-07T01:29:41.856665Z",
     "iopub.status.idle": "2021-04-07T01:29:41.864845Z",
     "shell.execute_reply": "2021-04-07T01:29:41.864379Z"
    },
    "id": "IffrUVG7zyVb"
   },
   "outputs": [
    {
     "output_type": "execute_result",
     "data": {
      "text/plain": [
       "'./ckpt/-1'"
      ]
     },
     "metadata": {},
     "execution_count": 31
    }
   ],
   "source": [
    "x.assign(2.)   # Assign a new value to the variables and save.\n",
    "checkpoint_path = './ckpt/'\n",
    "checkpoint.save(checkpoint_path)"
   ]
  },
  {
   "cell_type": "code",
   "execution_count": 32,
   "metadata": {
    "execution": {
     "iopub.execute_input": "2021-04-07T01:29:41.868370Z",
     "iopub.status.busy": "2021-04-07T01:29:41.867809Z",
     "iopub.status.idle": "2021-04-07T01:29:41.872956Z",
     "shell.execute_reply": "2021-04-07T01:29:41.872419Z"
    },
    "id": "eMT9koCoqEgw"
   },
   "outputs": [
    {
     "output_type": "stream",
     "name": "stdout",
     "text": [
      "<tf.Variable 'Variable:0' shape=() dtype=float32, numpy=2.0>\n"
     ]
    }
   ],
   "source": [
    "x.assign(11.)  # Change the variable after saving.\n",
    "\n",
    "# Restore values from the checkpoint\n",
    "checkpoint.restore(tf.train.latest_checkpoint(checkpoint_path))\n",
    "\n",
    "print(x)  # => 2.0"
   ]
  },
  {
   "cell_type": "markdown",
   "metadata": {
    "id": "vbFnP-yLqEgx"
   },
   "source": [
    "To save and load models, `tf.train.Checkpoint` stores the internal state of objects,\n",
    "without requiring hidden variables. To record the state of a `model`,\n",
    "an `optimizer`, and a global step, pass them to a `tf.train.Checkpoint`:\n",
    "\n",
    "modelをsaveするにはmodelを`tf.train.Checkpoint`に渡せばよくて、modelが所持している変数を明示的に渡す必要はないそうです。"
   ]
  },
  {
   "cell_type": "code",
   "execution_count": 33,
   "metadata": {
    "execution": {
     "iopub.execute_input": "2021-04-07T01:29:41.883639Z",
     "iopub.status.busy": "2021-04-07T01:29:41.882152Z",
     "iopub.status.idle": "2021-04-07T01:29:41.892772Z",
     "shell.execute_reply": "2021-04-07T01:29:41.892354Z"
    },
    "id": "hWZHyAXMqEg0"
   },
   "outputs": [
    {
     "output_type": "execute_result",
     "data": {
      "text/plain": [
       "<tensorflow.python.training.tracking.util.CheckpointLoadStatus at 0x7f86fdd498b0>"
      ]
     },
     "metadata": {},
     "execution_count": 33
    }
   ],
   "source": [
    "model = tf.keras.Sequential([\n",
    "  tf.keras.layers.Conv2D(16,[3,3], activation='relu'),\n",
    "  tf.keras.layers.GlobalAveragePooling2D(),\n",
    "  tf.keras.layers.Dense(10)\n",
    "])\n",
    "optimizer = tf.keras.optimizers.Adam(learning_rate=0.001)\n",
    "checkpoint_dir = 'path/to/model_dir'\n",
    "if not os.path.exists(checkpoint_dir):\n",
    "  os.makedirs(checkpoint_dir)\n",
    "checkpoint_prefix = os.path.join(checkpoint_dir, \"ckpt\")\n",
    "root = tf.train.Checkpoint(optimizer=optimizer,\n",
    "                           model=model)\n",
    "\n",
    "root.save(checkpoint_prefix)\n",
    "root.restore(tf.train.latest_checkpoint(checkpoint_dir))"
   ]
  },
  {
   "cell_type": "markdown",
   "metadata": {
    "id": "R-ITwkBCF6GJ"
   },
   "source": [
    "Note: In many training loops, variables are created after `tf.train.Checkpoint.restore` is called. These variables will be restored as soon as they are created, and assertions are available to ensure that a checkpoint has been fully loaded. See the [guide to training checkpoints](./checkpoint.ipynb) for details."
   ]
  },
  {
   "cell_type": "markdown",
   "metadata": {
    "id": "3yoD0VJ7qEg3"
   },
   "source": [
    "### Object-oriented metrics\n",
    "\n",
    "`tf.keras.metrics` are stored as objects. Update a metric by passing the new data to\n",
    "the callable, and retrieve the result using the `tf.keras.metrics.result` method,\n",
    "for example:"
   ]
  },
  {
   "cell_type": "code",
   "execution_count": 34,
   "metadata": {
    "execution": {
     "iopub.execute_input": "2021-04-07T01:29:41.904504Z",
     "iopub.status.busy": "2021-04-07T01:29:41.903251Z",
     "iopub.status.idle": "2021-04-07T01:29:41.913679Z",
     "shell.execute_reply": "2021-04-07T01:29:41.913220Z"
    },
    "id": "9ccu0iAaqEg5"
   },
   "outputs": [
    {
     "output_type": "execute_result",
     "data": {
      "text/plain": [
       "<tf.Tensor: shape=(), dtype=float32, numpy=5.5>"
      ]
     },
     "metadata": {},
     "execution_count": 34
    }
   ],
   "source": [
    "m = tf.keras.metrics.Mean(\"loss\")\n",
    "m(0)\n",
    "m(5)\n",
    "m.result()  # => 2.5\n",
    "m([8, 9])\n",
    "m.result()  # => 5.5"
   ]
  },
  {
   "cell_type": "markdown",
   "metadata": {
    "id": "aB8qWtT955pI"
   },
   "source": [
    "### Summaries and TensorBoard\n",
    "\n",
    "[TensorBoard](https://tensorflow.org/tensorboard) is a visualization tool for\n",
    "understanding, debugging and optimizing the model training process. It uses\n",
    "summary events that are written while executing the program.\n",
    "\n",
    "You can use `tf.summary` to record summaries of variable in eager execution.\n",
    "For example, to record summaries of `loss` once every 100 training steps:"
   ]
  },
  {
   "cell_type": "code",
   "execution_count": 35,
   "metadata": {
    "execution": {
     "iopub.execute_input": "2021-04-07T01:29:41.918554Z",
     "iopub.status.busy": "2021-04-07T01:29:41.917975Z",
     "iopub.status.idle": "2021-04-07T01:29:41.925849Z",
     "shell.execute_reply": "2021-04-07T01:29:41.926211Z"
    },
    "id": "z6VInqhA6RH4"
   },
   "outputs": [],
   "source": [
    "logdir = \"./tb/\"\n",
    "writer = tf.summary.create_file_writer(logdir)\n",
    "\n",
    "steps = 1000\n",
    "with writer.as_default():  # or call writer.set_as_default() before the loop.\n",
    "  for i in range(steps):\n",
    "    step = i + 1\n",
    "    # Calculate loss with your real train function.\n",
    "    loss = 1 - 0.001 * step\n",
    "    if step % 100 == 0:\n",
    "      tf.summary.scalar('loss', loss, step=step)"
   ]
  },
  {
   "cell_type": "code",
   "execution_count": 36,
   "metadata": {
    "execution": {
     "iopub.execute_input": "2021-04-07T01:29:41.929665Z",
     "iopub.status.busy": "2021-04-07T01:29:41.929063Z",
     "iopub.status.idle": "2021-04-07T01:29:42.077715Z",
     "shell.execute_reply": "2021-04-07T01:29:42.078090Z"
    },
    "id": "08QQD2j36TaI"
   },
   "outputs": [],
   "source": [
    "!ls tb/"
   ]
  },
  {
   "source": [
    "[Get started with TensorBoard](https://www.tensorflow.org/tensorboard/get_started)になんとなくTensorBoardの使い方が書いてあった。"
   ],
   "cell_type": "markdown",
   "metadata": {}
  },
  {
   "cell_type": "code",
   "execution_count": 37,
   "metadata": {},
   "outputs": [
    {
     "output_type": "display_data",
     "data": {
      "text/plain": "Reusing TensorBoard on port 6006 (pid 29972), started 6:34:28 ago. (Use '!kill 29972' to kill it.)"
     },
     "metadata": {}
    }
   ],
   "source": [
    "%load_ext tensorboard\n",
    "%tensorboard --logdir ./tb"
   ]
  },
  {
   "cell_type": "markdown",
   "metadata": {
    "id": "xEL4yJe5qEhD"
   },
   "source": [
    "## Advanced automatic differentiation topics\n",
    "\n",
    "### Dynamic models\n",
    "\n",
    "`tf.GradientTape` can also be used in dynamic models. This example for a\n",
    "[backtracking line search](https://wikipedia.org/wiki/Backtracking_line_search)\n",
    "algorithm looks like normal NumPy code, except there are gradients and is\n",
    "differentiable, despite the complex control flow:"
   ]
  },
  {
   "source": [
    "ここは何を意図しているのかあまり理解できなかった。"
   ],
   "cell_type": "markdown",
   "metadata": {}
  },
  {
   "cell_type": "code",
   "execution_count": 38,
   "metadata": {
    "execution": {
     "iopub.execute_input": "2021-04-07T01:29:42.084215Z",
     "iopub.status.busy": "2021-04-07T01:29:42.083450Z",
     "iopub.status.idle": "2021-04-07T01:29:42.085363Z",
     "shell.execute_reply": "2021-04-07T01:29:42.085774Z"
    },
    "id": "L518n5dkqEhE"
   },
   "outputs": [],
   "source": [
    "def line_search_step(fn, init_x, rate=1.0):\n",
    "  with tf.GradientTape() as tape:\n",
    "    # Variables are automatically tracked.\n",
    "    # But to calculate a gradient from a tensor, you must `watch` it.\n",
    "    tape.watch(init_x)\n",
    "    value = fn(init_x)\n",
    "  grad = tape.gradient(value, init_x)\n",
    "  grad_norm = tf.reduce_sum(grad * grad)\n",
    "  init_value = value\n",
    "  while value > init_value - rate * grad_norm:\n",
    "    x = init_x - rate * grad\n",
    "    value = fn(x)\n",
    "    rate /= 2.0\n",
    "  return x, value"
   ]
  },
  {
   "cell_type": "markdown",
   "metadata": {
    "id": "gieGOf_DqEhK"
   },
   "source": [
    "### Custom gradients\n",
    "\n",
    "Custom gradients are an easy way to override gradients. Within the forward function, define the gradient with respect to the\n",
    "inputs, outputs, or intermediate results. For example, here's an easy way to clip\n",
    "the norm of the gradients in the backward pass:"
   ]
  },
  {
   "cell_type": "code",
   "execution_count": 39,
   "metadata": {
    "execution": {
     "iopub.execute_input": "2021-04-07T01:29:42.090233Z",
     "iopub.status.busy": "2021-04-07T01:29:42.089644Z",
     "iopub.status.idle": "2021-04-07T01:29:42.091990Z",
     "shell.execute_reply": "2021-04-07T01:29:42.091539Z"
    },
    "id": "-OwwsWUAqEhK"
   },
   "outputs": [],
   "source": [
    "@tf.custom_gradient\n",
    "def clip_gradient_by_norm(x, norm):\n",
    "  y = tf.identity(x)\n",
    "  def grad_fn(dresult):\n",
    "    return [tf.clip_by_norm(dresult, norm), None]\n",
    "  return y, grad_fn"
   ]
  },
  {
   "cell_type": "markdown",
   "metadata": {
    "id": "JPLDHkF_qEhN"
   },
   "source": [
    "Custom gradients are commonly used to provide a numerically stable gradient for a\n",
    "sequence of operations:"
   ]
  },
  {
   "cell_type": "code",
   "execution_count": 40,
   "metadata": {
    "execution": {
     "iopub.execute_input": "2021-04-07T01:29:42.096557Z",
     "iopub.status.busy": "2021-04-07T01:29:42.095917Z",
     "iopub.status.idle": "2021-04-07T01:29:42.098182Z",
     "shell.execute_reply": "2021-04-07T01:29:42.097738Z"
    },
    "id": "24WiLROnqEhO"
   },
   "outputs": [],
   "source": [
    "def log1pexp(x):\n",
    "  return tf.math.log(1 + tf.exp(x))\n",
    "\n",
    "def grad_log1pexp(x):\n",
    "  with tf.GradientTape() as tape:\n",
    "    tape.watch(x)\n",
    "    value = log1pexp(x)\n",
    "  return tape.gradient(value, x)\n"
   ]
  },
  {
   "cell_type": "code",
   "execution_count": 41,
   "metadata": {
    "execution": {
     "iopub.execute_input": "2021-04-07T01:29:42.101917Z",
     "iopub.status.busy": "2021-04-07T01:29:42.101258Z",
     "iopub.status.idle": "2021-04-07T01:29:42.106096Z",
     "shell.execute_reply": "2021-04-07T01:29:42.105564Z"
    },
    "id": "n8fq69r9-B-c"
   },
   "outputs": [
    {
     "output_type": "execute_result",
     "data": {
      "text/plain": [
       "0.5"
      ]
     },
     "metadata": {},
     "execution_count": 41
    }
   ],
   "source": [
    "# The gradient computation works fine at x = 0.\n",
    "grad_log1pexp(tf.constant(0.)).numpy()"
   ]
  },
  {
   "cell_type": "code",
   "execution_count": 42,
   "metadata": {
    "execution": {
     "iopub.execute_input": "2021-04-07T01:29:42.109408Z",
     "iopub.status.busy": "2021-04-07T01:29:42.108804Z",
     "iopub.status.idle": "2021-04-07T01:29:42.112985Z",
     "shell.execute_reply": "2021-04-07T01:29:42.112554Z"
    },
    "id": "_VFSU0mG-FSp"
   },
   "outputs": [
    {
     "output_type": "execute_result",
     "data": {
      "text/plain": [
       "nan"
      ]
     },
     "metadata": {},
     "execution_count": 42
    }
   ],
   "source": [
    "# However, x = 100 fails because of numerical instability.\n",
    "grad_log1pexp(tf.constant(100.)).numpy()"
   ]
  },
  {
   "cell_type": "markdown",
   "metadata": {
    "id": "-VcTR34rqEhQ"
   },
   "source": [
    "Here, the `log1pexp` function can be analytically simplified with a custom\n",
    "gradient. The implementation below reuses the value for `tf.exp(x)` that is\n",
    "computed during the forward pass—making it more efficient by eliminating\n",
    "redundant calculations:"
   ]
  },
  {
   "cell_type": "code",
   "execution_count": 43,
   "metadata": {
    "execution": {
     "iopub.execute_input": "2021-04-07T01:29:42.117856Z",
     "iopub.status.busy": "2021-04-07T01:29:42.117246Z",
     "iopub.status.idle": "2021-04-07T01:29:42.119621Z",
     "shell.execute_reply": "2021-04-07T01:29:42.119161Z"
    },
    "id": "Q7nvfx_-qEhS"
   },
   "outputs": [],
   "source": [
    "@tf.custom_gradient\n",
    "def log1pexp(x):\n",
    "  e = tf.exp(x)\n",
    "  def grad(dy): # dyは@tf.custom_gradientの中で使える変数っぽい?https://www.tensorflow.org/api_docs/python/tf/custom_gradient\n",
    "                # 後で考えてみよう\n",
    "    return dy * (1 - 1 / (1 + e))\n",
    "  return tf.math.log(1 + e), grad\n",
    "\n",
    "def grad_log1pexp(x):\n",
    "  with tf.GradientTape() as tape:\n",
    "    tape.watch(x)\n",
    "    value = log1pexp(x)\n",
    "  return tape.gradient(value, x)\n"
   ]
  },
  {
   "cell_type": "code",
   "execution_count": 44,
   "metadata": {
    "execution": {
     "iopub.execute_input": "2021-04-07T01:29:42.123164Z",
     "iopub.status.busy": "2021-04-07T01:29:42.122549Z",
     "iopub.status.idle": "2021-04-07T01:29:42.126403Z",
     "shell.execute_reply": "2021-04-07T01:29:42.126764Z"
    },
    "id": "5gHPKMfl-Kge"
   },
   "outputs": [
    {
     "output_type": "execute_result",
     "data": {
      "text/plain": [
       "0.5"
      ]
     },
     "metadata": {},
     "execution_count": 44
    }
   ],
   "source": [
    "# As before, the gradient computation works fine at x = 0.\n",
    "grad_log1pexp(tf.constant(0.)).numpy()"
   ]
  },
  {
   "cell_type": "code",
   "execution_count": 45,
   "metadata": {
    "execution": {
     "iopub.execute_input": "2021-04-07T01:29:42.130371Z",
     "iopub.status.busy": "2021-04-07T01:29:42.129659Z",
     "iopub.status.idle": "2021-04-07T01:29:42.134018Z",
     "shell.execute_reply": "2021-04-07T01:29:42.133493Z"
    },
    "id": "u38MOfz3-MDE"
   },
   "outputs": [
    {
     "output_type": "execute_result",
     "data": {
      "text/plain": [
       "1.0"
      ]
     },
     "metadata": {},
     "execution_count": 45
    }
   ],
   "source": [
    "# And the gradient computation also works at x = 100.\n",
    "grad_log1pexp(tf.constant(100.)).numpy()"
   ]
  },
  {
   "cell_type": "markdown",
   "metadata": {
    "id": "rnZXjfQzqEhV"
   },
   "source": [
    "## Performance\n",
    "\n",
    "Computation is automatically offloaded to GPUs during eager execution. If you\n",
    "want control over where a computation runs you can enclose it in a\n",
    "`tf.device('/gpu:0')` block (or the CPU equivalent):"
   ]
  },
  {
   "cell_type": "code",
   "execution_count": 46,
   "metadata": {
    "execution": {
     "iopub.execute_input": "2021-04-07T01:29:42.142711Z",
     "iopub.status.busy": "2021-04-07T01:29:42.141934Z",
     "iopub.status.idle": "2021-04-07T01:29:43.046424Z",
     "shell.execute_reply": "2021-04-07T01:29:43.045900Z"
    },
    "id": "Ac9Y64H-qEhX"
   },
   "outputs": [
    {
     "output_type": "stream",
     "name": "stdout",
     "text": [
      "Time to multiply a (1000, 1000) matrix by itself 200 times:\n",
      "CPU: 0.8950860500335693 secs\n",
      "GPU: not found\n"
     ]
    }
   ],
   "source": [
    "import time\n",
    "\n",
    "def measure(x, steps):\n",
    "  # TensorFlow initializes a GPU the first time it's used, exclude from timing.\n",
    "  tf.matmul(x, x)\n",
    "  start = time.time()\n",
    "  for i in range(steps):\n",
    "    x = tf.matmul(x, x)\n",
    "  # tf.matmul can return before completing the matrix multiplication\n",
    "  # (e.g., can return after enqueing the operation on a CUDA stream).\n",
    "  # The x.numpy() call below will ensure that all enqueued operations\n",
    "  # have completed (and will also copy the result to host memory,\n",
    "  # so we're including a little more than just the matmul operation\n",
    "  # time).\n",
    "  _ = x.numpy()\n",
    "  end = time.time()\n",
    "  return end - start\n",
    "\n",
    "shape = (1000, 1000)\n",
    "steps = 200\n",
    "print(\"Time to multiply a {} matrix by itself {} times:\".format(shape, steps))\n",
    "\n",
    "# Run on CPU:\n",
    "with tf.device(\"/cpu:0\"):\n",
    "  print(\"CPU: {} secs\".format(measure(tf.random.normal(shape), steps)))\n",
    "\n",
    "# Run on GPU, if available:\n",
    "if tf.config.list_physical_devices(\"GPU\"):\n",
    "  with tf.device(\"/gpu:0\"):\n",
    "    print(\"GPU: {} secs\".format(measure(tf.random.normal(shape), steps)))\n",
    "else:\n",
    "  print(\"GPU: not found\")"
   ]
  },
  {
   "cell_type": "markdown",
   "metadata": {
    "id": "RLw3IS7UqEhe"
   },
   "source": [
    "A `tf.Tensor` object can be copied to a different device to execute its\n",
    "operations:"
   ]
  },
  {
   "cell_type": "code",
   "execution_count": 48,
   "metadata": {
    "execution": {
     "iopub.execute_input": "2021-04-07T01:29:43.051379Z",
     "iopub.status.busy": "2021-04-07T01:29:43.050803Z",
     "iopub.status.idle": "2021-04-07T01:29:43.055381Z",
     "shell.execute_reply": "2021-04-07T01:29:43.055767Z"
    },
    "id": "ny6LX2BVqEhf"
   },
   "outputs": [],
   "source": [
    "if tf.config.list_physical_devices(\"GPU\"):\n",
    "  x = tf.random.normal([10, 10])\n",
    "\n",
    "  x_gpu0 = x.gpu()\n",
    "  x_cpu = x.cpu()\n",
    "\n",
    "  _ = tf.matmul(x_cpu, x_cpu)    # Runs on CPU\n",
    "  _ = tf.matmul(x_gpu0, x_gpu0)  # Runs on GPU:0"
   ]
  },
  {
   "cell_type": "markdown",
   "metadata": {
    "id": "oA_qaII3-p6c"
   },
   "source": [
    "### Benchmarks\n",
    "\n",
    "For compute-heavy models, such as\n",
    "[ResNet50](https://github.com/tensorflow/tensorflow/tree/master/tensorflow/python/eager/benchmarks/resnet50)\n",
    "training on a GPU, eager execution performance is comparable to `tf.function` execution.\n",
    "But this gap grows larger for models with less computation and there is work to\n",
    "be done for optimizing hot code paths for models with lots of small operations.\n",
    "\n",
    "## Work with functions\n",
    "\n",
    "While eager execution makes development and debugging more interactive,\n",
    "TensorFlow 1.x style graph execution has advantages for distributed training, performance\n",
    "optimizations, and production deployment. To bridge this gap, TensorFlow 2.0 introduces `function`s via the `tf.function` API. For more information, see the [tf.function](./function.ipynb) guide."
   ]
  }
 ],
 "metadata": {
  "accelerator": "GPU",
  "colab": {
   "collapsed_sections": [],
   "name": "eager.ipynb",
   "toc_visible": true
  },
  "kernelspec": {
   "name": "python3",
   "display_name": "Python 3.8.5 64-bit ('anaconda3-2020.11': pyenv)"
  },
  "language_info": {
   "codemirror_mode": {
    "name": "ipython",
    "version": 3
   },
   "file_extension": ".py",
   "mimetype": "text/x-python",
   "name": "python",
   "nbconvert_exporter": "python",
   "pygments_lexer": "ipython3",
   "version": "3.8.5"
  },
  "interpreter": {
   "hash": "7493d80d1ed6541f83a23ef72047bb41b7756733e69a59a09bdc2861d19e9c1b"
  }
 },
 "nbformat": 4,
 "nbformat_minor": 0
}