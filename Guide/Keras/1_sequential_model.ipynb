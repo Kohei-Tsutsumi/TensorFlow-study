{
 "cells": [
  {
   "cell_type": "markdown",
   "metadata": {
    "id": "b518b04cbfe0"
   },
   "source": [
    "##### Copyright 2020 The TensorFlow Authors."
   ]
  },
  {
   "cell_type": "code",
   "execution_count": 1,
   "metadata": {
    "cellView": "form",
    "execution": {
     "iopub.execute_input": "2021-03-25T22:11:07.961428Z",
     "iopub.status.busy": "2021-03-25T22:11:07.960749Z",
     "iopub.status.idle": "2021-03-25T22:11:07.963189Z",
     "shell.execute_reply": "2021-03-25T22:11:07.962671Z"
    },
    "id": "906e07f6e562"
   },
   "outputs": [],
   "source": [
    "#@title Licensed under the Apache License, Version 2.0 (the \"License\");\n",
    "# you may not use this file except in compliance with the License.\n",
    "# You may obtain a copy of the License at\n",
    "#\n",
    "# https://www.apache.org/licenses/LICENSE-2.0\n",
    "#\n",
    "# Unless required by applicable law or agreed to in writing, software\n",
    "# distributed under the License is distributed on an \"AS IS\" BASIS,\n",
    "# WITHOUT WARRANTIES OR CONDITIONS OF ANY KIND, either express or implied.\n",
    "# See the License for the specific language governing permissions and\n",
    "# limitations under the License."
   ]
  },
  {
   "cell_type": "markdown",
   "metadata": {
    "id": "3e19705694d6"
   },
   "source": [
    "# The Sequential model"
   ]
  },
  {
   "cell_type": "markdown",
   "metadata": {
    "id": "defbb10e8ae3"
   },
   "source": [
    "<table class=\"tfo-notebook-buttons\" align=\"left\">\n",
    "  <td>\n",
    "    <a target=\"_blank\" href=\"https://www.tensorflow.org/guide/keras/sequential_model\"><img src=\"https://www.tensorflow.org/images/tf_logo_32px.png\" />View on TensorFlow.org</a>\n",
    "  </td>\n",
    "  <td>\n",
    "    <a target=\"_blank\" href=\"https://colab.research.google.com/github/tensorflow/docs/blob/snapshot-keras/site/en/guide/keras/sequential_model.ipynb\"><img src=\"https://www.tensorflow.org/images/colab_logo_32px.png\" />Run in Google Colab</a>\n",
    "  </td>\n",
    "  <td>\n",
    "    <a target=\"_blank\" href=\"https://github.com/keras-team/keras-io/blob/master/guides/sequential_model.py\"><img src=\"https://www.tensorflow.org/images/GitHub-Mark-32px.png\" />View source on GitHub</a>\n",
    "  </td>\n",
    "  <td>\n",
    "    <a href=\"https://storage.googleapis.com/tensorflow_docs/docs/site/en/guide/keras/sequential_model.ipynb\"><img src=\"https://www.tensorflow.org/images/download_logo_32px.png\" />Download notebook</a>\n",
    "  </td>\n",
    "</table>"
   ]
  },
  {
   "cell_type": "markdown",
   "metadata": {
    "id": "8d4ac441b1fc"
   },
   "source": [
    "## Setup"
   ]
  },
  {
   "cell_type": "code",
   "execution_count": 1,
   "metadata": {
    "execution": {
     "iopub.execute_input": "2021-03-25T22:11:07.972123Z",
     "iopub.status.busy": "2021-03-25T22:11:07.971428Z",
     "iopub.status.idle": "2021-03-25T22:11:13.770567Z",
     "shell.execute_reply": "2021-03-25T22:11:13.771062Z"
    },
    "id": "0472bf67b2bf"
   },
   "outputs": [],
   "source": [
    "import tensorflow as tf\n",
    "from tensorflow import keras\n",
    "from tensorflow.keras import layers"
   ]
  },
  {
   "cell_type": "markdown",
   "metadata": {
    "id": "80f7713c6b92"
   },
   "source": [
    "## When to use a Sequential model\n",
    "\n",
    "A `Sequential` model is appropriate for **a plain stack of layers**\n",
    "where each layer has **exactly one input tensor and one output tensor**.\n",
    "\n",
    "Schematically, the following `Sequential` model:"
   ]
  },
  {
   "cell_type": "code",
   "execution_count": 2,
   "metadata": {
    "execution": {
     "iopub.execute_input": "2021-03-25T22:11:13.776363Z",
     "iopub.status.busy": "2021-03-25T22:11:13.775690Z",
     "iopub.status.idle": "2021-03-25T22:11:15.876718Z",
     "shell.execute_reply": "2021-03-25T22:11:15.876133Z"
    },
    "id": "f536515be229"
   },
   "outputs": [],
   "source": [
    "# Define Sequential model with 3 layers\n",
    "model = keras.Sequential(\n",
    "    [\n",
    "        layers.Dense(2, activation=\"relu\", name=\"layer1\"),\n",
    "        layers.Dense(3, activation=\"relu\", name=\"layer2\"),\n",
    "        layers.Dense(4, name=\"layer3\"),\n",
    "    ]\n",
    ")\n",
    "# Call model on a test input\n",
    "x = tf.ones((3, 3))\n",
    "y = model(x)"
   ]
  },
  {
   "cell_type": "markdown",
   "metadata": {
    "id": "7d81502d9753"
   },
   "source": [
    "is equivalent to this function:"
   ]
  },
  {
   "cell_type": "code",
   "execution_count": 3,
   "metadata": {
    "execution": {
     "iopub.execute_input": "2021-03-25T22:11:15.884574Z",
     "iopub.status.busy": "2021-03-25T22:11:15.883910Z",
     "iopub.status.idle": "2021-03-25T22:11:15.890745Z",
     "shell.execute_reply": "2021-03-25T22:11:15.891162Z"
    },
    "id": "7059a8890f72"
   },
   "outputs": [],
   "source": [
    "# Create 3 layers\n",
    "layer1 = layers.Dense(2, activation=\"relu\", name=\"layer1\")\n",
    "layer2 = layers.Dense(3, activation=\"relu\", name=\"layer2\")\n",
    "layer3 = layers.Dense(4, name=\"layer3\")\n",
    "\n",
    "# Call layers on a test input\n",
    "x = tf.ones((3, 3))\n",
    "y = layer3(layer2(layer1(x)))"
   ]
  },
  {
   "cell_type": "markdown",
   "metadata": {
    "id": "cdf6d2932c31"
   },
   "source": [
    "A Sequential model is **not appropriate** when:\n",
    "\n",
    "- Your model has multiple inputs or multiple outputs\n",
    "- Any of your layers has multiple inputs or multiple outputs\n",
    "- You need to do layer sharing\n",
    "- You want non-linear topology (e.g. a residual connection, a multi-branch\n",
    "model)"
   ]
  },
  {
   "cell_type": "markdown",
   "metadata": {
    "id": "c5706d9f8eb8"
   },
   "source": [
    "## Creating a Sequential model\n",
    "\n",
    "You can create a Sequential model by passing a list of layers to the Sequential\n",
    "constructor:"
   ]
  },
  {
   "cell_type": "code",
   "execution_count": 5,
   "metadata": {
    "execution": {
     "iopub.execute_input": "2021-03-25T22:11:15.899180Z",
     "iopub.status.busy": "2021-03-25T22:11:15.898490Z",
     "iopub.status.idle": "2021-03-25T22:11:15.902422Z",
     "shell.execute_reply": "2021-03-25T22:11:15.901800Z"
    },
    "id": "8b3eee00f80d"
   },
   "outputs": [],
   "source": [
    "model = keras.Sequential(\n",
    "    [\n",
    "        layers.Dense(2, activation=\"relu\"),\n",
    "        layers.Dense(3, activation=\"relu\"),\n",
    "        layers.Dense(4),\n",
    "    ]\n",
    ")"
   ]
  },
  {
   "cell_type": "markdown",
   "metadata": {
    "id": "1939a7a4a66c"
   },
   "source": [
    "Its layers are accessible via the `layers` attribute:"
   ]
  },
  {
   "cell_type": "code",
   "execution_count": 6,
   "metadata": {
    "execution": {
     "iopub.execute_input": "2021-03-25T22:11:15.911230Z",
     "iopub.status.busy": "2021-03-25T22:11:15.910560Z",
     "iopub.status.idle": "2021-03-25T22:11:15.915494Z",
     "shell.execute_reply": "2021-03-25T22:11:15.915947Z"
    },
    "id": "49c0448b6da2"
   },
   "outputs": [
    {
     "output_type": "execute_result",
     "data": {
      "text/plain": [
       "[<tensorflow.python.keras.layers.core.Dense at 0x7ff0a7f55c70>,\n",
       " <tensorflow.python.keras.layers.core.Dense at 0x7ff0a7b86640>,\n",
       " <tensorflow.python.keras.layers.core.Dense at 0x7ff0a788e100>]"
      ]
     },
     "metadata": {},
     "execution_count": 6
    }
   ],
   "source": [
    "model.layers"
   ]
  },
  {
   "cell_type": "markdown",
   "metadata": {
    "id": "b4c7957e9913"
   },
   "source": [
    "You can also create a Sequential model incrementally via the `add()` method:"
   ]
  },
  {
   "cell_type": "code",
   "execution_count": 7,
   "metadata": {
    "execution": {
     "iopub.execute_input": "2021-03-25T22:11:15.922075Z",
     "iopub.status.busy": "2021-03-25T22:11:15.921401Z",
     "iopub.status.idle": "2021-03-25T22:11:15.926932Z",
     "shell.execute_reply": "2021-03-25T22:11:15.927323Z"
    },
    "id": "d54fde401054"
   },
   "outputs": [],
   "source": [
    "model = keras.Sequential()\n",
    "model.add(layers.Dense(2, activation=\"relu\"))\n",
    "model.add(layers.Dense(3, activation=\"relu\"))\n",
    "model.add(layers.Dense(4))"
   ]
  },
  {
   "cell_type": "markdown",
   "metadata": {
    "id": "d16278f5a1dc"
   },
   "source": [
    "Note that there's also a corresponding `pop()` method to remove layers:\n",
    "a Sequential model behaves very much like a list of layers."
   ]
  },
  {
   "cell_type": "code",
   "execution_count": 8,
   "metadata": {
    "execution": {
     "iopub.execute_input": "2021-03-25T22:11:15.931075Z",
     "iopub.status.busy": "2021-03-25T22:11:15.930440Z",
     "iopub.status.idle": "2021-03-25T22:11:15.932517Z",
     "shell.execute_reply": "2021-03-25T22:11:15.932939Z"
    },
    "id": "e89f35b73979"
   },
   "outputs": [
    {
     "output_type": "stream",
     "name": "stdout",
     "text": [
      "2\n"
     ]
    }
   ],
   "source": [
    "model.pop()\n",
    "print(len(model.layers))  # 2"
   ]
  },
  {
   "cell_type": "markdown",
   "metadata": {
    "id": "99cb1c9a7c7a"
   },
   "source": [
    "Also note that the Sequential constructor accepts a `name` argument, just like\n",
    "any layer or model in Keras. This is useful to annotate TensorBoard graphs\n",
    "with semantically meaningful names."
   ]
  },
  {
   "cell_type": "code",
   "execution_count": 9,
   "metadata": {
    "execution": {
     "iopub.execute_input": "2021-03-25T22:11:15.939475Z",
     "iopub.status.busy": "2021-03-25T22:11:15.938850Z",
     "iopub.status.idle": "2021-03-25T22:11:15.943921Z",
     "shell.execute_reply": "2021-03-25T22:11:15.943471Z"
    },
    "id": "068c2f82e7cb"
   },
   "outputs": [],
   "source": [
    "model = keras.Sequential(name=\"my_sequential\")\n",
    "model.add(layers.Dense(2, activation=\"relu\", name=\"layer1\"))\n",
    "model.add(layers.Dense(3, activation=\"relu\", name=\"layer2\"))\n",
    "model.add(layers.Dense(4, name=\"layer3\"))"
   ]
  },
  {
   "cell_type": "markdown",
   "metadata": {
    "id": "a6247ff17d3a"
   },
   "source": [
    "## Specifying the input shape in advance\n",
    "\n",
    "Generally, all layers in Keras need to know the shape of their inputs\n",
    "in order to be able to create their weights. So when you create a layer like\n",
    "this, initially, it has no weights:"
   ]
  },
  {
   "cell_type": "code",
   "execution_count": 10,
   "metadata": {
    "execution": {
     "iopub.execute_input": "2021-03-25T22:11:15.948442Z",
     "iopub.status.busy": "2021-03-25T22:11:15.947819Z",
     "iopub.status.idle": "2021-03-25T22:11:15.950586Z",
     "shell.execute_reply": "2021-03-25T22:11:15.950061Z"
    },
    "id": "373ecbb5c6bd"
   },
   "outputs": [
    {
     "output_type": "execute_result",
     "data": {
      "text/plain": [
       "[]"
      ]
     },
     "metadata": {},
     "execution_count": 10
    }
   ],
   "source": [
    "layer = layers.Dense(3)\n",
    "layer.weights  # Empty"
   ]
  },
  {
   "cell_type": "markdown",
   "metadata": {
    "id": "da150335961e"
   },
   "source": [
    "It creates its weights the first time it is called on an input, since the shape\n",
    "of the weights depends on the shape of the inputs:"
   ]
  },
  {
   "cell_type": "code",
   "execution_count": 11,
   "metadata": {
    "execution": {
     "iopub.execute_input": "2021-03-25T22:11:15.954557Z",
     "iopub.status.busy": "2021-03-25T22:11:15.954012Z",
     "iopub.status.idle": "2021-03-25T22:11:15.959655Z",
     "shell.execute_reply": "2021-03-25T22:11:15.960020Z"
    },
    "id": "bf28829ce193"
   },
   "outputs": [
    {
     "output_type": "execute_result",
     "data": {
      "text/plain": [
       "[<tf.Variable 'dense_6/kernel:0' shape=(4, 3) dtype=float32, numpy=\n",
       " array([[-0.06134844,  0.5735532 ,  0.46068   ],\n",
       "        [ 0.0981102 ,  0.33742285,  0.51182044],\n",
       "        [ 0.92512107, -0.42041105,  0.05506396],\n",
       "        [ 0.6174201 ,  0.5541947 ,  0.5878154 ]], dtype=float32)>,\n",
       " <tf.Variable 'dense_6/bias:0' shape=(3,) dtype=float32, numpy=array([0., 0., 0.], dtype=float32)>]"
      ]
     },
     "metadata": {},
     "execution_count": 11
    }
   ],
   "source": [
    "# Call layer on a test input\n",
    "x = tf.ones((1, 4))\n",
    "y = layer(x)\n",
    "layer.weights  # Now it has weights, of shape (4, 3) and (3,)"
   ]
  },
  {
   "cell_type": "markdown",
   "metadata": {
    "id": "e50f21c5f247"
   },
   "source": [
    "Naturally, this also applies to Sequential models. When you instantiate a\n",
    "Sequential model without an input shape, it isn't \"built\": it has no weights\n",
    "(and calling\n",
    "`model.weights` results in an error stating just this). The weights are created\n",
    "when the model first sees some input data:"
   ]
  },
  {
   "cell_type": "code",
   "execution_count": 12,
   "metadata": {
    "execution": {
     "iopub.execute_input": "2021-03-25T22:11:15.967729Z",
     "iopub.status.busy": "2021-03-25T22:11:15.967178Z",
     "iopub.status.idle": "2021-03-25T22:11:15.987359Z",
     "shell.execute_reply": "2021-03-25T22:11:15.987743Z"
    },
    "id": "04479960526c"
   },
   "outputs": [
    {
     "output_type": "stream",
     "name": "stdout",
     "text": [
      "Number of weights after calling the model: 6\n"
     ]
    }
   ],
   "source": [
    "model = keras.Sequential(\n",
    "    [\n",
    "        layers.Dense(2, activation=\"relu\"),\n",
    "        layers.Dense(3, activation=\"relu\"),\n",
    "        layers.Dense(4),\n",
    "    ]\n",
    ")  # No weights at this stage!\n",
    "\n",
    "# At this point, you can't do this:\n",
    "# model.weights\n",
    "\n",
    "# You also can't do this:\n",
    "# model.summary()\n",
    "\n",
    "# Call the model on a test input\n",
    "x = tf.ones((1, 4))\n",
    "y = model(x)\n",
    "print(\"Number of weights after calling the model:\", len(model.weights))  # 6"
   ]
  },
  {
   "cell_type": "markdown",
   "metadata": {
    "id": "2837e3d2c798"
   },
   "source": [
    "Once a model is \"built\", you can call its `summary()` method to display its\n",
    "contents:"
   ]
  },
  {
   "cell_type": "code",
   "execution_count": 13,
   "metadata": {
    "execution": {
     "iopub.execute_input": "2021-03-25T22:11:15.991782Z",
     "iopub.status.busy": "2021-03-25T22:11:15.991093Z",
     "iopub.status.idle": "2021-03-25T22:11:15.995189Z",
     "shell.execute_reply": "2021-03-25T22:11:15.994687Z"
    },
    "id": "1368bd27f679"
   },
   "outputs": [
    {
     "output_type": "stream",
     "name": "stdout",
     "text": [
      "Model: \"sequential_3\"\n_________________________________________________________________\nLayer (type)                 Output Shape              Param #   \n=================================================================\ndense_7 (Dense)              (1, 2)                    10        \n_________________________________________________________________\ndense_8 (Dense)              (1, 3)                    9         \n_________________________________________________________________\ndense_9 (Dense)              (1, 4)                    16        \n=================================================================\nTotal params: 35\nTrainable params: 35\nNon-trainable params: 0\n_________________________________________________________________\n"
     ]
    }
   ],
   "source": [
    "model.summary()"
   ]
  },
  {
   "cell_type": "markdown",
   "metadata": {
    "id": "08cf1da27edb"
   },
   "source": [
    "However, it can be very useful when building a Sequential model incrementally\n",
    "to be able to display the summary of the model so far, including the current\n",
    "output shape. In this case, you should start your model by passing an `Input`\n",
    "object to your model, so that it knows its input shape from the start:"
   ]
  },
  {
   "cell_type": "code",
   "execution_count": 14,
   "metadata": {
    "execution": {
     "iopub.execute_input": "2021-03-25T22:11:16.001237Z",
     "iopub.status.busy": "2021-03-25T22:11:16.000609Z",
     "iopub.status.idle": "2021-03-25T22:11:16.015171Z",
     "shell.execute_reply": "2021-03-25T22:11:16.015578Z"
    },
    "id": "e3d2024cfeeb"
   },
   "outputs": [
    {
     "output_type": "stream",
     "name": "stdout",
     "text": [
      "Model: \"sequential_4\"\n_________________________________________________________________\nLayer (type)                 Output Shape              Param #   \n=================================================================\ndense_10 (Dense)             (None, 2)                 10        \n=================================================================\nTotal params: 10\nTrainable params: 10\nNon-trainable params: 0\n_________________________________________________________________\n"
     ]
    }
   ],
   "source": [
    "model = keras.Sequential()\n",
    "model.add(keras.Input(shape=(4,)))\n",
    "model.add(layers.Dense(2, activation=\"relu\"))\n",
    "\n",
    "model.summary()"
   ]
  },
  {
   "cell_type": "markdown",
   "metadata": {
    "id": "3d965e3761a8"
   },
   "source": [
    "Note that the `Input` object is not displayed as part of `model.layers`, since\n",
    "it isn't a layer:"
   ]
  },
  {
   "cell_type": "code",
   "execution_count": 15,
   "metadata": {
    "execution": {
     "iopub.execute_input": "2021-03-25T22:11:16.019840Z",
     "iopub.status.busy": "2021-03-25T22:11:16.019201Z",
     "iopub.status.idle": "2021-03-25T22:11:16.021972Z",
     "shell.execute_reply": "2021-03-25T22:11:16.021465Z"
    },
    "id": "8e3b0d58e7ed"
   },
   "outputs": [
    {
     "output_type": "execute_result",
     "data": {
      "text/plain": [
       "[<tensorflow.python.keras.layers.core.Dense at 0x7ff0a7c91790>]"
      ]
     },
     "metadata": {},
     "execution_count": 15
    }
   ],
   "source": [
    "model.layers"
   ]
  },
  {
   "cell_type": "code",
   "execution_count": 17,
   "metadata": {},
   "outputs": [],
   "source": [
    "model.add(keras.Input(shape=(5,))) # keras.Inputをもう一つ追加したらエラーになったりするのかなと思ったけどエラーにならなかった。"
   ]
  },
  {
   "cell_type": "code",
   "execution_count": 19,
   "metadata": {},
   "outputs": [
    {
     "output_type": "stream",
     "name": "stdout",
     "text": [
      "Model: \"sequential_4\"\n_________________________________________________________________\nLayer (type)                 Output Shape              Param #   \n=================================================================\ndense_10 (Dense)             (None, 2)                 10        \n_________________________________________________________________\ninput_2 (InputLayer)         multiple                  0         \n=================================================================\nTotal params: 10\nTrainable params: 10\nNon-trainable params: 0\n_________________________________________________________________\n"
     ]
    }
   ],
   "source": [
    "model.summary() # なんか、追加されてる？ちゃんとした使い道あるのかな？"
   ]
  },
  {
   "cell_type": "markdown",
   "metadata": {
    "id": "8a057b1baf72"
   },
   "source": [
    "A simple alternative is to just pass an `input_shape` argument to your first\n",
    "layer:"
   ]
  },
  {
   "cell_type": "code",
   "execution_count": 20,
   "metadata": {
    "execution": {
     "iopub.execute_input": "2021-03-25T22:11:16.028398Z",
     "iopub.status.busy": "2021-03-25T22:11:16.027748Z",
     "iopub.status.idle": "2021-03-25T22:11:16.038021Z",
     "shell.execute_reply": "2021-03-25T22:11:16.038426Z"
    },
    "id": "1c6ab83d68ea"
   },
   "outputs": [
    {
     "output_type": "stream",
     "name": "stdout",
     "text": [
      "Model: \"sequential_5\"\n_________________________________________________________________\nLayer (type)                 Output Shape              Param #   \n=================================================================\ndense_11 (Dense)             (None, 2)                 10        \n=================================================================\nTotal params: 10\nTrainable params: 10\nNon-trainable params: 0\n_________________________________________________________________\n"
     ]
    }
   ],
   "source": [
    "model = keras.Sequential()\n",
    "model.add(layers.Dense(2, activation=\"relu\", input_shape=(4,)))\n",
    "\n",
    "model.summary()"
   ]
  },
  {
   "cell_type": "markdown",
   "metadata": {
    "id": "40c14619d283"
   },
   "source": [
    "Models built with a predefined input shape like this always have weights (even\n",
    "before seeing any data) and always have a defined output shape.\n",
    "\n",
    "In general, it's a recommended best practice to always specify the input shape\n",
    "of a Sequential model in advance if you know what it is."
   ]
  },
  {
   "cell_type": "markdown",
   "metadata": {
    "id": "843f6b6505b3"
   },
   "source": [
    "## A common debugging workflow: `add()` + `summary()`\n",
    "\n",
    "When building a new Sequential architecture, it's useful to incrementally stack\n",
    "layers with `add()` and frequently print model summaries. For instance, this\n",
    "enables you to monitor how a stack of `Conv2D` and `MaxPooling2D` layers is\n",
    "downsampling image feature maps:\n",
    "\n",
    "画像解析のモデルを作ろうとしているっぽいがなんとなくしかわからん。とりあえず、sumaryで頻繁にステータスを確認できるのが便利と言いたいのだろうか？"
   ]
  },
  {
   "cell_type": "code",
   "execution_count": 17,
   "metadata": {
    "execution": {
     "iopub.execute_input": "2021-03-25T22:11:16.042633Z",
     "iopub.status.busy": "2021-03-25T22:11:16.041943Z",
     "iopub.status.idle": "2021-03-25T22:11:16.122430Z",
     "shell.execute_reply": "2021-03-25T22:11:16.121906Z"
    },
    "id": "46bfb8f7dc6e"
   },
   "outputs": [
    {
     "name": "stdout",
     "output_type": "stream",
     "text": [
      "Model: \"sequential_6\"\n",
      "_________________________________________________________________\n",
      "Layer (type)                 Output Shape              Param #   \n",
      "=================================================================\n",
      "conv2d (Conv2D)              (None, 123, 123, 32)      2432      \n",
      "_________________________________________________________________\n",
      "conv2d_1 (Conv2D)            (None, 121, 121, 32)      9248      \n",
      "_________________________________________________________________\n",
      "max_pooling2d (MaxPooling2D) (None, 40, 40, 32)        0         \n",
      "=================================================================\n",
      "Total params: 11,680\n",
      "Trainable params: 11,680\n",
      "Non-trainable params: 0\n",
      "_________________________________________________________________\n",
      "Model: \"sequential_6\"\n",
      "_________________________________________________________________\n",
      "Layer (type)                 Output Shape              Param #   \n",
      "=================================================================\n",
      "conv2d (Conv2D)              (None, 123, 123, 32)      2432      \n",
      "_________________________________________________________________\n",
      "conv2d_1 (Conv2D)            (None, 121, 121, 32)      9248      \n",
      "_________________________________________________________________\n",
      "max_pooling2d (MaxPooling2D) (None, 40, 40, 32)        0         \n",
      "_________________________________________________________________\n",
      "conv2d_2 (Conv2D)            (None, 38, 38, 32)        9248      \n",
      "_________________________________________________________________\n",
      "conv2d_3 (Conv2D)            (None, 36, 36, 32)        9248      \n",
      "_________________________________________________________________\n",
      "max_pooling2d_1 (MaxPooling2 (None, 12, 12, 32)        0         \n",
      "_________________________________________________________________\n",
      "conv2d_4 (Conv2D)            (None, 10, 10, 32)        9248      \n",
      "_________________________________________________________________\n",
      "conv2d_5 (Conv2D)            (None, 8, 8, 32)          9248      \n",
      "_________________________________________________________________\n",
      "max_pooling2d_2 (MaxPooling2 (None, 4, 4, 32)          0         \n",
      "=================================================================\n",
      "Total params: 48,672\n",
      "Trainable params: 48,672\n",
      "Non-trainable params: 0\n",
      "_________________________________________________________________\n"
     ]
    }
   ],
   "source": [
    "model = keras.Sequential()\n",
    "model.add(keras.Input(shape=(250, 250, 3)))  # 250x250 RGB images\n",
    "model.add(layers.Conv2D(32, 5, strides=2, activation=\"relu\"))\n",
    "model.add(layers.Conv2D(32, 3, activation=\"relu\"))\n",
    "model.add(layers.MaxPooling2D(3))\n",
    "\n",
    "# Can you guess what the current output shape is at this point? Probably not.\n",
    "# Let's just print it:\n",
    "model.summary()\n",
    "\n",
    "# The answer was: (40, 40, 32), so we can keep downsampling...\n",
    "\n",
    "model.add(layers.Conv2D(32, 3, activation=\"relu\"))\n",
    "model.add(layers.Conv2D(32, 3, activation=\"relu\"))\n",
    "model.add(layers.MaxPooling2D(3))\n",
    "model.add(layers.Conv2D(32, 3, activation=\"relu\"))\n",
    "model.add(layers.Conv2D(32, 3, activation=\"relu\"))\n",
    "model.add(layers.MaxPooling2D(2))\n",
    "\n",
    "# And now?\n",
    "model.summary()\n",
    "\n",
    "# Now that we have 4x4 feature maps, time to apply global max pooling.\n",
    "model.add(layers.GlobalMaxPooling2D())\n",
    "\n",
    "# Finally, we add a classification layer.\n",
    "model.add(layers.Dense(10))"
   ]
  },
  {
   "cell_type": "markdown",
   "metadata": {
    "id": "a2d3335a90fa"
   },
   "source": [
    "Very practical, right?\n"
   ]
  },
  {
   "cell_type": "markdown",
   "metadata": {
    "id": "46addede37f3"
   },
   "source": [
    "## What to do once you have a model\n",
    "\n",
    "Once your model architecture is ready, you will want to:\n",
    "\n",
    "- Train your model, evaluate it, and run inference. See our\n",
    "[guide to training & evaluation with the built-in loops](\n",
    "https://www.tensorflow.org/guide/keras/train_and_evaluate/)\n",
    "- Save your model to disk and restore it. See our\n",
    "[guide to serialization & saving](https://www.tensorflow.org/guide/keras/save_and_serialize/).\n",
    "- Speed up model training by leveraging multiple GPUs. See our\n",
    "[guide to multi-GPU and distributed training](https://keras.io/guides/distributed_training/)."
   ]
  },
  {
   "cell_type": "markdown",
   "metadata": {
    "id": "608f3b03669c"
   },
   "source": [
    "## Feature extraction with a Sequential model\n",
    "\n",
    "Once a Sequential model has been built, it behaves like a [Functional API\n",
    "model](https://www.tensorflow.org/guide/keras/functional/). This means that every layer has an `input`\n",
    "and `output` attribute. These attributes can be used to do neat things, like\n",
    "quickly\n",
    "creating a model that extracts the outputs of all intermediate layers in a\n",
    "Sequential model:"
   ]
  },
  {
   "cell_type": "code",
   "execution_count": 28,
   "metadata": {
    "execution": {
     "iopub.execute_input": "2021-03-25T22:11:16.135568Z",
     "iopub.status.busy": "2021-03-25T22:11:16.134821Z",
     "iopub.status.idle": "2021-03-25T22:11:17.755783Z",
     "shell.execute_reply": "2021-03-25T22:11:17.756271Z"
    },
    "id": "a5888d753301"
   },
   "outputs": [],
   "source": [
    "initial_model = keras.Sequential(\n",
    "    [\n",
    "        keras.Input(shape=(250, 250, 3)),\n",
    "        layers.Conv2D(32, 5, strides=2, activation=\"relu\"),\n",
    "        layers.Conv2D(32, 3, activation=\"relu\"),\n",
    "        layers.Conv2D(32, 3, activation=\"relu\"),\n",
    "    ]\n",
    ")\n",
    "feature_extractor = keras.Model(\n",
    "    inputs=initial_model.inputs,\n",
    "    outputs=[layer.output for layer in initial_model.layers], # 各層の出力をリストに取得するようにしている。\n",
    ")\n",
    "\n",
    "# Call feature extractor on test input.\n",
    "x = tf.ones((1, 250, 250, 3))\n",
    "features = feature_extractor(x)"
   ]
  },
  {
   "cell_type": "code",
   "execution_count": 25,
   "metadata": {},
   "outputs": [
    {
     "output_type": "execute_result",
     "data": {
      "text/plain": [
       "[<tf.Tensor: shape=(1, 123, 123, 32), dtype=float32, numpy=\n",
       " array([[[[0.        , 0.        , 0.47637928, ..., 0.7433586 ,\n",
       "           0.05321072, 0.24143861],\n",
       "          [0.        , 0.        , 0.47637928, ..., 0.7433586 ,\n",
       "           0.05321072, 0.24143861],\n",
       "          [0.        , 0.        , 0.47637928, ..., 0.7433586 ,\n",
       "           0.05321072, 0.24143861],\n",
       "          ...,\n",
       "          [0.        , 0.        , 0.47637928, ..., 0.7433586 ,\n",
       "           0.05321072, 0.24143861],\n",
       "          [0.        , 0.        , 0.47637928, ..., 0.7433586 ,\n",
       "           0.05321072, 0.24143861],\n",
       "          [0.        , 0.        , 0.47637928, ..., 0.7433586 ,\n",
       "           0.05321072, 0.24143861]],\n",
       " \n",
       "         [[0.        , 0.        , 0.47637928, ..., 0.7433586 ,\n",
       "           0.05321072, 0.24143861],\n",
       "          [0.        , 0.        , 0.47637928, ..., 0.7433586 ,\n",
       "           0.05321072, 0.24143861],\n",
       "          [0.        , 0.        , 0.47637928, ..., 0.7433586 ,\n",
       "           0.05321072, 0.24143861],\n",
       "          ...,\n",
       "          [0.        , 0.        , 0.47637928, ..., 0.7433586 ,\n",
       "           0.05321072, 0.24143861],\n",
       "          [0.        , 0.        , 0.47637928, ..., 0.7433586 ,\n",
       "           0.05321072, 0.24143861],\n",
       "          [0.        , 0.        , 0.47637928, ..., 0.7433586 ,\n",
       "           0.05321072, 0.24143861]],\n",
       " \n",
       "         [[0.        , 0.        , 0.47637928, ..., 0.7433586 ,\n",
       "           0.05321072, 0.24143861],\n",
       "          [0.        , 0.        , 0.47637928, ..., 0.7433586 ,\n",
       "           0.05321072, 0.24143861],\n",
       "          [0.        , 0.        , 0.47637928, ..., 0.7433586 ,\n",
       "           0.05321072, 0.24143861],\n",
       "          ...,\n",
       "          [0.        , 0.        , 0.47637928, ..., 0.7433586 ,\n",
       "           0.05321072, 0.24143861],\n",
       "          [0.        , 0.        , 0.47637928, ..., 0.7433586 ,\n",
       "           0.05321072, 0.24143861],\n",
       "          [0.        , 0.        , 0.47637928, ..., 0.7433586 ,\n",
       "           0.05321072, 0.24143861]],\n",
       " \n",
       "         ...,\n",
       " \n",
       "         [[0.        , 0.        , 0.47637928, ..., 0.7433586 ,\n",
       "           0.05321072, 0.24143861],\n",
       "          [0.        , 0.        , 0.47637928, ..., 0.7433586 ,\n",
       "           0.05321072, 0.24143861],\n",
       "          [0.        , 0.        , 0.47637928, ..., 0.7433586 ,\n",
       "           0.05321072, 0.24143861],\n",
       "          ...,\n",
       "          [0.        , 0.        , 0.47637928, ..., 0.7433586 ,\n",
       "           0.05321072, 0.24143861],\n",
       "          [0.        , 0.        , 0.47637928, ..., 0.7433586 ,\n",
       "           0.05321072, 0.24143861],\n",
       "          [0.        , 0.        , 0.47637928, ..., 0.7433586 ,\n",
       "           0.05321072, 0.24143861]],\n",
       " \n",
       "         [[0.        , 0.        , 0.47637928, ..., 0.7433586 ,\n",
       "           0.05321072, 0.24143861],\n",
       "          [0.        , 0.        , 0.47637928, ..., 0.7433586 ,\n",
       "           0.05321072, 0.24143861],\n",
       "          [0.        , 0.        , 0.47637928, ..., 0.7433586 ,\n",
       "           0.05321072, 0.24143861],\n",
       "          ...,\n",
       "          [0.        , 0.        , 0.47637928, ..., 0.7433586 ,\n",
       "           0.05321072, 0.24143861],\n",
       "          [0.        , 0.        , 0.47637928, ..., 0.7433586 ,\n",
       "           0.05321072, 0.24143861],\n",
       "          [0.        , 0.        , 0.47637928, ..., 0.7433586 ,\n",
       "           0.05321072, 0.24143861]],\n",
       " \n",
       "         [[0.        , 0.        , 0.47637928, ..., 0.7433586 ,\n",
       "           0.05321072, 0.24143861],\n",
       "          [0.        , 0.        , 0.47637928, ..., 0.7433586 ,\n",
       "           0.05321072, 0.24143861],\n",
       "          [0.        , 0.        , 0.47637928, ..., 0.7433586 ,\n",
       "           0.05321072, 0.24143861],\n",
       "          ...,\n",
       "          [0.        , 0.        , 0.47637922, ..., 0.7433587 ,\n",
       "           0.0532107 , 0.24143867],\n",
       "          [0.        , 0.        , 0.47637922, ..., 0.7433587 ,\n",
       "           0.0532107 , 0.24143867],\n",
       "          [0.        , 0.        , 0.47637922, ..., 0.7433587 ,\n",
       "           0.0532107 , 0.24143867]]]], dtype=float32)>,\n",
       " <tf.Tensor: shape=(1, 121, 121, 32), dtype=float32, numpy=\n",
       " array([[[[0.        , 0.34232354, 0.        , ..., 0.04191706,\n",
       "           0.18155006, 0.41136196],\n",
       "          [0.        , 0.34232354, 0.        , ..., 0.04191706,\n",
       "           0.18155006, 0.41136196],\n",
       "          [0.        , 0.34232354, 0.        , ..., 0.04191706,\n",
       "           0.18155006, 0.41136196],\n",
       "          ...,\n",
       "          [0.        , 0.34232354, 0.        , ..., 0.04191706,\n",
       "           0.18155006, 0.41136196],\n",
       "          [0.        , 0.34232354, 0.        , ..., 0.04191706,\n",
       "           0.18155006, 0.41136196],\n",
       "          [0.        , 0.34232354, 0.        , ..., 0.04191706,\n",
       "           0.18155006, 0.41136196]],\n",
       " \n",
       "         [[0.        , 0.34232354, 0.        , ..., 0.04191706,\n",
       "           0.18155006, 0.41136196],\n",
       "          [0.        , 0.34232354, 0.        , ..., 0.04191706,\n",
       "           0.18155006, 0.41136196],\n",
       "          [0.        , 0.34232354, 0.        , ..., 0.04191706,\n",
       "           0.18155006, 0.41136196],\n",
       "          ...,\n",
       "          [0.        , 0.34232354, 0.        , ..., 0.04191706,\n",
       "           0.18155006, 0.41136196],\n",
       "          [0.        , 0.34232354, 0.        , ..., 0.04191706,\n",
       "           0.18155006, 0.41136196],\n",
       "          [0.        , 0.34232354, 0.        , ..., 0.04191706,\n",
       "           0.18155006, 0.41136196]],\n",
       " \n",
       "         [[0.        , 0.34232354, 0.        , ..., 0.04191706,\n",
       "           0.18155006, 0.41136196],\n",
       "          [0.        , 0.34232354, 0.        , ..., 0.04191706,\n",
       "           0.18155006, 0.41136196],\n",
       "          [0.        , 0.34232354, 0.        , ..., 0.04191706,\n",
       "           0.18155006, 0.41136196],\n",
       "          ...,\n",
       "          [0.        , 0.34232354, 0.        , ..., 0.04191706,\n",
       "           0.18155006, 0.41136196],\n",
       "          [0.        , 0.34232354, 0.        , ..., 0.04191706,\n",
       "           0.18155006, 0.41136196],\n",
       "          [0.        , 0.34232354, 0.        , ..., 0.04191706,\n",
       "           0.18155006, 0.41136196]],\n",
       " \n",
       "         ...,\n",
       " \n",
       "         [[0.        , 0.34232354, 0.        , ..., 0.04191706,\n",
       "           0.18155006, 0.41136196],\n",
       "          [0.        , 0.34232354, 0.        , ..., 0.04191706,\n",
       "           0.18155006, 0.41136196],\n",
       "          [0.        , 0.34232354, 0.        , ..., 0.04191706,\n",
       "           0.18155006, 0.41136196],\n",
       "          ...,\n",
       "          [0.        , 0.34232354, 0.        , ..., 0.04191706,\n",
       "           0.18155006, 0.41136196],\n",
       "          [0.        , 0.34232354, 0.        , ..., 0.04191706,\n",
       "           0.18155006, 0.41136196],\n",
       "          [0.        , 0.34232354, 0.        , ..., 0.04191706,\n",
       "           0.18155006, 0.41136196]],\n",
       " \n",
       "         [[0.        , 0.34232354, 0.        , ..., 0.04191706,\n",
       "           0.18155006, 0.41136196],\n",
       "          [0.        , 0.34232354, 0.        , ..., 0.04191706,\n",
       "           0.18155006, 0.41136196],\n",
       "          [0.        , 0.34232354, 0.        , ..., 0.04191706,\n",
       "           0.18155006, 0.41136196],\n",
       "          ...,\n",
       "          [0.        , 0.34232354, 0.        , ..., 0.04191706,\n",
       "           0.18155006, 0.41136196],\n",
       "          [0.        , 0.34232354, 0.        , ..., 0.04191706,\n",
       "           0.18155006, 0.41136196],\n",
       "          [0.        , 0.34232354, 0.        , ..., 0.04191706,\n",
       "           0.18155006, 0.41136196]],\n",
       " \n",
       "         [[0.        , 0.34232354, 0.        , ..., 0.04191706,\n",
       "           0.18155006, 0.41136196],\n",
       "          [0.        , 0.34232354, 0.        , ..., 0.04191706,\n",
       "           0.18155006, 0.41136196],\n",
       "          [0.        , 0.34232354, 0.        , ..., 0.04191706,\n",
       "           0.18155006, 0.41136196],\n",
       "          ...,\n",
       "          [0.        , 0.34232354, 0.        , ..., 0.04191703,\n",
       "           0.18155004, 0.41136193],\n",
       "          [0.        , 0.34232354, 0.        , ..., 0.04191706,\n",
       "           0.18155003, 0.4113619 ],\n",
       "          [0.        , 0.3423235 , 0.        , ..., 0.04191704,\n",
       "           0.18155006, 0.411362  ]]]], dtype=float32)>,\n",
       " <tf.Tensor: shape=(1, 119, 119, 32), dtype=float32, numpy=\n",
       " array([[[[0.27187973, 0.02185965, 0.        , ..., 0.25052541,\n",
       "           0.0209411 , 0.        ],\n",
       "          [0.27187973, 0.02185965, 0.        , ..., 0.25052541,\n",
       "           0.0209411 , 0.        ],\n",
       "          [0.27187973, 0.02185965, 0.        , ..., 0.25052541,\n",
       "           0.0209411 , 0.        ],\n",
       "          ...,\n",
       "          [0.27187973, 0.02185965, 0.        , ..., 0.25052541,\n",
       "           0.0209411 , 0.        ],\n",
       "          [0.27187973, 0.02185965, 0.        , ..., 0.25052541,\n",
       "           0.0209411 , 0.        ],\n",
       "          [0.27187973, 0.02185965, 0.        , ..., 0.25052541,\n",
       "           0.0209411 , 0.        ]],\n",
       " \n",
       "         [[0.27187973, 0.02185965, 0.        , ..., 0.25052541,\n",
       "           0.0209411 , 0.        ],\n",
       "          [0.27187973, 0.02185965, 0.        , ..., 0.25052541,\n",
       "           0.0209411 , 0.        ],\n",
       "          [0.27187973, 0.02185965, 0.        , ..., 0.25052541,\n",
       "           0.0209411 , 0.        ],\n",
       "          ...,\n",
       "          [0.27187973, 0.02185965, 0.        , ..., 0.25052541,\n",
       "           0.0209411 , 0.        ],\n",
       "          [0.27187973, 0.02185965, 0.        , ..., 0.25052541,\n",
       "           0.0209411 , 0.        ],\n",
       "          [0.27187973, 0.02185965, 0.        , ..., 0.25052541,\n",
       "           0.0209411 , 0.        ]],\n",
       " \n",
       "         [[0.27187973, 0.02185965, 0.        , ..., 0.25052541,\n",
       "           0.0209411 , 0.        ],\n",
       "          [0.27187973, 0.02185965, 0.        , ..., 0.25052541,\n",
       "           0.0209411 , 0.        ],\n",
       "          [0.27187973, 0.02185965, 0.        , ..., 0.25052541,\n",
       "           0.0209411 , 0.        ],\n",
       "          ...,\n",
       "          [0.27187973, 0.02185965, 0.        , ..., 0.25052541,\n",
       "           0.0209411 , 0.        ],\n",
       "          [0.27187973, 0.02185965, 0.        , ..., 0.25052541,\n",
       "           0.0209411 , 0.        ],\n",
       "          [0.27187973, 0.02185965, 0.        , ..., 0.25052541,\n",
       "           0.0209411 , 0.        ]],\n",
       " \n",
       "         ...,\n",
       " \n",
       "         [[0.27187973, 0.02185965, 0.        , ..., 0.25052541,\n",
       "           0.0209411 , 0.        ],\n",
       "          [0.27187973, 0.02185965, 0.        , ..., 0.25052541,\n",
       "           0.0209411 , 0.        ],\n",
       "          [0.27187973, 0.02185965, 0.        , ..., 0.25052541,\n",
       "           0.0209411 , 0.        ],\n",
       "          ...,\n",
       "          [0.27187973, 0.02185965, 0.        , ..., 0.25052541,\n",
       "           0.0209411 , 0.        ],\n",
       "          [0.27187973, 0.02185965, 0.        , ..., 0.25052541,\n",
       "           0.0209411 , 0.        ],\n",
       "          [0.27187973, 0.02185965, 0.        , ..., 0.25052541,\n",
       "           0.0209411 , 0.        ]],\n",
       " \n",
       "         [[0.27187973, 0.02185965, 0.        , ..., 0.25052541,\n",
       "           0.0209411 , 0.        ],\n",
       "          [0.27187973, 0.02185965, 0.        , ..., 0.25052541,\n",
       "           0.0209411 , 0.        ],\n",
       "          [0.27187973, 0.02185965, 0.        , ..., 0.25052541,\n",
       "           0.0209411 , 0.        ],\n",
       "          ...,\n",
       "          [0.27187973, 0.02185965, 0.        , ..., 0.25052541,\n",
       "           0.0209411 , 0.        ],\n",
       "          [0.27187973, 0.02185965, 0.        , ..., 0.25052541,\n",
       "           0.0209411 , 0.        ],\n",
       "          [0.27187973, 0.02185965, 0.        , ..., 0.25052541,\n",
       "           0.0209411 , 0.        ]],\n",
       " \n",
       "         [[0.27187973, 0.02185965, 0.        , ..., 0.25052541,\n",
       "           0.0209411 , 0.        ],\n",
       "          [0.27187973, 0.02185965, 0.        , ..., 0.25052541,\n",
       "           0.0209411 , 0.        ],\n",
       "          [0.27187973, 0.02185965, 0.        , ..., 0.25052541,\n",
       "           0.0209411 , 0.        ],\n",
       "          ...,\n",
       "          [0.27187973, 0.02185966, 0.        , ..., 0.25052544,\n",
       "           0.0209411 , 0.        ],\n",
       "          [0.27187973, 0.02185963, 0.        , ..., 0.25052541,\n",
       "           0.02094109, 0.        ],\n",
       "          [0.2718798 , 0.02185956, 0.        , ..., 0.25052547,\n",
       "           0.02094112, 0.        ]]]], dtype=float32)>]"
      ]
     },
     "metadata": {},
     "execution_count": 25
    }
   ],
   "source": [
    "features"
   ]
  },
  {
   "cell_type": "markdown",
   "metadata": {
    "id": "4abef35355d3"
   },
   "source": [
    "Here's a similar example that only extract features from one layer:"
   ]
  },
  {
   "cell_type": "code",
   "execution_count": 30,
   "metadata": {
    "execution": {
     "iopub.execute_input": "2021-03-25T22:11:17.772019Z",
     "iopub.status.busy": "2021-03-25T22:11:17.769602Z",
     "iopub.status.idle": "2021-03-25T22:11:17.798291Z",
     "shell.execute_reply": "2021-03-25T22:11:17.797691Z"
    },
    "id": "fc404c7ac90e"
   },
   "outputs": [],
   "source": [
    "initial_model = keras.Sequential(\n",
    "    [\n",
    "        keras.Input(shape=(250, 250, 3)),\n",
    "        layers.Conv2D(32, 5, strides=2, activation=\"relu\"),\n",
    "        layers.Conv2D(32, 3, activation=\"relu\", name=\"my_intermediate_layer\"),\n",
    "        layers.Conv2D(32, 3, activation=\"relu\"),\n",
    "    ]\n",
    ")\n",
    "feature_extractor = keras.Model(\n",
    "    inputs=initial_model.inputs,\n",
    "    outputs=initial_model.get_layer(name=\"my_intermediate_layer\").output,\n",
    ")\n",
    "# Call feature extractor on test input.\n",
    "x = tf.ones((1, 250, 250, 3))\n",
    "features = feature_extractor(x)"
   ]
  },
  {
   "cell_type": "markdown",
   "metadata": {
    "id": "ab25cedd111e"
   },
   "source": [
    "## Transfer learning with a Sequential model\n",
    "\n",
    "Transfer learning consists of freezing the bottom layers in a model and only training\n",
    "the top layers. If you aren't familiar with it, make sure to read our [guide\n",
    "to transfer learning](https://www.tensorflow.org/guide/keras/transfer_learning/).\n",
    "\n",
    "Here are two common transfer learning blueprint involving Sequential models.\n",
    "\n",
    "First, let's say that you have a Sequential model, and you want to freeze all\n",
    "layers except the last one. In this case, you would simply iterate over\n",
    "`model.layers` and set `layer.trainable = False` on each layer, except the\n",
    "last one. Like this:\n",
    "\n",
    "以下の二つの例は完全なコードではない(所々関数の引数が...で省略されている)のでコードブロックになっている。実行しようとしても動かないことに注意。"
   ]
  },
  {
   "source": [
    "```python\n",
    "model = keras.Sequential([\n",
    "    keras.Input(shape=(784)),\n",
    "    layers.Dense(32, activation='relu'),\n",
    "    layers.Dense(32, activation='relu'),\n",
    "    layers.Dense(32, activation='relu'),\n",
    "    layers.Dense(10),\n",
    "])\n",
    "\n",
    "# Presumably you would want to first load pre-trained weights.\n",
    "model.load_weights(...)\n",
    "\n",
    "# Freeze all layers except the last one.\n",
    "for layer in model.layers[:-1]:\n",
    "  layer.trainable = False\n",
    "\n",
    "# Recompile and train (this will only update the weights of the last layer).\n",
    "model.compile(...)\n",
    "model.fit(...)\n",
    "```"
   ],
   "cell_type": "markdown",
   "metadata": {}
  },
  {
   "source": [
    "Another common blueprint is to use a Sequential model to stack a pre-trained\n",
    "model and some freshly initialized classification layers. Like this:\n"
   ],
   "cell_type": "markdown",
   "metadata": {}
  },
  {
   "source": [
    "```python\n",
    "# Load a convolutional base with pre-trained weights\n",
    "base_model = keras.applications.Xception(\n",
    "    weights='imagenet',\n",
    "    include_top=False,\n",
    "    pooling='avg')\n",
    "\n",
    "# Freeze the base model\n",
    "base_model.trainable = False\n",
    "\n",
    "# Use a Sequential model to add a trainable classifier on top\n",
    "model = keras.Sequential([\n",
    "    base_model,\n",
    "    layers.Dense(1000),\n",
    "])\n",
    "\n",
    "# Compile & train\n",
    "model.compile(...)\n",
    "model.fit(...)\n",
    "```"
   ],
   "cell_type": "markdown",
   "metadata": {}
  },
  {
   "source": [
    "If you do transfer learning, you will probably find yourself frequently using\n",
    "these two patterns."
   ],
   "cell_type": "markdown",
   "metadata": {}
  },
  {
   "cell_type": "markdown",
   "metadata": {
    "id": "fcffc33b61e5"
   },
   "source": [
    "That's about all you need to know about Sequential models!\n",
    "\n",
    "To find out more about building models in Keras, see:\n",
    "\n",
    "- [Guide to the Functional API](https://www.tensorflow.org/guide/keras/functional/)\n",
    "- [Guide to making new Layers & Models via subclassing](\n",
    "https://www.tensorflow.org/guide/keras/custom_layers_and_models/)"
   ]
  }
 ],
 "metadata": {
  "colab": {
   "collapsed_sections": [],
   "name": "sequential_model.ipynb",
   "toc_visible": true
  },
  "kernelspec": {
   "name": "python3",
   "display_name": "Python 3.8.5 64-bit ('anaconda3-2020.11': pyenv)"
  },
  "language_info": {
   "codemirror_mode": {
    "name": "ipython",
    "version": 3
   },
   "file_extension": ".py",
   "mimetype": "text/x-python",
   "name": "python",
   "nbconvert_exporter": "python",
   "pygments_lexer": "ipython3",
   "version": "3.8.5"
  },
  "interpreter": {
   "hash": "7493d80d1ed6541f83a23ef72047bb41b7756733e69a59a09bdc2861d19e9c1b"
  }
 },
 "nbformat": 4,
 "nbformat_minor": 0
}